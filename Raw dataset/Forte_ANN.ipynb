{
  "nbformat": 4,
  "nbformat_minor": 0,
  "metadata": {
    "colab": {
      "name": "Forte_ANN.ipynb",
      "version": "0.3.2",
      "provenance": [],
      "collapsed_sections": [],
      "toc_visible": true
    },
    "kernelspec": {
      "name": "python3",
      "display_name": "Python 3"
    },
    "accelerator": "GPU"
  },
  "cells": [
    {
      "metadata": {
        "id": "qbTfv0-yO7f-",
        "colab_type": "code",
        "colab": {}
      },
      "cell_type": "code",
      "source": [
        "import tensorflow as tf\n",
        "import tensorflow.keras as keras\n",
        "\n",
        "import pandas as pd\n",
        "import numpy as np\n",
        "import matplotlib.pyplot as plt\n",
        "import seaborn as sns"
      ],
      "execution_count": 0,
      "outputs": []
    },
    {
      "metadata": {
        "id": "iZSKR2dbP7qH",
        "colab_type": "code",
        "colab": {}
      },
      "cell_type": "code",
      "source": [
        "def import_and_authenticate():\n",
        "  !pip install -U -q PyDrive\n",
        "  from pydrive.auth import GoogleAuth\n",
        "  from pydrive.drive import GoogleDrive\n",
        "  from google.colab import auth\n",
        "  from oauth2client.client import GoogleCredentials\n",
        "\n",
        "  auth.authenticate_user()\n",
        "  gauth = GoogleAuth()\n",
        "  gauth.credentials = GoogleCredentials.get_application_default()\n",
        "  return GoogleDrive(gauth)\n",
        "\n",
        "def get_dataset(link, drive):\n",
        "  fluff, id = link.split('=')\n",
        "  downloaded = drive.CreateFile({'id':id}) \n",
        "  downloaded.GetContentFile('temp.csv')  \n",
        "  dataset = pd.read_csv('temp.csv')\n",
        "  return dataset\n",
        "\n",
        "def activate_drive():\n",
        "  from google.colab import drive\n",
        "  drive.mount('/content/gdrive')\n",
        "\n",
        "import matplotlib.pyplot as plt\n",
        "def plot_process(history, name):\n",
        "  plt.figure(figsize=(15,10))\n",
        "  plt.plot(history.history['loss'])\n",
        "  plt.plot(history.history['val_loss'])\n",
        "  plt.plot(history.history['mean_absolute_error'])\n",
        "  plt.plot(history.history['val_mean_absolute_error'])\n",
        "  plt.title('model Description')\n",
        "  plt.ylabel('Error')\n",
        "  plt.xlabel('epoch')\n",
        "  plt.legend(['train_loss', 'test_loss','train_mean_absolute_error','test_mean_absolute_error'], loc='upper left')\n",
        "  plt.show()\n",
        "  plt.savefig(name)"
      ],
      "execution_count": 0,
      "outputs": []
    },
    {
      "metadata": {
        "id": "67mcK80_RWaq",
        "colab_type": "code",
        "colab": {}
      },
      "cell_type": "code",
      "source": [
        "drive = import_and_authenticate()\n",
        "train = get_dataset('https://drive.google.com/open?id=1r895ehmjNucPkcfasZgVNKFJGjKA2AKd', drive) \n",
        "#train = get_dataset('https://drive.google.com/open?id=1Y2nkm8s3FAa4feA4m_ofjeiGf6VoyQ2f',drive) # Zero-filled\n"
      ],
      "execution_count": 0,
      "outputs": []
    },
    {
      "metadata": {
        "id": "mbBUmcWyE2AT",
        "colab_type": "code",
        "colab": {}
      },
      "cell_type": "code",
      "source": [
        "# Dropping универсальный товар & cleaning all except akbar \n",
        "train = train[train['item_id'] != 5037].copy()\n",
        "train = train[train['shop_id']==5].copy()"
      ],
      "execution_count": 0,
      "outputs": []
    },
    {
      "metadata": {
        "id": "CrqNHPb_yDFV",
        "colab_type": "code",
        "outputId": "0c8a224d-1dea-44eb-b2d7-5e95dbd70d9b",
        "colab": {
          "base_uri": "https://localhost:8080/",
          "height": 204
        }
      },
      "cell_type": "code",
      "source": [
        "train.head()"
      ],
      "execution_count": 154,
      "outputs": [
        {
          "output_type": "execute_result",
          "data": {
            "text/html": [
              "<div>\n",
              "<style scoped>\n",
              "    .dataframe tbody tr th:only-of-type {\n",
              "        vertical-align: middle;\n",
              "    }\n",
              "\n",
              "    .dataframe tbody tr th {\n",
              "        vertical-align: top;\n",
              "    }\n",
              "\n",
              "    .dataframe thead th {\n",
              "        text-align: right;\n",
              "    }\n",
              "</style>\n",
              "<table border=\"1\" class=\"dataframe\">\n",
              "  <thead>\n",
              "    <tr style=\"text-align: right;\">\n",
              "      <th></th>\n",
              "      <th>Unnamed: 0</th>\n",
              "      <th>week</th>\n",
              "      <th>day_of_week</th>\n",
              "      <th>item_id</th>\n",
              "      <th>item_cost</th>\n",
              "      <th>shop_id</th>\n",
              "      <th>item_quantity</th>\n",
              "    </tr>\n",
              "  </thead>\n",
              "  <tbody>\n",
              "    <tr>\n",
              "      <th>0</th>\n",
              "      <td>0</td>\n",
              "      <td>0</td>\n",
              "      <td>5</td>\n",
              "      <td>255</td>\n",
              "      <td>360.0</td>\n",
              "      <td>5</td>\n",
              "      <td>1.0</td>\n",
              "    </tr>\n",
              "    <tr>\n",
              "      <th>1</th>\n",
              "      <td>1</td>\n",
              "      <td>0</td>\n",
              "      <td>5</td>\n",
              "      <td>292</td>\n",
              "      <td>1400.0</td>\n",
              "      <td>5</td>\n",
              "      <td>1.0</td>\n",
              "    </tr>\n",
              "    <tr>\n",
              "      <th>2</th>\n",
              "      <td>2</td>\n",
              "      <td>0</td>\n",
              "      <td>5</td>\n",
              "      <td>515</td>\n",
              "      <td>170.0</td>\n",
              "      <td>5</td>\n",
              "      <td>1.0</td>\n",
              "    </tr>\n",
              "    <tr>\n",
              "      <th>3</th>\n",
              "      <td>3</td>\n",
              "      <td>0</td>\n",
              "      <td>5</td>\n",
              "      <td>549</td>\n",
              "      <td>400.0</td>\n",
              "      <td>5</td>\n",
              "      <td>1.0</td>\n",
              "    </tr>\n",
              "    <tr>\n",
              "      <th>4</th>\n",
              "      <td>4</td>\n",
              "      <td>0</td>\n",
              "      <td>5</td>\n",
              "      <td>664</td>\n",
              "      <td>3100.0</td>\n",
              "      <td>5</td>\n",
              "      <td>1.0</td>\n",
              "    </tr>\n",
              "  </tbody>\n",
              "</table>\n",
              "</div>"
            ],
            "text/plain": [
              "   Unnamed: 0  week  day_of_week  item_id  item_cost  shop_id  item_quantity\n",
              "0           0     0            5      255      360.0        5            1.0\n",
              "1           1     0            5      292     1400.0        5            1.0\n",
              "2           2     0            5      515      170.0        5            1.0\n",
              "3           3     0            5      549      400.0        5            1.0\n",
              "4           4     0            5      664     3100.0        5            1.0"
            ]
          },
          "metadata": {
            "tags": []
          },
          "execution_count": 154
        }
      ]
    },
    {
      "metadata": {
        "id": "SKhB64JcZQVb",
        "colab_type": "code",
        "colab": {}
      },
      "cell_type": "code",
      "source": [
        "## Dropping trash in dataset\n",
        "train = train.drop(columns = train.columns.values[0])"
      ],
      "execution_count": 0,
      "outputs": []
    },
    {
      "metadata": {
        "id": "Kzul4JwLqh3u",
        "colab_type": "code",
        "outputId": "b28b13e9-8cdd-41d7-d16b-b757a946e85d",
        "colab": {
          "base_uri": "https://localhost:8080/",
          "height": 204
        }
      },
      "cell_type": "code",
      "source": [
        "train.head()"
      ],
      "execution_count": 156,
      "outputs": [
        {
          "output_type": "execute_result",
          "data": {
            "text/html": [
              "<div>\n",
              "<style scoped>\n",
              "    .dataframe tbody tr th:only-of-type {\n",
              "        vertical-align: middle;\n",
              "    }\n",
              "\n",
              "    .dataframe tbody tr th {\n",
              "        vertical-align: top;\n",
              "    }\n",
              "\n",
              "    .dataframe thead th {\n",
              "        text-align: right;\n",
              "    }\n",
              "</style>\n",
              "<table border=\"1\" class=\"dataframe\">\n",
              "  <thead>\n",
              "    <tr style=\"text-align: right;\">\n",
              "      <th></th>\n",
              "      <th>week</th>\n",
              "      <th>day_of_week</th>\n",
              "      <th>item_id</th>\n",
              "      <th>item_cost</th>\n",
              "      <th>shop_id</th>\n",
              "      <th>item_quantity</th>\n",
              "    </tr>\n",
              "  </thead>\n",
              "  <tbody>\n",
              "    <tr>\n",
              "      <th>0</th>\n",
              "      <td>0</td>\n",
              "      <td>5</td>\n",
              "      <td>255</td>\n",
              "      <td>360.0</td>\n",
              "      <td>5</td>\n",
              "      <td>1.0</td>\n",
              "    </tr>\n",
              "    <tr>\n",
              "      <th>1</th>\n",
              "      <td>0</td>\n",
              "      <td>5</td>\n",
              "      <td>292</td>\n",
              "      <td>1400.0</td>\n",
              "      <td>5</td>\n",
              "      <td>1.0</td>\n",
              "    </tr>\n",
              "    <tr>\n",
              "      <th>2</th>\n",
              "      <td>0</td>\n",
              "      <td>5</td>\n",
              "      <td>515</td>\n",
              "      <td>170.0</td>\n",
              "      <td>5</td>\n",
              "      <td>1.0</td>\n",
              "    </tr>\n",
              "    <tr>\n",
              "      <th>3</th>\n",
              "      <td>0</td>\n",
              "      <td>5</td>\n",
              "      <td>549</td>\n",
              "      <td>400.0</td>\n",
              "      <td>5</td>\n",
              "      <td>1.0</td>\n",
              "    </tr>\n",
              "    <tr>\n",
              "      <th>4</th>\n",
              "      <td>0</td>\n",
              "      <td>5</td>\n",
              "      <td>664</td>\n",
              "      <td>3100.0</td>\n",
              "      <td>5</td>\n",
              "      <td>1.0</td>\n",
              "    </tr>\n",
              "  </tbody>\n",
              "</table>\n",
              "</div>"
            ],
            "text/plain": [
              "   week  day_of_week  item_id  item_cost  shop_id  item_quantity\n",
              "0     0            5      255      360.0        5            1.0\n",
              "1     0            5      292     1400.0        5            1.0\n",
              "2     0            5      515      170.0        5            1.0\n",
              "3     0            5      549      400.0        5            1.0\n",
              "4     0            5      664     3100.0        5            1.0"
            ]
          },
          "metadata": {
            "tags": []
          },
          "execution_count": 156
        }
      ]
    },
    {
      "metadata": {
        "id": "zOJJFokdvby1",
        "colab_type": "text"
      },
      "cell_type": "markdown",
      "source": [
        "# Model preprocessing"
      ]
    },
    {
      "metadata": {
        "id": "2HMJEYXIqtxT",
        "colab_type": "text"
      },
      "cell_type": "markdown",
      "source": [
        "## Splitting into Train & Test"
      ]
    },
    {
      "metadata": {
        "id": "fhkBTtU_qxFL",
        "colab_type": "code",
        "colab": {}
      },
      "cell_type": "code",
      "source": [
        "def split_into_train_and_test(dataset):\n",
        "  last_week = dataset['week'].max() # 19 week\n",
        "  dataset = dataset[dataset['week'] != last_week]\n",
        "\n",
        "  last_week = dataset['week'].max() # 18 week\n",
        "  test = dataset[dataset['week'] == last_week].copy() # 18 week\n",
        "  train = dataset[dataset['week'] != last_week] # All before 18 week\n",
        "  return train,test\n",
        "\n",
        "train, test = split_into_train_and_test(train)"
      ],
      "execution_count": 0,
      "outputs": []
    },
    {
      "metadata": {
        "id": "ubp8mvpXr_Uh",
        "colab_type": "code",
        "outputId": "fc923d3a-e36f-4df2-c6b3-348f503f0ba3",
        "colab": {
          "base_uri": "https://localhost:8080/",
          "height": 51
        }
      },
      "cell_type": "code",
      "source": [
        "print(f\"Last week of test: {test['week'].max()}\\nLast week of train: {train['week'].max()}.\")"
      ],
      "execution_count": 158,
      "outputs": [
        {
          "output_type": "stream",
          "text": [
            "Last week of test: 18\n",
            "Last week of train: 17.\n"
          ],
          "name": "stdout"
        }
      ]
    },
    {
      "metadata": {
        "id": "kRrk0NfCY3I2",
        "colab_type": "text"
      },
      "cell_type": "markdown",
      "source": [
        "## Splitting into X & y"
      ]
    },
    {
      "metadata": {
        "id": "UI4I4vf9ohje",
        "colab_type": "code",
        "colab": {}
      },
      "cell_type": "code",
      "source": [
        "def split(dataset):\n",
        "  return dataset[dataset.columns.values[:-1]].values, np.reshape(dataset[dataset.columns.values[-1]].values,(-1,1))\n",
        "X_train, y_train = split(train)\n",
        "X_test, y_test = split(test)\n"
      ],
      "execution_count": 0,
      "outputs": []
    },
    {
      "metadata": {
        "id": "V-8CZiLnlRm9",
        "colab_type": "text"
      },
      "cell_type": "markdown",
      "source": [
        "## Scaling for Neural Network"
      ]
    },
    {
      "metadata": {
        "id": "RB1qbN5DlVeQ",
        "colab_type": "code",
        "colab": {}
      },
      "cell_type": "code",
      "source": [
        "from sklearn.preprocessing import MinMaxScaler\n",
        "X_scaler = MinMaxScaler(feature_range=(-1, 1), copy=True)\n",
        "y_scaler = MinMaxScaler(feature_range=(-1, 1), copy=True)"
      ],
      "execution_count": 0,
      "outputs": []
    },
    {
      "metadata": {
        "id": "dbsJpToOZAsX",
        "colab_type": "code",
        "outputId": "814ae7cd-efcb-4b01-cf12-aa05e5348e42",
        "colab": {
          "base_uri": "https://localhost:8080/",
          "height": 34
        }
      },
      "cell_type": "code",
      "source": [
        "X_scaler.fit(X_train)\n",
        "y_scaler.fit(y_train)"
      ],
      "execution_count": 161,
      "outputs": [
        {
          "output_type": "execute_result",
          "data": {
            "text/plain": [
              "MinMaxScaler(copy=True, feature_range=(-1, 1))"
            ]
          },
          "metadata": {
            "tags": []
          },
          "execution_count": 161
        }
      ]
    },
    {
      "metadata": {
        "id": "i2oLTdA_Zlkt",
        "colab_type": "code",
        "colab": {}
      },
      "cell_type": "code",
      "source": [
        "X_train_scaled = X_scaler.transform(X_train)\n",
        "y_train_scaled = y_scaler.transform(y_train)"
      ],
      "execution_count": 0,
      "outputs": []
    },
    {
      "metadata": {
        "id": "YRaWVdsEu4kk",
        "colab_type": "code",
        "colab": {}
      },
      "cell_type": "code",
      "source": [
        "X_test_scaled = X_scaler.transform(X_test)\n",
        "y_test_scaled = y_scaler.transform(y_test)"
      ],
      "execution_count": 0,
      "outputs": []
    },
    {
      "metadata": {
        "id": "r09qc6tAvf2l",
        "colab_type": "text"
      },
      "cell_type": "markdown",
      "source": [
        "## Model building"
      ]
    },
    {
      "metadata": {
        "id": "uU3_AA1Yw2pO",
        "colab_type": "code",
        "outputId": "45da0beb-4c88-410b-dea5-9fdc86a382c3",
        "colab": {
          "base_uri": "https://localhost:8080/",
          "height": 680
        }
      },
      "cell_type": "code",
      "source": [
        "model = keras.models.Sequential()\n",
        "model.add(keras.layers.Dense(20, input_shape = (X_train_scaled.shape[1],), use_bias=False))\n",
        "model.add(keras.layers.BatchNormalization(axis = -1))\n",
        "model.add(keras.layers.Activation('tanh'))\n",
        "model.add(keras.layers.Dense(15,use_bias = True))\n",
        "model.add(keras.layers.BatchNormalization(axis = -1))\n",
        "model.add(keras.layers.LeakyReLU(alpha=0.2))\n",
        "model.add(keras.layers.Dense(10,use_bias = True))\n",
        "model.add(keras.layers.BatchNormalization(axis = -1))\n",
        "model.add(keras.layers.Activation('tanh'))\n",
        "model.add(keras.layers.Dense(10,use_bias = True))\n",
        "model.add(keras.layers.BatchNormalization(axis = -1))\n",
        "model.add(keras.layers.LeakyReLU(alpha=0.2))\n",
        "model.add(keras.layers.Dense(5,use_bias = True))\n",
        "model.add(keras.layers.BatchNormalization(axis = -1))\n",
        "model.add(keras.layers.LeakyReLU(alpha=0.2))\n",
        "model.add(keras.layers.Dense(1))\n",
        "model.summary()"
      ],
      "execution_count": 164,
      "outputs": [
        {
          "output_type": "stream",
          "text": [
            "_________________________________________________________________\n",
            "Layer (type)                 Output Shape              Param #   \n",
            "=================================================================\n",
            "dense_12 (Dense)             (None, 20)                100       \n",
            "_________________________________________________________________\n",
            "batch_normalization_v1_11 (B (None, 20)                80        \n",
            "_________________________________________________________________\n",
            "activation_5 (Activation)    (None, 20)                0         \n",
            "_________________________________________________________________\n",
            "dense_13 (Dense)             (None, 15)                315       \n",
            "_________________________________________________________________\n",
            "batch_normalization_v1_12 (B (None, 15)                60        \n",
            "_________________________________________________________________\n",
            "leaky_re_lu_7 (LeakyReLU)    (None, 15)                0         \n",
            "_________________________________________________________________\n",
            "dense_14 (Dense)             (None, 10)                160       \n",
            "_________________________________________________________________\n",
            "batch_normalization_v1_13 (B (None, 10)                40        \n",
            "_________________________________________________________________\n",
            "activation_6 (Activation)    (None, 10)                0         \n",
            "_________________________________________________________________\n",
            "dense_15 (Dense)             (None, 10)                110       \n",
            "_________________________________________________________________\n",
            "batch_normalization_v1_14 (B (None, 10)                40        \n",
            "_________________________________________________________________\n",
            "leaky_re_lu_8 (LeakyReLU)    (None, 10)                0         \n",
            "_________________________________________________________________\n",
            "dense_16 (Dense)             (None, 5)                 55        \n",
            "_________________________________________________________________\n",
            "batch_normalization_v1_15 (B (None, 5)                 20        \n",
            "_________________________________________________________________\n",
            "leaky_re_lu_9 (LeakyReLU)    (None, 5)                 0         \n",
            "_________________________________________________________________\n",
            "dense_17 (Dense)             (None, 1)                 6         \n",
            "=================================================================\n",
            "Total params: 986\n",
            "Trainable params: 866\n",
            "Non-trainable params: 120\n",
            "_________________________________________________________________\n"
          ],
          "name": "stdout"
        }
      ]
    },
    {
      "metadata": {
        "id": "vtto_JbI0wh7",
        "colab_type": "code",
        "colab": {}
      },
      "cell_type": "code",
      "source": [
        "BATCH_SIZE = 10\n",
        "model.compile(optimizer = keras.optimizers.Adam(), loss='mean_squared_error', metrics = ['mean_absolute_error'])"
      ],
      "execution_count": 0,
      "outputs": []
    },
    {
      "metadata": {
        "id": "gNDIJfdDza_b",
        "colab_type": "code",
        "outputId": "0448d2f3-8fff-4e36-c147-3784a59f699f",
        "colab": {
          "base_uri": "https://localhost:8080/",
          "height": 1020
        }
      },
      "cell_type": "code",
      "source": [
        "history = model.fit(x = X_train_scaled, y = y_train_scaled, batch_size = BATCH_SIZE, epochs = 10, validation_data = (X_test_scaled, y_test_scaled))"
      ],
      "execution_count": 166,
      "outputs": [
        {
          "output_type": "stream",
          "text": [
            "Train on 47859 samples, validate on 2926 samples\n",
            "Epoch 1/10\n",
            "47859/47859 [==============================] - 46s 961us/sample - loss: 0.0159 - mean_absolute_error: 0.0600 - val_loss: 6.7171e-04 - val_mean_absolute_error: 0.0181\n",
            "Epoch 2/10\n",
            "47859/47859 [==============================] - 44s 912us/sample - loss: 6.8080e-04 - mean_absolute_error: 0.0167 - val_loss: 3.6195e-04 - val_mean_absolute_error: 0.0081\n",
            "Epoch 3/10\n",
            "47859/47859 [==============================] - 43s 894us/sample - loss: 3.8184e-04 - mean_absolute_error: 0.0099 - val_loss: 4.6483e-04 - val_mean_absolute_error: 0.0123\n",
            "Epoch 4/10\n",
            "47859/47859 [==============================] - 44s 920us/sample - loss: 3.2534e-04 - mean_absolute_error: 0.0079 - val_loss: 3.2083e-04 - val_mean_absolute_error: 0.0061\n",
            "Epoch 5/10\n",
            "47859/47859 [==============================] - 42s 881us/sample - loss: 3.1114e-04 - mean_absolute_error: 0.0072 - val_loss: 3.2376e-04 - val_mean_absolute_error: 0.0064\n",
            "Epoch 6/10\n",
            "47859/47859 [==============================] - 44s 914us/sample - loss: 3.0035e-04 - mean_absolute_error: 0.0068 - val_loss: 4.8856e-04 - val_mean_absolute_error: 0.0124\n",
            "Epoch 7/10\n",
            "47859/47859 [==============================] - 44s 918us/sample - loss: 2.9180e-04 - mean_absolute_error: 0.0064 - val_loss: 3.0875e-04 - val_mean_absolute_error: 0.0051\n",
            "Epoch 8/10\n",
            "47859/47859 [==============================] - 44s 926us/sample - loss: 2.8663e-04 - mean_absolute_error: 0.0062 - val_loss: 2.8688e-04 - val_mean_absolute_error: 0.0055\n",
            "Epoch 9/10\n",
            "47859/47859 [==============================] - 45s 930us/sample - loss: 2.8150e-04 - mean_absolute_error: 0.0059 - val_loss: 2.9485e-04 - val_mean_absolute_error: 0.0054\n",
            "Epoch 10/10\n",
            "47859/47859 [==============================] - 59s 1ms/sample - loss: 2.7990e-04 - mean_absolute_error: 0.0058 - val_loss: 2.9046e-04 - val_mean_absolute_error: 0.0051\n"
          ],
          "name": "stdout"
        }
      ]
    },
    {
      "metadata": {
        "id": "JPF-VrNNVtXE",
        "colab_type": "text"
      },
      "cell_type": "markdown",
      "source": [
        "# Model loading"
      ]
    },
    {
      "metadata": {
        "id": "8T-bbR-i5NGz",
        "colab_type": "text"
      },
      "cell_type": "markdown",
      "source": [
        "## Visualization"
      ]
    },
    {
      "metadata": {
        "id": "eDF3Wp2n0uNk",
        "colab_type": "code",
        "outputId": "cba1cb23-c138-4335-dc2f-dcf377377540",
        "colab": {
          "base_uri": "https://localhost:8080/",
          "height": 638
        }
      },
      "cell_type": "code",
      "source": [
        "plot_process(history, 'Linear.png')"
      ],
      "execution_count": 167,
      "outputs": [
        {
          "output_type": "display_data",
          "data": {
            "image/png": "[encoded data removed]",
            "text/plain": [
              "<Figure size 1080x720 with 1 Axes>"
            ]
          },
          "metadata": {
            "tags": []
          }
        },
        {
          "output_type": "display_data",
          "data": {
            "text/plain": [
              "<Figure size 432x288 with 0 Axes>"
            ]
          },
          "metadata": {
            "tags": []
          }
        }
      ]
    },
    {
      "metadata": {
        "id": "W7Ei2gEXI_2S",
        "colab_type": "text"
      },
      "cell_type": "markdown",
      "source": [
        "## Small evaluation"
      ]
    },
    {
      "metadata": {
        "id": "JOCHfEyi3P7z",
        "colab_type": "code",
        "colab": {}
      },
      "cell_type": "code",
      "source": [
        "# Fetching absolute & relative errors\n",
        "absolute_error = y_scaler.inverse_transform(np.reshape(history.history['val_mean_absolute_error'],(-1,1)))[-1][0]\n",
        "total_sales = test[['week','item_quantity']].groupby(by = ['week']).agg({'item_quantity':'sum'}).reset_index().iloc[0,1]"
      ],
      "execution_count": 0,
      "outputs": []
    },
    {
      "metadata": {
        "id": "W9T6FqFGIpjj",
        "colab_type": "code",
        "outputId": "daaada9f-7921-4dfe-d410-98b88305b427",
        "colab": {
          "base_uri": "https://localhost:8080/",
          "height": 51
        }
      },
      "cell_type": "code",
      "source": [
        "print(f\"Total absolute error: {absolute_error}\\nTotal relative error: {absolute_error/total_sales}%\")"
      ],
      "execution_count": 181,
      "outputs": [
        {
          "output_type": "stream",
          "text": [
            "Total absolute error: 286.45916748046875\n",
            "Total relative error: 0.03878407358251675%\n"
          ],
          "name": "stdout"
        }
      ]
    },
    {
      "metadata": {
        "id": "VW4NamYCTQWa",
        "colab_type": "text"
      },
      "cell_type": "markdown",
      "source": [
        "## Model saving & Transferring to google cloud"
      ]
    },
    {
      "metadata": {
        "id": "c3z8aYqlTRh1",
        "colab_type": "code",
        "colab": {}
      },
      "cell_type": "code",
      "source": [
        "#model.save('Forte_MLP.h5')\n",
        "model = keras.models.load_model('Forte_MLP.h5')"
      ],
      "execution_count": 0,
      "outputs": []
    },
    {
      "metadata": {
        "id": "zL9p4_VtUM3i",
        "colab_type": "code",
        "outputId": "76e135e1-e2b9-4bd7-9685-5eaf7a58b2b2",
        "colab": {
          "base_uri": "https://localhost:8080/",
          "height": 163
        }
      },
      "cell_type": "code",
      "source": [
        "activate_drive()\n",
        "!cp Forte_MLP.h5 gdrive/My\\ Drive/Colab\\ Notebooks/Models/Forte"
      ],
      "execution_count": 174,
      "outputs": [
        {
          "output_type": "stream",
          "text": [
            "Drive already mounted at /content/gdrive; to attempt to forcibly remount, call drive.mount(\"/content/gdrive\", force_remount=True).\n"
          ],
          "name": "stdout"
        }
      ]
    },
    {
      "metadata": {
        "id": "hfAtE_CrQywX",
        "colab_type": "code",
        "colab": {}
      },
      "cell_type": "code",
      "source": [
        ""
      ],
      "execution_count": 0,
      "outputs": []
    },
    {
      "metadata": {
        "id": "zL5Zl91cVUq-",
        "colab_type": "text"
      },
      "cell_type": "markdown",
      "source": [
        "## Deeper evaluation"
      ]
    },
    {
      "metadata": {
        "id": "17hzeeWKVW_E",
        "colab_type": "code",
        "colab": {}
      },
      "cell_type": "code",
      "source": [
        "# prediction on y_test\n",
        "y_test_predicted_scaled = model.predict(X_test_scaled)\n",
        "y_test_predicted = y_scaler.inverse_transform(y_test_predicted_scaled)\n",
        "y_test_predicted = np.round(y_test_predicted)\n",
        "\n",
        "# prediction on y_train\n",
        "y_train_predicted_scaled = model.predict(X_train_scaled)\n",
        "y_train_predicted = y_scaler.inverse_transform(y_train_predicted_scaled)\n",
        "y_train_predicted = np.round(y_train_predicted)\n",
        "\n",
        "# Building a predicted train dataframe\n",
        "train_predicted = train.copy()\n",
        "train_predicted['item_quantity'] = y_train_predicted\n",
        "\n",
        "# Building a predicted test dataframe\n",
        "test_predicted = test.copy()\n",
        "test_predicted['item_quantity'] = y_test_predicted\n",
        "\n",
        "# Grouping by week number\n",
        "train_predicted_grouped = train_predicted[['week','item_quantity']].groupby(['week']).agg({'item_quantity':'sum'}).reset_index().apply(lambda x: x)\n",
        "test_predicted_grouped = test_predicted[['week','item_quantity']].groupby(['week']).agg({'item_quantity':'sum'}).reset_index().apply(lambda x: x)"
      ],
      "execution_count": 0,
      "outputs": []
    },
    {
      "metadata": {
        "id": "18OJJHETKMAU",
        "colab_type": "code",
        "colab": {
          "base_uri": "https://localhost:8080/",
          "height": 204
        },
        "outputId": "623505c4-de7e-423e-baee-7579866e9e6d"
      },
      "cell_type": "code",
      "source": [
        "test.info()"
      ],
      "execution_count": 185,
      "outputs": [
        {
          "output_type": "stream",
          "text": [
            "<class 'pandas.core.frame.DataFrame'>\n",
            "Int64Index: 2926 entries, 56198 to 59504\n",
            "Data columns (total 6 columns):\n",
            "week             2926 non-null int64\n",
            "day_of_week      2926 non-null int64\n",
            "item_id          2926 non-null int64\n",
            "item_cost        2926 non-null float64\n",
            "shop_id          2926 non-null int64\n",
            "item_quantity    2926 non-null float64\n",
            "dtypes: float64(2), int64(4)\n",
            "memory usage: 160.0 KB\n"
          ],
          "name": "stdout"
        }
      ]
    },
    {
      "metadata": {
        "id": "Cn7yC51PKYP4",
        "colab_type": "code",
        "colab": {
          "base_uri": "https://localhost:8080/",
          "height": 34
        },
        "outputId": "449b614d-60ff-4576-cf21-689df3c41e05"
      },
      "cell_type": "code",
      "source": [
        "y_test_predicted.shape"
      ],
      "execution_count": 186,
      "outputs": [
        {
          "output_type": "execute_result",
          "data": {
            "text/plain": [
              "(2926, 1)"
            ]
          },
          "metadata": {
            "tags": []
          },
          "execution_count": 186
        }
      ]
    },
    {
      "metadata": {
        "id": "7T4SW8rtn6yP",
        "colab_type": "code",
        "colab": {}
      },
      "cell_type": "code",
      "source": [
        "# Grouping a datasets with actual datas\n",
        "\n",
        "train_grouped = train[['week','item_quantity']].groupby(['week']).agg({'item_quantity':'sum'}).reset_index().apply(lambda x: x)\n",
        "test_grouped = test[['week','item_quantity']].groupby(['week']).agg({'item_quantity':'sum'}).reset_index().apply(lambda x: x)"
      ],
      "execution_count": 0,
      "outputs": []
    },
    {
      "metadata": {
        "id": "fnS5m5OngsBn",
        "colab_type": "code",
        "outputId": "9de65bc3-5b84-4417-f857-bd5a68ee61fb",
        "colab": {
          "base_uri": "https://localhost:8080/",
          "height": 621
        }
      },
      "cell_type": "code",
      "source": [
        "plt.figure(figsize=(15,10))\n",
        "\n",
        "plt.plot(train_grouped['week'], train_grouped['item_quantity'], color = 'black', alpha = 0.7)\n",
        "plt.scatter(test_grouped['week'], test_grouped['item_quantity'], color = 'black', alpha = 0.7)\n",
        "\n",
        "plt.plot(train_predicted_grouped['week'], train_predicted_grouped['item_quantity'], color = 'purple', alpha = 0.7)\n",
        "plt.scatter(test_predicted_grouped['week'], test_predicted_grouped['item_quantity'], color = 'purple', alpha = 0.7)\n",
        "\n",
        "plt.title('Actual vs Prediciton')\n",
        "plt.ylabel('Item count')\n",
        "plt.xlabel('Month')\n",
        "plt.legend(['Black - actual', 'Purple - predicted'], loc='upper right')\n",
        "plt.show()"
      ],
      "execution_count": 189,
      "outputs": [
        {
          "output_type": "display_data",
          "data": {
            "image/png": "[encoded data removed]",
            "text/plain": [
              "<Figure size 1080x720 with 1 Axes>"
            ]
          },
          "metadata": {
            "tags": []
          }
        }
      ]
    },
    {
      "metadata": {
        "id": "iIm07M2hSyJN",
        "colab_type": "code",
        "colab": {}
      },
      "cell_type": "code",
      "source": [
        ""
      ],
      "execution_count": 0,
      "outputs": []
    }
  ]
}