{
  "nbformat": 4,
  "nbformat_minor": 0,
  "metadata": {
    "colab": {
      "name": "Forte_LSTM_on_non_zero.ipynb",
      "version": "0.3.2",
      "provenance": [],
      "collapsed_sections": [],
      "toc_visible": true
    },
    "kernelspec": {
      "name": "python3",
      "display_name": "Python 3"
    },
    "accelerator": "GPU"
  },
  "cells": [
    {
      "metadata": {
        "id": "HyyqqUvnK2VY",
        "colab_type": "code",
        "colab": {}
      },
      "cell_type": "code",
      "source": [
        "import tensorflow as tf\n",
        "import tensorflow.keras as keras\n",
        "import pandas as pd\n",
        "import numpy as np\n",
        "import matplotlib.pyplot as plt\n",
        "import seaborn as sns"
      ],
      "execution_count": 0,
      "outputs": []
    },
    {
      "metadata": {
        "id": "IUT7ByqrK8Sv",
        "colab_type": "code",
        "colab": {}
      },
      "cell_type": "code",
      "source": [
        "def import_and_authenticate():\n",
        "  !pip install -U -q PyDrive\n",
        "  from pydrive.auth import GoogleAuth\n",
        "  from pydrive.drive import GoogleDrive\n",
        "  from google.colab import auth\n",
        "  from oauth2client.client import GoogleCredentials\n",
        "\n",
        "  auth.authenticate_user()\n",
        "  gauth = GoogleAuth()\n",
        "  gauth.credentials = GoogleCredentials.get_application_default()\n",
        "  return GoogleDrive(gauth)\n",
        "\n",
        "def get_dataset(link, drive):\n",
        "  fluff, id = link.split('=')\n",
        "  downloaded = drive.CreateFile({'id':id}) \n",
        "  downloaded.GetContentFile('temp.csv')  \n",
        "  dataset = pd.read_csv('temp.csv')\n",
        "  return dataset\n",
        "\n",
        "def activate_drive():\n",
        "  from google.colab import drive\n",
        "  drive.mount('/content/gdrive')\n",
        "\n",
        "import matplotlib.pyplot as plt\n",
        "def plot_process(history, name):\n",
        "  plt.figure(figsize=(15,10))\n",
        "  plt.plot(history.history['loss'])\n",
        "  plt.plot(history.history['val_loss'])\n",
        "  plt.plot(history.history['mean_squared_error'])\n",
        "  plt.plot(history.history['val_mean_squared_error'])\n",
        "  plt.title('model Description')\n",
        "  plt.ylabel('Error')\n",
        "  plt.xlabel('epoch')\n",
        "  plt.legend(['train_loss', 'test_loss','train_mean_squared_error','test_mean_squared_error'], loc='upper left')\n",
        "  plt.show()\n",
        "  plt.savefig(name)"
      ],
      "execution_count": 0,
      "outputs": []
    },
    {
      "metadata": {
        "id": "aL5ros0tK9zw",
        "colab_type": "code",
        "colab": {}
      },
      "cell_type": "code",
      "source": [
        "drive = import_and_authenticate()\n",
        "#train = get_dataset('https://drive.google.com/open?id=1r895ehmjNucPkcfasZgVNKFJGjKA2AKd', drive) // Not modified\n",
        "train = get_dataset('https://drive.google.com/open?id=1Y2nkm8s3FAa4feA4m_ofjeiGf6VoyQ2f',drive) # Zero-filled"
      ],
      "execution_count": 0,
      "outputs": []
    },
    {
      "metadata": {
        "id": "T7OJyc1TLUi6",
        "colab_type": "code",
        "outputId": "54ab4b0f-8f2b-460b-e330-125edba56419",
        "colab": {
          "base_uri": "https://localhost:8080/",
          "height": 48
        }
      },
      "cell_type": "code",
      "source": [
        "train[train['id']==4]"
      ],
      "execution_count": 4,
      "outputs": [
        {
          "output_type": "execute_result",
          "data": {
            "text/html": [
              "<div>\n",
              "<style scoped>\n",
              "    .dataframe tbody tr th:only-of-type {\n",
              "        vertical-align: middle;\n",
              "    }\n",
              "\n",
              "    .dataframe tbody tr th {\n",
              "        vertical-align: top;\n",
              "    }\n",
              "\n",
              "    .dataframe thead th {\n",
              "        text-align: right;\n",
              "    }\n",
              "</style>\n",
              "<table border=\"1\" class=\"dataframe\">\n",
              "  <thead>\n",
              "    <tr style=\"text-align: right;\">\n",
              "      <th></th>\n",
              "      <th>date</th>\n",
              "      <th>id</th>\n",
              "      <th>cost</th>\n",
              "      <th>sold</th>\n",
              "    </tr>\n",
              "  </thead>\n",
              "  <tbody>\n",
              "  </tbody>\n",
              "</table>\n",
              "</div>"
            ],
            "text/plain": [
              "Empty DataFrame\n",
              "Columns: [date, id, cost, sold]\n",
              "Index: []"
            ]
          },
          "metadata": {
            "tags": []
          },
          "execution_count": 4
        }
      ]
    },
    {
      "metadata": {
        "id": "5E-tjkzFLkN-",
        "colab_type": "text"
      },
      "cell_type": "markdown",
      "source": [
        "## Renaming columns"
      ]
    },
    {
      "metadata": {
        "id": "L0T-eik0Lm7w",
        "colab_type": "code",
        "colab": {}
      },
      "cell_type": "code",
      "source": [
        "train.rename(columns={'date':'created_date','sold':'item_quantity'}, inplace=True)"
      ],
      "execution_count": 0,
      "outputs": []
    },
    {
      "metadata": {
        "id": "yGif1T2nLpVg",
        "colab_type": "text"
      },
      "cell_type": "markdown",
      "source": [
        "## Date preprocessing"
      ]
    },
    {
      "metadata": {
        "id": "RIOWRaSVLrFX",
        "colab_type": "code",
        "colab": {}
      },
      "cell_type": "code",
      "source": [
        "# Casting to date column created_date\n",
        "train['created_date'] = pd.to_datetime(train['created_date'], format='%Y-%m-%d')\n",
        "\n",
        "# Fetching a year\n",
        "train['day_in_year'] = train['created_date'].dt.dayofyear\n",
        "minim = min(train['created_date'].dt.year)\n",
        "train['year'] = train['created_date'].dt.year - minim\n",
        "train.head(4)\n",
        "\n",
        "# Linerizing a day according year\n",
        "lowest_day = train[train['year']==0]['day_in_year'].min()\n",
        "highest_day = train[train['year']==0]['day_in_year'].max()\n",
        "train['day_number'] = train['year'] * highest_day + train['day_in_year'] - lowest_day + 5\n",
        "\n",
        "# Week Binning\n",
        "train['week'] = np.int32(train['day_number'] / 7)\n",
        "train['day_of_week'] = np.int32(train['day_number'] % 7)\n",
        "train.drop(columns = ['created_date','day_in_year','year','day_of_week'], inplace = True)\n",
        "\n",
        "train = train[['id','cost','day_number','week','item_quantity']]"
      ],
      "execution_count": 0,
      "outputs": []
    },
    {
      "metadata": {
        "id": "W7JPwzjNLyco",
        "colab_type": "code",
        "outputId": "97f3306b-04fc-41e9-d889-62043a798927",
        "colab": {
          "base_uri": "https://localhost:8080/",
          "height": 204
        }
      },
      "cell_type": "code",
      "source": [
        "train.head()"
      ],
      "execution_count": 7,
      "outputs": [
        {
          "output_type": "execute_result",
          "data": {
            "text/html": [
              "<div>\n",
              "<style scoped>\n",
              "    .dataframe tbody tr th:only-of-type {\n",
              "        vertical-align: middle;\n",
              "    }\n",
              "\n",
              "    .dataframe tbody tr th {\n",
              "        vertical-align: top;\n",
              "    }\n",
              "\n",
              "    .dataframe thead th {\n",
              "        text-align: right;\n",
              "    }\n",
              "</style>\n",
              "<table border=\"1\" class=\"dataframe\">\n",
              "  <thead>\n",
              "    <tr style=\"text-align: right;\">\n",
              "      <th></th>\n",
              "      <th>id</th>\n",
              "      <th>cost</th>\n",
              "      <th>day_number</th>\n",
              "      <th>week</th>\n",
              "      <th>item_quantity</th>\n",
              "    </tr>\n",
              "  </thead>\n",
              "  <tbody>\n",
              "    <tr>\n",
              "      <th>0</th>\n",
              "      <td>0</td>\n",
              "      <td>350.0</td>\n",
              "      <td>5</td>\n",
              "      <td>0</td>\n",
              "      <td>0.0</td>\n",
              "    </tr>\n",
              "    <tr>\n",
              "      <th>1</th>\n",
              "      <td>3371</td>\n",
              "      <td>637.5</td>\n",
              "      <td>5</td>\n",
              "      <td>0</td>\n",
              "      <td>0.0</td>\n",
              "    </tr>\n",
              "    <tr>\n",
              "      <th>2</th>\n",
              "      <td>3370</td>\n",
              "      <td>720.0</td>\n",
              "      <td>5</td>\n",
              "      <td>0</td>\n",
              "      <td>0.0</td>\n",
              "    </tr>\n",
              "    <tr>\n",
              "      <th>3</th>\n",
              "      <td>3369</td>\n",
              "      <td>497.5</td>\n",
              "      <td>5</td>\n",
              "      <td>0</td>\n",
              "      <td>0.0</td>\n",
              "    </tr>\n",
              "    <tr>\n",
              "      <th>4</th>\n",
              "      <td>3368</td>\n",
              "      <td>292.0</td>\n",
              "      <td>5</td>\n",
              "      <td>0</td>\n",
              "      <td>0.0</td>\n",
              "    </tr>\n",
              "  </tbody>\n",
              "</table>\n",
              "</div>"
            ],
            "text/plain": [
              "     id   cost  day_number  week  item_quantity\n",
              "0     0  350.0           5     0            0.0\n",
              "1  3371  637.5           5     0            0.0\n",
              "2  3370  720.0           5     0            0.0\n",
              "3  3369  497.5           5     0            0.0\n",
              "4  3368  292.0           5     0            0.0"
            ]
          },
          "metadata": {
            "tags": []
          },
          "execution_count": 7
        }
      ]
    },
    {
      "metadata": {
        "id": "hO0uZw_INLF9",
        "colab_type": "text"
      },
      "cell_type": "markdown",
      "source": [
        "## Sorting our values"
      ]
    },
    {
      "metadata": {
        "id": "8kO6qxZXL9VC",
        "colab_type": "code",
        "colab": {}
      },
      "cell_type": "code",
      "source": [
        "# Sorting a values\n",
        "train = train.sort_values(by = ['id','day_number']).reset_index(drop = True)"
      ],
      "execution_count": 0,
      "outputs": []
    },
    {
      "metadata": {
        "id": "FxC-pI8TduYk",
        "colab_type": "code",
        "outputId": "649a6d29-7aed-47b5-812a-709eea682638",
        "colab": {
          "base_uri": "https://localhost:8080/",
          "height": 204
        }
      },
      "cell_type": "code",
      "source": [
        "train.head()"
      ],
      "execution_count": 42,
      "outputs": [
        {
          "output_type": "execute_result",
          "data": {
            "text/html": [
              "<div>\n",
              "<style scoped>\n",
              "    .dataframe tbody tr th:only-of-type {\n",
              "        vertical-align: middle;\n",
              "    }\n",
              "\n",
              "    .dataframe tbody tr th {\n",
              "        vertical-align: top;\n",
              "    }\n",
              "\n",
              "    .dataframe thead th {\n",
              "        text-align: right;\n",
              "    }\n",
              "</style>\n",
              "<table border=\"1\" class=\"dataframe\">\n",
              "  <thead>\n",
              "    <tr style=\"text-align: right;\">\n",
              "      <th></th>\n",
              "      <th>id</th>\n",
              "      <th>cost</th>\n",
              "      <th>day_number</th>\n",
              "      <th>week</th>\n",
              "      <th>item_quantity</th>\n",
              "    </tr>\n",
              "  </thead>\n",
              "  <tbody>\n",
              "    <tr>\n",
              "      <th>0</th>\n",
              "      <td>0</td>\n",
              "      <td>350.0</td>\n",
              "      <td>5</td>\n",
              "      <td>0</td>\n",
              "      <td>0.0</td>\n",
              "    </tr>\n",
              "    <tr>\n",
              "      <th>1</th>\n",
              "      <td>0</td>\n",
              "      <td>350.0</td>\n",
              "      <td>6</td>\n",
              "      <td>0</td>\n",
              "      <td>0.0</td>\n",
              "    </tr>\n",
              "    <tr>\n",
              "      <th>2</th>\n",
              "      <td>0</td>\n",
              "      <td>350.0</td>\n",
              "      <td>7</td>\n",
              "      <td>1</td>\n",
              "      <td>0.0</td>\n",
              "    </tr>\n",
              "    <tr>\n",
              "      <th>3</th>\n",
              "      <td>0</td>\n",
              "      <td>350.0</td>\n",
              "      <td>8</td>\n",
              "      <td>1</td>\n",
              "      <td>0.0</td>\n",
              "    </tr>\n",
              "    <tr>\n",
              "      <th>4</th>\n",
              "      <td>0</td>\n",
              "      <td>350.0</td>\n",
              "      <td>9</td>\n",
              "      <td>1</td>\n",
              "      <td>0.0</td>\n",
              "    </tr>\n",
              "  </tbody>\n",
              "</table>\n",
              "</div>"
            ],
            "text/plain": [
              "   id   cost  day_number  week  item_quantity\n",
              "0   0  350.0           5     0            0.0\n",
              "1   0  350.0           6     0            0.0\n",
              "2   0  350.0           7     1            0.0\n",
              "3   0  350.0           8     1            0.0\n",
              "4   0  350.0           9     1            0.0"
            ]
          },
          "metadata": {
            "tags": []
          },
          "execution_count": 42
        }
      ]
    },
    {
      "metadata": {
        "id": "sixxTl05Uss1",
        "colab_type": "code",
        "colab": {
          "base_uri": "https://localhost:8080/",
          "height": 1969
        },
        "outputId": "c4ab4b20-8886-4d19-dbf2-848992c52006"
      },
      "cell_type": "code",
      "source": [
        "test_df"
      ],
      "execution_count": 45,
      "outputs": [
        {
          "output_type": "execute_result",
          "data": {
            "text/html": [
              "<div>\n",
              "<style scoped>\n",
              "    .dataframe tbody tr th:only-of-type {\n",
              "        vertical-align: middle;\n",
              "    }\n",
              "\n",
              "    .dataframe tbody tr th {\n",
              "        vertical-align: top;\n",
              "    }\n",
              "\n",
              "    .dataframe thead th {\n",
              "        text-align: right;\n",
              "    }\n",
              "</style>\n",
              "<table border=\"1\" class=\"dataframe\">\n",
              "  <thead>\n",
              "    <tr style=\"text-align: right;\">\n",
              "      <th></th>\n",
              "      <th>id</th>\n",
              "      <th>cost</th>\n",
              "      <th>day_number</th>\n",
              "      <th>week</th>\n",
              "      <th>item_quantity</th>\n",
              "    </tr>\n",
              "  </thead>\n",
              "  <tbody>\n",
              "    <tr>\n",
              "      <th>0</th>\n",
              "      <td>0</td>\n",
              "      <td>350.0</td>\n",
              "      <td>98</td>\n",
              "      <td>14</td>\n",
              "      <td>0.0</td>\n",
              "    </tr>\n",
              "    <tr>\n",
              "      <th>1</th>\n",
              "      <td>0</td>\n",
              "      <td>350.0</td>\n",
              "      <td>99</td>\n",
              "      <td>14</td>\n",
              "      <td>0.0</td>\n",
              "    </tr>\n",
              "    <tr>\n",
              "      <th>2</th>\n",
              "      <td>0</td>\n",
              "      <td>350.0</td>\n",
              "      <td>100</td>\n",
              "      <td>14</td>\n",
              "      <td>0.0</td>\n",
              "    </tr>\n",
              "    <tr>\n",
              "      <th>3</th>\n",
              "      <td>0</td>\n",
              "      <td>350.0</td>\n",
              "      <td>101</td>\n",
              "      <td>14</td>\n",
              "      <td>0.0</td>\n",
              "    </tr>\n",
              "    <tr>\n",
              "      <th>4</th>\n",
              "      <td>0</td>\n",
              "      <td>350.0</td>\n",
              "      <td>102</td>\n",
              "      <td>14</td>\n",
              "      <td>0.0</td>\n",
              "    </tr>\n",
              "    <tr>\n",
              "      <th>5</th>\n",
              "      <td>0</td>\n",
              "      <td>350.0</td>\n",
              "      <td>103</td>\n",
              "      <td>14</td>\n",
              "      <td>0.0</td>\n",
              "    </tr>\n",
              "    <tr>\n",
              "      <th>6</th>\n",
              "      <td>0</td>\n",
              "      <td>350.0</td>\n",
              "      <td>104</td>\n",
              "      <td>14</td>\n",
              "      <td>0.0</td>\n",
              "    </tr>\n",
              "    <tr>\n",
              "      <th>7</th>\n",
              "      <td>0</td>\n",
              "      <td>350.0</td>\n",
              "      <td>105</td>\n",
              "      <td>15</td>\n",
              "      <td>0.0</td>\n",
              "    </tr>\n",
              "    <tr>\n",
              "      <th>8</th>\n",
              "      <td>0</td>\n",
              "      <td>350.0</td>\n",
              "      <td>106</td>\n",
              "      <td>15</td>\n",
              "      <td>0.0</td>\n",
              "    </tr>\n",
              "    <tr>\n",
              "      <th>9</th>\n",
              "      <td>0</td>\n",
              "      <td>350.0</td>\n",
              "      <td>107</td>\n",
              "      <td>15</td>\n",
              "      <td>0.0</td>\n",
              "    </tr>\n",
              "    <tr>\n",
              "      <th>10</th>\n",
              "      <td>0</td>\n",
              "      <td>350.0</td>\n",
              "      <td>108</td>\n",
              "      <td>15</td>\n",
              "      <td>0.0</td>\n",
              "    </tr>\n",
              "    <tr>\n",
              "      <th>11</th>\n",
              "      <td>0</td>\n",
              "      <td>350.0</td>\n",
              "      <td>109</td>\n",
              "      <td>15</td>\n",
              "      <td>0.0</td>\n",
              "    </tr>\n",
              "    <tr>\n",
              "      <th>12</th>\n",
              "      <td>0</td>\n",
              "      <td>350.0</td>\n",
              "      <td>110</td>\n",
              "      <td>15</td>\n",
              "      <td>0.0</td>\n",
              "    </tr>\n",
              "    <tr>\n",
              "      <th>13</th>\n",
              "      <td>0</td>\n",
              "      <td>350.0</td>\n",
              "      <td>111</td>\n",
              "      <td>15</td>\n",
              "      <td>0.0</td>\n",
              "    </tr>\n",
              "    <tr>\n",
              "      <th>14</th>\n",
              "      <td>0</td>\n",
              "      <td>350.0</td>\n",
              "      <td>112</td>\n",
              "      <td>16</td>\n",
              "      <td>0.0</td>\n",
              "    </tr>\n",
              "    <tr>\n",
              "      <th>15</th>\n",
              "      <td>0</td>\n",
              "      <td>350.0</td>\n",
              "      <td>113</td>\n",
              "      <td>16</td>\n",
              "      <td>0.0</td>\n",
              "    </tr>\n",
              "    <tr>\n",
              "      <th>16</th>\n",
              "      <td>0</td>\n",
              "      <td>350.0</td>\n",
              "      <td>114</td>\n",
              "      <td>16</td>\n",
              "      <td>0.0</td>\n",
              "    </tr>\n",
              "    <tr>\n",
              "      <th>17</th>\n",
              "      <td>0</td>\n",
              "      <td>350.0</td>\n",
              "      <td>115</td>\n",
              "      <td>16</td>\n",
              "      <td>0.0</td>\n",
              "    </tr>\n",
              "    <tr>\n",
              "      <th>18</th>\n",
              "      <td>0</td>\n",
              "      <td>350.0</td>\n",
              "      <td>116</td>\n",
              "      <td>16</td>\n",
              "      <td>0.0</td>\n",
              "    </tr>\n",
              "    <tr>\n",
              "      <th>19</th>\n",
              "      <td>0</td>\n",
              "      <td>350.0</td>\n",
              "      <td>117</td>\n",
              "      <td>16</td>\n",
              "      <td>0.0</td>\n",
              "    </tr>\n",
              "    <tr>\n",
              "      <th>20</th>\n",
              "      <td>0</td>\n",
              "      <td>350.0</td>\n",
              "      <td>118</td>\n",
              "      <td>16</td>\n",
              "      <td>0.0</td>\n",
              "    </tr>\n",
              "    <tr>\n",
              "      <th>21</th>\n",
              "      <td>0</td>\n",
              "      <td>350.0</td>\n",
              "      <td>119</td>\n",
              "      <td>17</td>\n",
              "      <td>0.0</td>\n",
              "    </tr>\n",
              "    <tr>\n",
              "      <th>22</th>\n",
              "      <td>0</td>\n",
              "      <td>350.0</td>\n",
              "      <td>120</td>\n",
              "      <td>17</td>\n",
              "      <td>0.0</td>\n",
              "    </tr>\n",
              "    <tr>\n",
              "      <th>23</th>\n",
              "      <td>0</td>\n",
              "      <td>350.0</td>\n",
              "      <td>121</td>\n",
              "      <td>17</td>\n",
              "      <td>0.0</td>\n",
              "    </tr>\n",
              "    <tr>\n",
              "      <th>24</th>\n",
              "      <td>0</td>\n",
              "      <td>350.0</td>\n",
              "      <td>122</td>\n",
              "      <td>17</td>\n",
              "      <td>0.0</td>\n",
              "    </tr>\n",
              "    <tr>\n",
              "      <th>25</th>\n",
              "      <td>0</td>\n",
              "      <td>350.0</td>\n",
              "      <td>123</td>\n",
              "      <td>17</td>\n",
              "      <td>0.0</td>\n",
              "    </tr>\n",
              "    <tr>\n",
              "      <th>26</th>\n",
              "      <td>0</td>\n",
              "      <td>350.0</td>\n",
              "      <td>124</td>\n",
              "      <td>17</td>\n",
              "      <td>0.0</td>\n",
              "    </tr>\n",
              "    <tr>\n",
              "      <th>27</th>\n",
              "      <td>0</td>\n",
              "      <td>350.0</td>\n",
              "      <td>125</td>\n",
              "      <td>17</td>\n",
              "      <td>0.0</td>\n",
              "    </tr>\n",
              "    <tr>\n",
              "      <th>28</th>\n",
              "      <td>0</td>\n",
              "      <td>350.0</td>\n",
              "      <td>126</td>\n",
              "      <td>18</td>\n",
              "      <td>0.0</td>\n",
              "    </tr>\n",
              "    <tr>\n",
              "      <th>29</th>\n",
              "      <td>0</td>\n",
              "      <td>350.0</td>\n",
              "      <td>127</td>\n",
              "      <td>18</td>\n",
              "      <td>0.0</td>\n",
              "    </tr>\n",
              "    <tr>\n",
              "      <th>...</th>\n",
              "      <td>...</td>\n",
              "      <td>...</td>\n",
              "      <td>...</td>\n",
              "      <td>...</td>\n",
              "      <td>...</td>\n",
              "    </tr>\n",
              "    <tr>\n",
              "      <th>172695</th>\n",
              "      <td>5036</td>\n",
              "      <td>36.0</td>\n",
              "      <td>103</td>\n",
              "      <td>14</td>\n",
              "      <td>88.0</td>\n",
              "    </tr>\n",
              "    <tr>\n",
              "      <th>172696</th>\n",
              "      <td>5036</td>\n",
              "      <td>36.0</td>\n",
              "      <td>104</td>\n",
              "      <td>14</td>\n",
              "      <td>55.0</td>\n",
              "    </tr>\n",
              "    <tr>\n",
              "      <th>172697</th>\n",
              "      <td>5036</td>\n",
              "      <td>36.0</td>\n",
              "      <td>105</td>\n",
              "      <td>15</td>\n",
              "      <td>85.0</td>\n",
              "    </tr>\n",
              "    <tr>\n",
              "      <th>172698</th>\n",
              "      <td>5036</td>\n",
              "      <td>36.0</td>\n",
              "      <td>106</td>\n",
              "      <td>15</td>\n",
              "      <td>80.0</td>\n",
              "    </tr>\n",
              "    <tr>\n",
              "      <th>172699</th>\n",
              "      <td>5036</td>\n",
              "      <td>36.0</td>\n",
              "      <td>107</td>\n",
              "      <td>15</td>\n",
              "      <td>70.0</td>\n",
              "    </tr>\n",
              "    <tr>\n",
              "      <th>172700</th>\n",
              "      <td>5036</td>\n",
              "      <td>36.0</td>\n",
              "      <td>108</td>\n",
              "      <td>15</td>\n",
              "      <td>135.0</td>\n",
              "    </tr>\n",
              "    <tr>\n",
              "      <th>172701</th>\n",
              "      <td>5036</td>\n",
              "      <td>36.0</td>\n",
              "      <td>109</td>\n",
              "      <td>15</td>\n",
              "      <td>71.0</td>\n",
              "    </tr>\n",
              "    <tr>\n",
              "      <th>172702</th>\n",
              "      <td>5036</td>\n",
              "      <td>36.0</td>\n",
              "      <td>110</td>\n",
              "      <td>15</td>\n",
              "      <td>79.0</td>\n",
              "    </tr>\n",
              "    <tr>\n",
              "      <th>172703</th>\n",
              "      <td>5036</td>\n",
              "      <td>36.0</td>\n",
              "      <td>111</td>\n",
              "      <td>15</td>\n",
              "      <td>28.0</td>\n",
              "    </tr>\n",
              "    <tr>\n",
              "      <th>172704</th>\n",
              "      <td>5036</td>\n",
              "      <td>36.0</td>\n",
              "      <td>112</td>\n",
              "      <td>16</td>\n",
              "      <td>115.0</td>\n",
              "    </tr>\n",
              "    <tr>\n",
              "      <th>172705</th>\n",
              "      <td>5036</td>\n",
              "      <td>36.0</td>\n",
              "      <td>113</td>\n",
              "      <td>16</td>\n",
              "      <td>67.0</td>\n",
              "    </tr>\n",
              "    <tr>\n",
              "      <th>172706</th>\n",
              "      <td>5036</td>\n",
              "      <td>36.0</td>\n",
              "      <td>114</td>\n",
              "      <td>16</td>\n",
              "      <td>113.0</td>\n",
              "    </tr>\n",
              "    <tr>\n",
              "      <th>172707</th>\n",
              "      <td>5036</td>\n",
              "      <td>36.0</td>\n",
              "      <td>115</td>\n",
              "      <td>16</td>\n",
              "      <td>70.0</td>\n",
              "    </tr>\n",
              "    <tr>\n",
              "      <th>172708</th>\n",
              "      <td>5036</td>\n",
              "      <td>36.0</td>\n",
              "      <td>116</td>\n",
              "      <td>16</td>\n",
              "      <td>55.0</td>\n",
              "    </tr>\n",
              "    <tr>\n",
              "      <th>172709</th>\n",
              "      <td>5036</td>\n",
              "      <td>36.0</td>\n",
              "      <td>117</td>\n",
              "      <td>16</td>\n",
              "      <td>70.0</td>\n",
              "    </tr>\n",
              "    <tr>\n",
              "      <th>172710</th>\n",
              "      <td>5036</td>\n",
              "      <td>36.0</td>\n",
              "      <td>118</td>\n",
              "      <td>16</td>\n",
              "      <td>117.0</td>\n",
              "    </tr>\n",
              "    <tr>\n",
              "      <th>172711</th>\n",
              "      <td>5036</td>\n",
              "      <td>36.0</td>\n",
              "      <td>119</td>\n",
              "      <td>17</td>\n",
              "      <td>90.0</td>\n",
              "    </tr>\n",
              "    <tr>\n",
              "      <th>172712</th>\n",
              "      <td>5036</td>\n",
              "      <td>36.0</td>\n",
              "      <td>120</td>\n",
              "      <td>17</td>\n",
              "      <td>26.0</td>\n",
              "    </tr>\n",
              "    <tr>\n",
              "      <th>172713</th>\n",
              "      <td>5036</td>\n",
              "      <td>36.0</td>\n",
              "      <td>121</td>\n",
              "      <td>17</td>\n",
              "      <td>66.0</td>\n",
              "    </tr>\n",
              "    <tr>\n",
              "      <th>172714</th>\n",
              "      <td>5036</td>\n",
              "      <td>36.0</td>\n",
              "      <td>122</td>\n",
              "      <td>17</td>\n",
              "      <td>125.0</td>\n",
              "    </tr>\n",
              "    <tr>\n",
              "      <th>172715</th>\n",
              "      <td>5036</td>\n",
              "      <td>36.0</td>\n",
              "      <td>123</td>\n",
              "      <td>17</td>\n",
              "      <td>40.0</td>\n",
              "    </tr>\n",
              "    <tr>\n",
              "      <th>172716</th>\n",
              "      <td>5036</td>\n",
              "      <td>36.0</td>\n",
              "      <td>124</td>\n",
              "      <td>17</td>\n",
              "      <td>65.0</td>\n",
              "    </tr>\n",
              "    <tr>\n",
              "      <th>172717</th>\n",
              "      <td>5036</td>\n",
              "      <td>36.0</td>\n",
              "      <td>125</td>\n",
              "      <td>17</td>\n",
              "      <td>59.0</td>\n",
              "    </tr>\n",
              "    <tr>\n",
              "      <th>172718</th>\n",
              "      <td>5036</td>\n",
              "      <td>36.0</td>\n",
              "      <td>126</td>\n",
              "      <td>18</td>\n",
              "      <td>80.0</td>\n",
              "    </tr>\n",
              "    <tr>\n",
              "      <th>172719</th>\n",
              "      <td>5036</td>\n",
              "      <td>36.0</td>\n",
              "      <td>127</td>\n",
              "      <td>18</td>\n",
              "      <td>78.0</td>\n",
              "    </tr>\n",
              "    <tr>\n",
              "      <th>172720</th>\n",
              "      <td>5036</td>\n",
              "      <td>36.0</td>\n",
              "      <td>128</td>\n",
              "      <td>18</td>\n",
              "      <td>102.0</td>\n",
              "    </tr>\n",
              "    <tr>\n",
              "      <th>172721</th>\n",
              "      <td>5036</td>\n",
              "      <td>36.0</td>\n",
              "      <td>129</td>\n",
              "      <td>18</td>\n",
              "      <td>112.0</td>\n",
              "    </tr>\n",
              "    <tr>\n",
              "      <th>172722</th>\n",
              "      <td>5036</td>\n",
              "      <td>36.0</td>\n",
              "      <td>130</td>\n",
              "      <td>18</td>\n",
              "      <td>120.0</td>\n",
              "    </tr>\n",
              "    <tr>\n",
              "      <th>172723</th>\n",
              "      <td>5036</td>\n",
              "      <td>36.0</td>\n",
              "      <td>131</td>\n",
              "      <td>18</td>\n",
              "      <td>76.0</td>\n",
              "    </tr>\n",
              "    <tr>\n",
              "      <th>172724</th>\n",
              "      <td>5036</td>\n",
              "      <td>36.0</td>\n",
              "      <td>132</td>\n",
              "      <td>18</td>\n",
              "      <td>35.0</td>\n",
              "    </tr>\n",
              "  </tbody>\n",
              "</table>\n",
              "<p>172725 rows × 5 columns</p>\n",
              "</div>"
            ],
            "text/plain": [
              "          id   cost  day_number  week  item_quantity\n",
              "0          0  350.0          98    14            0.0\n",
              "1          0  350.0          99    14            0.0\n",
              "2          0  350.0         100    14            0.0\n",
              "3          0  350.0         101    14            0.0\n",
              "4          0  350.0         102    14            0.0\n",
              "5          0  350.0         103    14            0.0\n",
              "6          0  350.0         104    14            0.0\n",
              "7          0  350.0         105    15            0.0\n",
              "8          0  350.0         106    15            0.0\n",
              "9          0  350.0         107    15            0.0\n",
              "10         0  350.0         108    15            0.0\n",
              "11         0  350.0         109    15            0.0\n",
              "12         0  350.0         110    15            0.0\n",
              "13         0  350.0         111    15            0.0\n",
              "14         0  350.0         112    16            0.0\n",
              "15         0  350.0         113    16            0.0\n",
              "16         0  350.0         114    16            0.0\n",
              "17         0  350.0         115    16            0.0\n",
              "18         0  350.0         116    16            0.0\n",
              "19         0  350.0         117    16            0.0\n",
              "20         0  350.0         118    16            0.0\n",
              "21         0  350.0         119    17            0.0\n",
              "22         0  350.0         120    17            0.0\n",
              "23         0  350.0         121    17            0.0\n",
              "24         0  350.0         122    17            0.0\n",
              "25         0  350.0         123    17            0.0\n",
              "26         0  350.0         124    17            0.0\n",
              "27         0  350.0         125    17            0.0\n",
              "28         0  350.0         126    18            0.0\n",
              "29         0  350.0         127    18            0.0\n",
              "...      ...    ...         ...   ...            ...\n",
              "172695  5036   36.0         103    14           88.0\n",
              "172696  5036   36.0         104    14           55.0\n",
              "172697  5036   36.0         105    15           85.0\n",
              "172698  5036   36.0         106    15           80.0\n",
              "172699  5036   36.0         107    15           70.0\n",
              "172700  5036   36.0         108    15          135.0\n",
              "172701  5036   36.0         109    15           71.0\n",
              "172702  5036   36.0         110    15           79.0\n",
              "172703  5036   36.0         111    15           28.0\n",
              "172704  5036   36.0         112    16          115.0\n",
              "172705  5036   36.0         113    16           67.0\n",
              "172706  5036   36.0         114    16          113.0\n",
              "172707  5036   36.0         115    16           70.0\n",
              "172708  5036   36.0         116    16           55.0\n",
              "172709  5036   36.0         117    16           70.0\n",
              "172710  5036   36.0         118    16          117.0\n",
              "172711  5036   36.0         119    17           90.0\n",
              "172712  5036   36.0         120    17           26.0\n",
              "172713  5036   36.0         121    17           66.0\n",
              "172714  5036   36.0         122    17          125.0\n",
              "172715  5036   36.0         123    17           40.0\n",
              "172716  5036   36.0         124    17           65.0\n",
              "172717  5036   36.0         125    17           59.0\n",
              "172718  5036   36.0         126    18           80.0\n",
              "172719  5036   36.0         127    18           78.0\n",
              "172720  5036   36.0         128    18          102.0\n",
              "172721  5036   36.0         129    18          112.0\n",
              "172722  5036   36.0         130    18          120.0\n",
              "172723  5036   36.0         131    18           76.0\n",
              "172724  5036   36.0         132    18           35.0\n",
              "\n",
              "[172725 rows x 5 columns]"
            ]
          },
          "metadata": {
            "tags": []
          },
          "execution_count": 45
        }
      ]
    },
    {
      "metadata": {
        "id": "DVrwE4XfNiG6",
        "colab_type": "text"
      },
      "cell_type": "markdown",
      "source": [
        "## Train & Test"
      ]
    },
    {
      "metadata": {
        "colab_type": "code",
        "id": "SizizO0UhP-_",
        "colab": {}
      },
      "cell_type": "code",
      "source": [
        "def split_into_train_and_test(dataset):\n",
        "  last_week = dataset['week'].max() # 19 week\n",
        "  dataset = dataset[dataset['week'] != last_week]\n",
        "\n",
        "  last_week = dataset['week'].max() # 18 week\n",
        "  test = dataset[dataset['week'] == last_week].copy() # 18 week\n",
        "  train = dataset[dataset['week'] != last_week] # All before 18 week\n",
        "  return train,test\n",
        "\n",
        "train_df, test_df = split_into_train_and_test(train)"
      ],
      "execution_count": 0,
      "outputs": []
    },
    {
      "metadata": {
        "id": "KkFsi2XahT3g",
        "colab_type": "code",
        "outputId": "514f6294-6af5-472f-a1b4-21fe3e491893",
        "colab": {
          "base_uri": "https://localhost:8080/",
          "height": 173
        }
      },
      "cell_type": "code",
      "source": [
        "train_df.tail(4)"
      ],
      "execution_count": 10,
      "outputs": [
        {
          "output_type": "execute_result",
          "data": {
            "text/html": [
              "<div>\n",
              "<style scoped>\n",
              "    .dataframe tbody tr th:only-of-type {\n",
              "        vertical-align: middle;\n",
              "    }\n",
              "\n",
              "    .dataframe tbody tr th {\n",
              "        vertical-align: top;\n",
              "    }\n",
              "\n",
              "    .dataframe thead th {\n",
              "        text-align: right;\n",
              "    }\n",
              "</style>\n",
              "<table border=\"1\" class=\"dataframe\">\n",
              "  <thead>\n",
              "    <tr style=\"text-align: right;\">\n",
              "      <th></th>\n",
              "      <th>id</th>\n",
              "      <th>cost</th>\n",
              "      <th>day_number</th>\n",
              "      <th>week</th>\n",
              "      <th>item_quantity</th>\n",
              "    </tr>\n",
              "  </thead>\n",
              "  <tbody>\n",
              "    <tr>\n",
              "      <th>636603</th>\n",
              "      <td>5036</td>\n",
              "      <td>36.0</td>\n",
              "      <td>122</td>\n",
              "      <td>17</td>\n",
              "      <td>125.0</td>\n",
              "    </tr>\n",
              "    <tr>\n",
              "      <th>636604</th>\n",
              "      <td>5036</td>\n",
              "      <td>36.0</td>\n",
              "      <td>123</td>\n",
              "      <td>17</td>\n",
              "      <td>40.0</td>\n",
              "    </tr>\n",
              "    <tr>\n",
              "      <th>636605</th>\n",
              "      <td>5036</td>\n",
              "      <td>36.0</td>\n",
              "      <td>124</td>\n",
              "      <td>17</td>\n",
              "      <td>65.0</td>\n",
              "    </tr>\n",
              "    <tr>\n",
              "      <th>636606</th>\n",
              "      <td>5036</td>\n",
              "      <td>36.0</td>\n",
              "      <td>125</td>\n",
              "      <td>17</td>\n",
              "      <td>59.0</td>\n",
              "    </tr>\n",
              "  </tbody>\n",
              "</table>\n",
              "</div>"
            ],
            "text/plain": [
              "          id  cost  day_number  week  item_quantity\n",
              "636603  5036  36.0         122    17          125.0\n",
              "636604  5036  36.0         123    17           40.0\n",
              "636605  5036  36.0         124    17           65.0\n",
              "636606  5036  36.0         125    17           59.0"
            ]
          },
          "metadata": {
            "tags": []
          },
          "execution_count": 10
        }
      ]
    },
    {
      "metadata": {
        "id": "OrzBehSYNsBv",
        "colab_type": "code",
        "outputId": "5c8dbc2f-1a6b-4834-ad9e-6999ffd18636",
        "colab": {
          "base_uri": "https://localhost:8080/",
          "height": 187
        }
      },
      "cell_type": "code",
      "source": [
        "train_df.info()"
      ],
      "execution_count": 11,
      "outputs": [
        {
          "output_type": "stream",
          "text": [
            "<class 'pandas.core.frame.DataFrame'>\n",
            "Int64Index: 597135 entries, 0 to 636606\n",
            "Data columns (total 5 columns):\n",
            "id               597135 non-null int64\n",
            "cost             597135 non-null float64\n",
            "day_number       597135 non-null int64\n",
            "week             597135 non-null int32\n",
            "item_quantity    597135 non-null float64\n",
            "dtypes: float64(2), int32(1), int64(2)\n",
            "memory usage: 25.1 MB\n"
          ],
          "name": "stdout"
        }
      ]
    },
    {
      "metadata": {
        "id": "4HE7C7wJhV1x",
        "colab_type": "code",
        "outputId": "ecb75fc0-7062-4a55-b301-f5d17242a788",
        "colab": {
          "base_uri": "https://localhost:8080/",
          "height": 173
        }
      },
      "cell_type": "code",
      "source": [
        "test_df.head(4)"
      ],
      "execution_count": 12,
      "outputs": [
        {
          "output_type": "execute_result",
          "data": {
            "text/html": [
              "<div>\n",
              "<style scoped>\n",
              "    .dataframe tbody tr th:only-of-type {\n",
              "        vertical-align: middle;\n",
              "    }\n",
              "\n",
              "    .dataframe tbody tr th {\n",
              "        vertical-align: top;\n",
              "    }\n",
              "\n",
              "    .dataframe thead th {\n",
              "        text-align: right;\n",
              "    }\n",
              "</style>\n",
              "<table border=\"1\" class=\"dataframe\">\n",
              "  <thead>\n",
              "    <tr style=\"text-align: right;\">\n",
              "      <th></th>\n",
              "      <th>id</th>\n",
              "      <th>cost</th>\n",
              "      <th>day_number</th>\n",
              "      <th>week</th>\n",
              "      <th>item_quantity</th>\n",
              "    </tr>\n",
              "  </thead>\n",
              "  <tbody>\n",
              "    <tr>\n",
              "      <th>121</th>\n",
              "      <td>0</td>\n",
              "      <td>350.0</td>\n",
              "      <td>126</td>\n",
              "      <td>18</td>\n",
              "      <td>0.0</td>\n",
              "    </tr>\n",
              "    <tr>\n",
              "      <th>122</th>\n",
              "      <td>0</td>\n",
              "      <td>350.0</td>\n",
              "      <td>127</td>\n",
              "      <td>18</td>\n",
              "      <td>0.0</td>\n",
              "    </tr>\n",
              "    <tr>\n",
              "      <th>123</th>\n",
              "      <td>0</td>\n",
              "      <td>350.0</td>\n",
              "      <td>128</td>\n",
              "      <td>18</td>\n",
              "      <td>0.0</td>\n",
              "    </tr>\n",
              "    <tr>\n",
              "      <th>124</th>\n",
              "      <td>0</td>\n",
              "      <td>350.0</td>\n",
              "      <td>129</td>\n",
              "      <td>18</td>\n",
              "      <td>0.0</td>\n",
              "    </tr>\n",
              "  </tbody>\n",
              "</table>\n",
              "</div>"
            ],
            "text/plain": [
              "     id   cost  day_number  week  item_quantity\n",
              "121   0  350.0         126    18            0.0\n",
              "122   0  350.0         127    18            0.0\n",
              "123   0  350.0         128    18            0.0\n",
              "124   0  350.0         129    18            0.0"
            ]
          },
          "metadata": {
            "tags": []
          },
          "execution_count": 12
        }
      ]
    },
    {
      "metadata": {
        "id": "7wU3ZtKqeE2a",
        "colab_type": "text"
      },
      "cell_type": "markdown",
      "source": [
        "## Splitting into X & y"
      ]
    },
    {
      "metadata": {
        "id": "Jwmg5eBzNnPX",
        "colab_type": "code",
        "colab": {}
      },
      "cell_type": "code",
      "source": [
        "def split(dataset):\n",
        "  return dataset[dataset.columns.values[:-1]], dataset[dataset.columns.values[-1]]\n",
        "X_train, y_train = split(train_df)\n",
        "X_test, y_test = split(test_df)"
      ],
      "execution_count": 0,
      "outputs": []
    },
    {
      "metadata": {
        "colab_type": "text",
        "id": "4x1Fuw_YUXs1"
      },
      "cell_type": "markdown",
      "source": [
        "## Scaler class"
      ]
    },
    {
      "metadata": {
        "id": "q-xfjgELeJFQ",
        "colab_type": "code",
        "colab": {}
      },
      "cell_type": "code",
      "source": [
        "from sklearn.preprocessing import MinMaxScaler\n",
        "class Scaler_3d():\n",
        "\n",
        "  def __init__(self):\n",
        "    self.__X_scaler = MinMaxScaler(feature_range=(-1, 1), copy=True)\n",
        "    self.__y_scaler = MinMaxScaler(feature_range=(-1, 1), copy=True)\n",
        "  \n",
        "  # Fitting\n",
        "  def fit(self, X_train, y_train):\n",
        "    x = X_train.shape[0]\n",
        "    y = X_train.shape[1]\n",
        "    z = X_train.shape[2]    \n",
        "    \n",
        "    self.__X_scaler.fit(np.reshape(X_train, (x*y,z)))\n",
        "    self.__y_scaler.fit(y_train)\n",
        "  \n",
        "  # scaling\n",
        "  def transform(self, X, y):\n",
        "    \n",
        "    x_dim = X.shape[0]\n",
        "    y_dim = X.shape[1]\n",
        "    z_dim = X.shape[2]    \n",
        "    \n",
        "    X_reshaped =  np.reshape(X, (x_dim * y_dim, z_dim))\n",
        "    X_reshaped_scaled = self.__X_scaler.transform(X_reshaped)\n",
        "    X_scaled = np.reshape(X_reshaped_scaled, (x_dim, y_dim, z_dim))\n",
        "    \n",
        "    y_scaled = self.__y_scaler.transform(y)\n",
        "    return X_scaled, y_scaled \n",
        "  \n",
        "  def inverse_transform_X(self, X):\n",
        "    x_dim = X.shape[0]\n",
        "    y_dim = X.shape[1]\n",
        "    z_dim = X.shape[2]    \n",
        "    \n",
        "    X_reshaped =  np.reshape(X, (x_dim * y_dim, z_dim))\n",
        "    X_reshaped_scaled = self.__X_scaler.inverse_transform(X_reshaped)\n",
        "    X_scaled = np.reshape(X_reshaped_scaled, (x_dim, y_dim, z_dim))\n",
        "  \n",
        "  def inverse_transform_y(self, y):\n",
        "    return self.__y_scaler.inverse_transform(y)\n",
        "    "
      ],
      "execution_count": 0,
      "outputs": []
    },
    {
      "metadata": {
        "id": "BHEYM9kqkXxA",
        "colab_type": "text"
      },
      "cell_type": "markdown",
      "source": [
        "## Building a sliding window for train_matrix\n",
        "      + One sliding window = 4 weeks = 28 days\n",
        "      + frequency of discretization: 1 day\n",
        "      (# Records, # Timestamps in Rec, # of vars in one timestamp).\n",
        "   \n",
        "     - We have a different item_id"
      ]
    },
    {
      "metadata": {
        "id": "lXCOK1f6lCIE",
        "colab_type": "code",
        "colab": {}
      },
      "cell_type": "code",
      "source": [
        "rec_size = 28 # Represents amount of previous records in current record\n",
        "window_size = rec_size * train.shape[1] # Amount of records in one preprocessed record\n",
        "last_id = train['id'].max()"
      ],
      "execution_count": 0,
      "outputs": []
    },
    {
      "metadata": {
        "id": "IGqGoe2Al70w",
        "colab_type": "code",
        "colab": {}
      },
      "cell_type": "code",
      "source": [
        "def train_supervised_2_time_series(dataset, last_label, amount_of_timestamps_in_a_record, drop_zero_labeled):\n",
        "  \n",
        "  X_train_ = []\n",
        "  y_train_ = []\n",
        "  last_label += 1 # Used to include highest label\n",
        "  \n",
        "  for item_id in range(0, last_label):\n",
        "    # Fetching table belonging to partilular id\n",
        "    temp_df = dataset[dataset['id']==item_id].copy()\n",
        "\n",
        "    # Turn to next id if no records\n",
        "    if temp_df.empty: continue\n",
        "\n",
        "    # to numpy\n",
        "    matrix = temp_df.values\n",
        "    \n",
        "    # Clean memory\n",
        "    del temp_df\n",
        "    \n",
        "    for i in range(amount_of_timestamps_in_a_record, matrix.shape[0]):\n",
        "\n",
        "      # Neglecting records whose y equal to zero      \n",
        "      if drop_zero_labeled and matrix[i,-1] == 0:\n",
        "        continue\n",
        "      else:\n",
        "        # we will append the first 28 values to X\n",
        "        X_train_.append(matrix[i-amount_of_timestamps_in_a_record:i, :])\n",
        "        # and 28 value will be appended to y\n",
        "        y_train_.append(matrix[i, -1])\n",
        "  \n",
        "  return np.array(X_train_), np.reshape(np.array(y_train_),(-1,1))"
      ],
      "execution_count": 0,
      "outputs": []
    },
    {
      "metadata": {
        "id": "80BU7NUaeKNx",
        "colab_type": "code",
        "outputId": "5db9514a-76a8-4eae-e1a6-0f4bb46a60eb",
        "colab": {
          "base_uri": "https://localhost:8080/",
          "height": 51
        }
      },
      "cell_type": "code",
      "source": [
        "%%time\n",
        "X_train, y_train = train_supervised_2_time_series(train_df, train_df['id'].max(), rec_size, True)\n"
      ],
      "execution_count": 17,
      "outputs": [
        {
          "output_type": "stream",
          "text": [
            "CPU times: user 7.2 s, sys: 120 ms, total: 7.32 s\n",
            "Wall time: 7.33 s\n"
          ],
          "name": "stdout"
        }
      ]
    },
    {
      "metadata": {
        "id": "N1kKcFktr-3s",
        "colab_type": "code",
        "outputId": "c866412d-2881-435c-9bb8-30f0e90426d6",
        "colab": {
          "base_uri": "https://localhost:8080/",
          "height": 34
        }
      },
      "cell_type": "code",
      "source": [
        "y_train.shape"
      ],
      "execution_count": 18,
      "outputs": [
        {
          "output_type": "execute_result",
          "data": {
            "text/plain": [
              "(36665, 1)"
            ]
          },
          "metadata": {
            "tags": []
          },
          "execution_count": 18
        }
      ]
    },
    {
      "metadata": {
        "id": "cGoSBPoK3L1m",
        "colab_type": "text"
      },
      "cell_type": "markdown",
      "source": [
        "## Sliding window for test_matrix"
      ]
    },
    {
      "metadata": {
        "id": "UFc9WFbt3VoA",
        "colab_type": "code",
        "colab": {}
      },
      "cell_type": "code",
      "source": [
        "test_df = pd.concat((train_df[train_df['week'] > 13],test_df)).sort_values(by = ['id','day_number']).reset_index(drop = True)"
      ],
      "execution_count": 0,
      "outputs": []
    },
    {
      "metadata": {
        "id": "tkR4W7fX6p6R",
        "colab_type": "code",
        "colab": {}
      },
      "cell_type": "code",
      "source": [
        "rec_size = 28 # Represents amount of previous records in current record\n",
        "window_size = rec_size * test_df.shape[1] # Amount of records in one preprocessed record\n",
        "last_id = train['id'].max()"
      ],
      "execution_count": 0,
      "outputs": []
    },
    {
      "metadata": {
        "id": "jD33uGDN69_Z",
        "colab_type": "code",
        "outputId": "fa116bdb-dac9-4dbc-fc31-a0b07c31e2f8",
        "colab": {
          "base_uri": "https://localhost:8080/",
          "height": 51
        }
      },
      "cell_type": "code",
      "source": [
        "%%time\n",
        "X_test, y_test = train_supervised_2_time_series(test_df, test_df['id'].max(), rec_size, False)\n"
      ],
      "execution_count": 21,
      "outputs": [
        {
          "output_type": "stream",
          "text": [
            "CPU times: user 5.51 s, sys: 17.2 ms, total: 5.53 s\n",
            "Wall time: 5.54 s\n"
          ],
          "name": "stdout"
        }
      ]
    },
    {
      "metadata": {
        "id": "JWW6RC8XokbD",
        "colab_type": "code",
        "colab": {
          "base_uri": "https://localhost:8080/",
          "height": 136
        },
        "outputId": "acf20ab9-992b-4e8d-ebef-f22039930255"
      },
      "cell_type": "code",
      "source": [
        "y_test"
      ],
      "execution_count": 22,
      "outputs": [
        {
          "output_type": "execute_result",
          "data": {
            "text/plain": [
              "array([[  0.],\n",
              "       [  0.],\n",
              "       [  0.],\n",
              "       ...,\n",
              "       [120.],\n",
              "       [ 76.],\n",
              "       [ 35.]])"
            ]
          },
          "metadata": {
            "tags": []
          },
          "execution_count": 22
        }
      ]
    },
    {
      "metadata": {
        "id": "SshJUi2UkxVM",
        "colab_type": "text"
      },
      "cell_type": "markdown",
      "source": [
        "## Scaling train"
      ]
    },
    {
      "metadata": {
        "id": "_5M3c8bG76oo",
        "colab_type": "code",
        "outputId": "bf7434df-2466-48fb-f71a-c403016c21c3",
        "colab": {
          "base_uri": "https://localhost:8080/",
          "height": 34
        }
      },
      "cell_type": "code",
      "source": [
        "X_test.shape"
      ],
      "execution_count": 23,
      "outputs": [
        {
          "output_type": "execute_result",
          "data": {
            "text/plain": [
              "(34545, 28, 5)"
            ]
          },
          "metadata": {
            "tags": []
          },
          "execution_count": 23
        }
      ]
    },
    {
      "metadata": {
        "id": "fQxzgPnp78Qm",
        "colab_type": "code",
        "outputId": "3ed139dc-2509-4da7-bce8-d2bbc08aece7",
        "colab": {
          "base_uri": "https://localhost:8080/",
          "height": 34
        }
      },
      "cell_type": "code",
      "source": [
        "y_test.shape"
      ],
      "execution_count": 24,
      "outputs": [
        {
          "output_type": "execute_result",
          "data": {
            "text/plain": [
              "(34545, 1)"
            ]
          },
          "metadata": {
            "tags": []
          },
          "execution_count": 24
        }
      ]
    },
    {
      "metadata": {
        "id": "T1-dZofkkzMd",
        "colab_type": "code",
        "colab": {}
      },
      "cell_type": "code",
      "source": [
        "scaler = Scaler_3d()\n",
        "\n",
        "# train\n",
        "scaler.fit(X_train, y_train)\n",
        "X_train_scaled, y_train_scaled = scaler.transform(X_train, y_train)\n",
        "\n",
        "# test\n",
        "X_test_scaled, y_test_scaled = scaler.transform(X_test, y_test)"
      ],
      "execution_count": 0,
      "outputs": []
    },
    {
      "metadata": {
        "id": "0TDyVW4ytNKj",
        "colab_type": "code",
        "outputId": "60341a90-a140-478c-f7ea-3bc8c3e0152d",
        "colab": {
          "base_uri": "https://localhost:8080/",
          "height": 34
        }
      },
      "cell_type": "code",
      "source": [
        "X_train_scaled.shape"
      ],
      "execution_count": 26,
      "outputs": [
        {
          "output_type": "execute_result",
          "data": {
            "text/plain": [
              "(36665, 28, 5)"
            ]
          },
          "metadata": {
            "tags": []
          },
          "execution_count": 26
        }
      ]
    },
    {
      "metadata": {
        "id": "brYmgcJPhqjh",
        "colab_type": "text"
      },
      "cell_type": "markdown",
      "source": [
        "## Model building"
      ]
    },
    {
      "metadata": {
        "id": "YocUNvi117oc",
        "colab_type": "code",
        "outputId": "bd67a128-51c1-4519-cd0d-05e4a534186a",
        "colab": {
          "base_uri": "https://localhost:8080/",
          "height": 210
        }
      },
      "cell_type": "code",
      "source": [
        "model = keras.models.load_model('FORTE_LSTM_on_zero_filled_v1.h5')"
      ],
      "execution_count": 27,
      "outputs": [
        {
          "output_type": "stream",
          "text": [
            "WARNING:tensorflow:From /usr/local/lib/python3.6/dist-packages/tensorflow/python/ops/resource_variable_ops.py:435: colocate_with (from tensorflow.python.framework.ops) is deprecated and will be removed in a future version.\n",
            "Instructions for updating:\n",
            "Colocations handled automatically by placer.\n",
            "WARNING:tensorflow:From /usr/local/lib/python3.6/dist-packages/tensorflow/python/keras/utils/losses_utils.py:170: to_float (from tensorflow.python.ops.math_ops) is deprecated and will be removed in a future version.\n",
            "Instructions for updating:\n",
            "Use tf.cast instead.\n",
            "WARNING:tensorflow:From /usr/local/lib/python3.6/dist-packages/tensorflow/python/ops/math_ops.py:3066: to_int32 (from tensorflow.python.ops.math_ops) is deprecated and will be removed in a future version.\n",
            "Instructions for updating:\n",
            "Use tf.cast instead.\n"
          ],
          "name": "stdout"
        }
      ]
    },
    {
      "metadata": {
        "id": "Sn7BC4gBhsog",
        "colab_type": "code",
        "outputId": "e9b9c89a-3604-4a73-c059-20bd9eea791a",
        "colab": {
          "base_uri": "https://localhost:8080/",
          "height": 544
        }
      },
      "cell_type": "code",
      "source": [
        "model = keras.models.Sequential()\n",
        "model.add(keras.layers.LSTM(80, input_shape = (X_train_scaled.shape[1], X_train_scaled.shape[2]), activation='tanh', recurrent_activation='hard_sigmoid', use_bias=True, kernel_initializer='glorot_uniform', recurrent_initializer='orthogonal', bias_initializer='zeros', unit_forget_bias=True, kernel_regularizer=None, recurrent_regularizer=None, bias_regularizer=None, activity_regularizer=None, kernel_constraint=None, recurrent_constraint=None, bias_constraint=None, dropout=0.0, recurrent_dropout=0.0, implementation=1, return_sequences=False, return_state=False, go_backwards=False, stateful=False, unroll=False))\n",
        "model.add(keras.layers.BatchNormalization(axis = -1))\n",
        "model.add(keras.layers.Flatten())\n",
        "model.add(keras.layers.Dense(30,use_bias = True))\n",
        "model.add(keras.layers.BatchNormalization(axis = -1))\n",
        "model.add(keras.layers.Activation('tanh'))\n",
        "model.add(keras.layers.Dense(10,use_bias = True))\n",
        "model.add(keras.layers.BatchNormalization(axis = -1))\n",
        "model.add(keras.layers.LeakyReLU(alpha=0.2))\n",
        "model.add(keras.layers.Dense(1,use_bias = True))\n",
        "model.add(keras.layers.BatchNormalization(axis = -1))\n",
        "model.add(keras.layers.LeakyReLU(alpha=0.2))\n",
        "model.compile(optimizer = keras.optimizers.Adam(), loss='mean_squared_error', metrics = ['mean_absolute_error','mean_squared_error'])\n",
        "model.summary()"
      ],
      "execution_count": 42,
      "outputs": [
        {
          "output_type": "stream",
          "text": [
            "_________________________________________________________________\n",
            "Layer (type)                 Output Shape              Param #   \n",
            "=================================================================\n",
            "lstm_1 (LSTM)                (None, 80)                27520     \n",
            "_________________________________________________________________\n",
            "batch_normalization_v1_4 (Ba (None, 80)                320       \n",
            "_________________________________________________________________\n",
            "flatten_1 (Flatten)          (None, 80)                0         \n",
            "_________________________________________________________________\n",
            "dense_3 (Dense)              (None, 30)                2430      \n",
            "_________________________________________________________________\n",
            "batch_normalization_v1_5 (Ba (None, 30)                120       \n",
            "_________________________________________________________________\n",
            "activation_1 (Activation)    (None, 30)                0         \n",
            "_________________________________________________________________\n",
            "dense_4 (Dense)              (None, 10)                310       \n",
            "_________________________________________________________________\n",
            "batch_normalization_v1_6 (Ba (None, 10)                40        \n",
            "_________________________________________________________________\n",
            "leaky_re_lu_2 (LeakyReLU)    (None, 10)                0         \n",
            "_________________________________________________________________\n",
            "dense_5 (Dense)              (None, 1)                 11        \n",
            "_________________________________________________________________\n",
            "batch_normalization_v1_7 (Ba (None, 1)                 4         \n",
            "_________________________________________________________________\n",
            "leaky_re_lu_3 (LeakyReLU)    (None, 1)                 0         \n",
            "=================================================================\n",
            "Total params: 30,755\n",
            "Trainable params: 30,513\n",
            "Non-trainable params: 242\n",
            "_________________________________________________________________\n"
          ],
          "name": "stdout"
        }
      ]
    },
    {
      "metadata": {
        "id": "Pe79x2yRtUqQ",
        "colab_type": "code",
        "outputId": "8aa176ed-c61e-4220-c8f1-df9c233c3200",
        "colab": {
          "base_uri": "https://localhost:8080/",
          "height": 1020
        }
      },
      "cell_type": "code",
      "source": [
        "BATCH_SIZE = 2\n",
        "history = model.fit(x = X_train_scaled, y = y_train_scaled, batch_size = BATCH_SIZE, epochs = 10, validation_data = (X_test_scaled, y_test_scaled))"
      ],
      "execution_count": 43,
      "outputs": [
        {
          "output_type": "stream",
          "text": [
            "Train on 36665 samples, validate on 14614 samples\n",
            "Epoch 1/10\n",
            "36665/36665 [==============================] - 1008s 27ms/sample - loss: 0.1711 - mean_absolute_error: 0.2419 - mean_squared_error: 0.1711 - val_loss: 2.5905e-04 - val_mean_absolute_error: 0.0062 - val_mean_squared_error: 2.5905e-04\n",
            "Epoch 2/10\n",
            "36665/36665 [==============================] - 996s 27ms/sample - loss: 3.4406e-04 - mean_absolute_error: 0.0053 - mean_squared_error: 3.4406e-04 - val_loss: 2.5548e-04 - val_mean_absolute_error: 0.0051 - val_mean_squared_error: 2.5548e-04\n",
            "Epoch 3/10\n",
            "36665/36665 [==============================] - 996s 27ms/sample - loss: 3.4473e-04 - mean_absolute_error: 0.0054 - mean_squared_error: 3.4473e-04 - val_loss: 2.5672e-04 - val_mean_absolute_error: 0.0049 - val_mean_squared_error: 2.5672e-04\n",
            "Epoch 4/10\n",
            "36665/36665 [==============================] - 1000s 27ms/sample - loss: 3.4414e-04 - mean_absolute_error: 0.0054 - mean_squared_error: 3.4414e-04 - val_loss: 2.5659e-04 - val_mean_absolute_error: 0.0048 - val_mean_squared_error: 2.5659e-04\n",
            "Epoch 5/10\n",
            "36665/36665 [==============================] - 1007s 27ms/sample - loss: 3.4437e-04 - mean_absolute_error: 0.0054 - mean_squared_error: 3.4437e-04 - val_loss: 2.5275e-04 - val_mean_absolute_error: 0.0059 - val_mean_squared_error: 2.5275e-04\n",
            "Epoch 6/10\n",
            "36665/36665 [==============================] - 1006s 27ms/sample - loss: 3.4385e-04 - mean_absolute_error: 0.0053 - mean_squared_error: 3.4385e-04 - val_loss: 2.5052e-04 - val_mean_absolute_error: 0.0053 - val_mean_squared_error: 2.5052e-04\n",
            "Epoch 7/10\n",
            "36665/36665 [==============================] - 1002s 27ms/sample - loss: 3.4266e-04 - mean_absolute_error: 0.0053 - mean_squared_error: 3.4266e-04 - val_loss: 2.5179e-04 - val_mean_absolute_error: 0.0057 - val_mean_squared_error: 2.5179e-04\n",
            "Epoch 8/10\n",
            "36665/36665 [==============================] - 989s 27ms/sample - loss: 3.4255e-04 - mean_absolute_error: 0.0053 - mean_squared_error: 3.4255e-04 - val_loss: 2.5680e-04 - val_mean_absolute_error: 0.0050 - val_mean_squared_error: 2.5680e-04\n",
            "Epoch 9/10\n",
            "36665/36665 [==============================] - 1002s 27ms/sample - loss: 3.4425e-04 - mean_absolute_error: 0.0053 - mean_squared_error: 3.4424e-04 - val_loss: 2.4980e-04 - val_mean_absolute_error: 0.0046 - val_mean_squared_error: 2.4980e-04\n",
            "Epoch 10/10\n",
            "36665/36665 [==============================] - 1010s 28ms/sample - loss: 3.4356e-04 - mean_absolute_error: 0.0053 - mean_squared_error: 3.4356e-04 - val_loss: 2.5067e-04 - val_mean_absolute_error: 0.0053 - val_mean_squared_error: 2.5067e-04\n"
          ],
          "name": "stdout"
        }
      ]
    },
    {
      "metadata": {
        "id": "Nz_-KdMmVLW9",
        "colab_type": "text"
      },
      "cell_type": "markdown",
      "source": [
        "## Model saving"
      ]
    },
    {
      "metadata": {
        "id": "Y6CU2WPnVNcR",
        "colab_type": "code",
        "colab": {}
      },
      "cell_type": "code",
      "source": [
        "model.save('FORTE_LSTM_on_non_zero.h5')"
      ],
      "execution_count": 0,
      "outputs": []
    },
    {
      "metadata": {
        "id": "vOpACHHtU3sG",
        "colab_type": "text"
      },
      "cell_type": "markdown",
      "source": [
        "## Visualization"
      ]
    },
    {
      "metadata": {
        "id": "weX-le1sw46-",
        "colab_type": "code",
        "outputId": "70caff2c-4a36-4129-c0ca-3fb5a87e055f",
        "colab": {
          "base_uri": "https://localhost:8080/",
          "height": 164
        }
      },
      "cell_type": "code",
      "source": [
        "plot_process(history, 'Linear.png')"
      ],
      "execution_count": 28,
      "outputs": [
        {
          "output_type": "error",
          "ename": "NameError",
          "evalue": "ignored",
          "traceback": [
            "\u001b[0;31m---------------------------------------------------------------------------\u001b[0m",
            "\u001b[0;31mNameError\u001b[0m                                 Traceback (most recent call last)",
            "\u001b[0;32m<ipython-input-28-f3392fb16393>\u001b[0m in \u001b[0;36m<module>\u001b[0;34m()\u001b[0m\n\u001b[0;32m----> 1\u001b[0;31m \u001b[0mplot_process\u001b[0m\u001b[0;34m(\u001b[0m\u001b[0mhistory\u001b[0m\u001b[0;34m,\u001b[0m \u001b[0;34m'Linear.png'\u001b[0m\u001b[0;34m)\u001b[0m\u001b[0;34m\u001b[0m\u001b[0;34m\u001b[0m\u001b[0m\n\u001b[0m",
            "\u001b[0;31mNameError\u001b[0m: name 'history' is not defined"
          ]
        }
      ]
    },
    {
      "metadata": {
        "id": "E60-xbtoU8PH",
        "colab_type": "text"
      },
      "cell_type": "markdown",
      "source": [
        "## Predicting"
      ]
    },
    {
      "metadata": {
        "id": "u7wG_hjjU8kf",
        "colab_type": "code",
        "colab": {
          "base_uri": "https://localhost:8080/",
          "height": 51
        },
        "outputId": "a3b726b8-f3db-477c-db11-6ae380bd7774"
      },
      "cell_type": "code",
      "source": [
        "%%time\n",
        "y_test_predicted_scaled = model.predict(X_test_scaled)\n",
        "y_test_predicted = scaler.inverse_transform_y(y_test_predicted_scaled)"
      ],
      "execution_count": 29,
      "outputs": [
        {
          "output_type": "stream",
          "text": [
            "CPU times: user 30.4 s, sys: 3.68 s, total: 34 s\n",
            "Wall time: 20.7 s\n"
          ],
          "name": "stdout"
        }
      ]
    },
    {
      "metadata": {
        "id": "yugBgSEwExG0",
        "colab_type": "code",
        "colab": {
          "base_uri": "https://localhost:8080/",
          "height": 51
        },
        "outputId": "0ba9e744-1375-4b1b-e7ad-d46b2d1d58bd"
      },
      "cell_type": "code",
      "source": [
        "%%time\n",
        "y_train_predicted_scaled = model.predict(X_train_scaled)\n",
        "y_train_predicted = scaler.inverse_transform_y(y_train_predicted_scaled)"
      ],
      "execution_count": 30,
      "outputs": [
        {
          "output_type": "stream",
          "text": [
            "CPU times: user 33.1 s, sys: 3.62 s, total: 36.7 s\n",
            "Wall time: 22.1 s\n"
          ],
          "name": "stdout"
        }
      ]
    },
    {
      "metadata": {
        "id": "En5imEwEm2Os",
        "colab_type": "code",
        "outputId": "963ff1be-9032-4977-fed2-6e9568f897d7",
        "colab": {
          "base_uri": "https://localhost:8080/",
          "height": 34
        }
      },
      "cell_type": "code",
      "source": [
        "y_test_predicted.shape"
      ],
      "execution_count": 31,
      "outputs": [
        {
          "output_type": "execute_result",
          "data": {
            "text/plain": [
              "(34545, 1)"
            ]
          },
          "metadata": {
            "tags": []
          },
          "execution_count": 31
        }
      ]
    },
    {
      "metadata": {
        "id": "62kPmoTitsyg",
        "colab_type": "text"
      },
      "cell_type": "markdown",
      "source": [
        "## Sliding window -> Standard data"
      ]
    },
    {
      "metadata": {
        "id": "jFKXw5GSuSyB",
        "colab_type": "code",
        "outputId": "852c3e1d-dd93-4cc0-a3c0-3a4e3d8ca99b",
        "colab": {
          "base_uri": "https://localhost:8080/",
          "height": 493
        }
      },
      "cell_type": "code",
      "source": [
        "X_train[100,]"
      ],
      "execution_count": 32,
      "outputs": [
        {
          "output_type": "execute_result",
          "data": {
            "text/plain": [
              "array([[ 148., 1550.,   68.,    9.,    0.],\n",
              "       [ 148., 1550.,   69.,    9.,    0.],\n",
              "       [ 148., 1550.,   70.,   10.,    0.],\n",
              "       [ 148., 1550.,   71.,   10.,    0.],\n",
              "       [ 148., 1550.,   72.,   10.,    0.],\n",
              "       [ 148., 1550.,   73.,   10.,    0.],\n",
              "       [ 148., 1550.,   74.,   10.,    0.],\n",
              "       [ 148., 1550.,   75.,   10.,    0.],\n",
              "       [ 148., 1550.,   76.,   10.,    0.],\n",
              "       [ 148., 1550.,   77.,   11.,    0.],\n",
              "       [ 148., 1550.,   78.,   11.,    0.],\n",
              "       [ 148., 1550.,   79.,   11.,    0.],\n",
              "       [ 148., 1550.,   80.,   11.,    0.],\n",
              "       [ 148., 1550.,   81.,   11.,    0.],\n",
              "       [ 148., 1550.,   82.,   11.,    0.],\n",
              "       [ 148., 1550.,   83.,   11.,    0.],\n",
              "       [ 148., 1550.,   84.,   12.,    0.],\n",
              "       [ 148., 1550.,   85.,   12.,    0.],\n",
              "       [ 148., 1550.,   86.,   12.,    0.],\n",
              "       [ 148., 1550.,   87.,   12.,    0.],\n",
              "       [ 148., 1550.,   88.,   12.,    0.],\n",
              "       [ 148., 1550.,   89.,   12.,    0.],\n",
              "       [ 148., 1550.,   90.,   12.,    0.],\n",
              "       [ 148., 1550.,   91.,   13.,    0.],\n",
              "       [ 148., 1550.,   92.,   13.,    0.],\n",
              "       [ 148., 1550.,   93.,   13.,    0.],\n",
              "       [ 148., 1550.,   94.,   13.,    0.],\n",
              "       [ 148., 1550.,   95.,   13.,    0.]])"
            ]
          },
          "metadata": {
            "tags": []
          },
          "execution_count": 32
        }
      ]
    },
    {
      "metadata": {
        "id": "w_K2CCVSw2f6",
        "colab_type": "code",
        "colab": {}
      },
      "cell_type": "code",
      "source": [
        "# 1. Fetching X record\n",
        "# 2. Incrementing time stamp to one\n",
        "# 3. Merging X & y records into var dataset\n",
        "def time_series_2_supervised(window, label):\n",
        "  \"\"\"\n",
        "    Given function converts a sliding window\n",
        "    to just simple \n",
        "  \"\"\"\n",
        "  # 1. Fetching all last X records in a train\n",
        "  X_rec = window[:,-1,:]\n",
        "\n",
        "  # 2. Incrementing time stamp to one\n",
        "  def incrementing_time_stamp(X):\n",
        "    X[2] += 1\n",
        "    X[3] = int(X[2] / 7)\n",
        "    return X\n",
        "\n",
        "  np.apply_along_axis(incrementing_time_stamp, 1, X_rec)\n",
        "  \n",
        "  # 3. Merging X & y records into var dataset\n",
        "  return np.concatenate((X_rec, label), axis = 1)"
      ],
      "execution_count": 0,
      "outputs": []
    },
    {
      "metadata": {
        "id": "OdYnRgYYkeYk",
        "colab_type": "text"
      },
      "cell_type": "markdown",
      "source": [
        "## Restoring our dataframes"
      ]
    },
    {
      "metadata": {
        "id": "q7bjBLPxnhEc",
        "colab_type": "code",
        "colab": {}
      },
      "cell_type": "code",
      "source": [
        "# 1. Transforming sliding window -> supervised\n",
        "# 2. Framing into pandas dataframe.\n",
        "train_predicted_df = pd.DataFrame(data = time_series_2_supervised(X_train, y_train_predicted), columns = np.append(train_df.columns.values,'item_cnt'))\n",
        "test_predicted_df = pd.DataFrame(data = time_series_2_supervised(X_test, y_test_predicted), columns = np.append(test_df.columns.values,'item_cnt'))"
      ],
      "execution_count": 0,
      "outputs": []
    },
    {
      "metadata": {
        "id": "wRGvfORByVAo",
        "colab_type": "code",
        "colab": {}
      },
      "cell_type": "code",
      "source": [
        "#train_predicted_df.to_csv('LSTM_train_predicted.csv')\n",
        "#test_predicted_df.to_csv('LSTM_test_predicted.csv')"
      ],
      "execution_count": 0,
      "outputs": []
    },
    {
      "metadata": {
        "colab_type": "code",
        "id": "p3Q16NSATTNz",
        "colab": {}
      },
      "cell_type": "code",
      "source": [
        ""
      ],
      "execution_count": 0,
      "outputs": []
    },
    {
      "metadata": {
        "id": "ESBwTWHXlwgW",
        "colab_type": "text"
      },
      "cell_type": "markdown",
      "source": [
        "## Filtering dataframes"
      ]
    },
    {
      "metadata": {
        "id": "7bQlSaXROp0V",
        "colab_type": "code",
        "outputId": "f14fb4cb-124b-4c2e-bb2b-8c54a78102c2",
        "colab": {
          "base_uri": "https://localhost:8080/",
          "height": 359
        }
      },
      "cell_type": "code",
      "source": [
        "train_predicted_df.tail(10)"
      ],
      "execution_count": 35,
      "outputs": [
        {
          "output_type": "execute_result",
          "data": {
            "text/html": [
              "<div>\n",
              "<style scoped>\n",
              "    .dataframe tbody tr th:only-of-type {\n",
              "        vertical-align: middle;\n",
              "    }\n",
              "\n",
              "    .dataframe tbody tr th {\n",
              "        vertical-align: top;\n",
              "    }\n",
              "\n",
              "    .dataframe thead th {\n",
              "        text-align: right;\n",
              "    }\n",
              "</style>\n",
              "<table border=\"1\" class=\"dataframe\">\n",
              "  <thead>\n",
              "    <tr style=\"text-align: right;\">\n",
              "      <th></th>\n",
              "      <th>id</th>\n",
              "      <th>cost</th>\n",
              "      <th>day_number</th>\n",
              "      <th>week</th>\n",
              "      <th>item_quantity</th>\n",
              "      <th>item_cnt</th>\n",
              "    </tr>\n",
              "  </thead>\n",
              "  <tbody>\n",
              "    <tr>\n",
              "      <th>36655</th>\n",
              "      <td>5036.0</td>\n",
              "      <td>36.0</td>\n",
              "      <td>116.0</td>\n",
              "      <td>16.0</td>\n",
              "      <td>70.0</td>\n",
              "      <td>177.676346</td>\n",
              "    </tr>\n",
              "    <tr>\n",
              "      <th>36656</th>\n",
              "      <td>5036.0</td>\n",
              "      <td>36.0</td>\n",
              "      <td>117.0</td>\n",
              "      <td>16.0</td>\n",
              "      <td>55.0</td>\n",
              "      <td>177.771088</td>\n",
              "    </tr>\n",
              "    <tr>\n",
              "      <th>36657</th>\n",
              "      <td>5036.0</td>\n",
              "      <td>36.0</td>\n",
              "      <td>118.0</td>\n",
              "      <td>16.0</td>\n",
              "      <td>70.0</td>\n",
              "      <td>177.782639</td>\n",
              "    </tr>\n",
              "    <tr>\n",
              "      <th>36658</th>\n",
              "      <td>5036.0</td>\n",
              "      <td>36.0</td>\n",
              "      <td>119.0</td>\n",
              "      <td>17.0</td>\n",
              "      <td>117.0</td>\n",
              "      <td>177.647018</td>\n",
              "    </tr>\n",
              "    <tr>\n",
              "      <th>36659</th>\n",
              "      <td>5036.0</td>\n",
              "      <td>36.0</td>\n",
              "      <td>120.0</td>\n",
              "      <td>17.0</td>\n",
              "      <td>90.0</td>\n",
              "      <td>177.657867</td>\n",
              "    </tr>\n",
              "    <tr>\n",
              "      <th>36660</th>\n",
              "      <td>5036.0</td>\n",
              "      <td>36.0</td>\n",
              "      <td>121.0</td>\n",
              "      <td>17.0</td>\n",
              "      <td>26.0</td>\n",
              "      <td>177.823761</td>\n",
              "    </tr>\n",
              "    <tr>\n",
              "      <th>36661</th>\n",
              "      <td>5036.0</td>\n",
              "      <td>36.0</td>\n",
              "      <td>122.0</td>\n",
              "      <td>17.0</td>\n",
              "      <td>66.0</td>\n",
              "      <td>177.774506</td>\n",
              "    </tr>\n",
              "    <tr>\n",
              "      <th>36662</th>\n",
              "      <td>5036.0</td>\n",
              "      <td>36.0</td>\n",
              "      <td>123.0</td>\n",
              "      <td>17.0</td>\n",
              "      <td>125.0</td>\n",
              "      <td>177.610992</td>\n",
              "    </tr>\n",
              "    <tr>\n",
              "      <th>36663</th>\n",
              "      <td>5036.0</td>\n",
              "      <td>36.0</td>\n",
              "      <td>124.0</td>\n",
              "      <td>17.0</td>\n",
              "      <td>40.0</td>\n",
              "      <td>177.775391</td>\n",
              "    </tr>\n",
              "    <tr>\n",
              "      <th>36664</th>\n",
              "      <td>5036.0</td>\n",
              "      <td>36.0</td>\n",
              "      <td>125.0</td>\n",
              "      <td>17.0</td>\n",
              "      <td>65.0</td>\n",
              "      <td>177.777618</td>\n",
              "    </tr>\n",
              "  </tbody>\n",
              "</table>\n",
              "</div>"
            ],
            "text/plain": [
              "           id  cost  day_number  week  item_quantity    item_cnt\n",
              "36655  5036.0  36.0       116.0  16.0           70.0  177.676346\n",
              "36656  5036.0  36.0       117.0  16.0           55.0  177.771088\n",
              "36657  5036.0  36.0       118.0  16.0           70.0  177.782639\n",
              "36658  5036.0  36.0       119.0  17.0          117.0  177.647018\n",
              "36659  5036.0  36.0       120.0  17.0           90.0  177.657867\n",
              "36660  5036.0  36.0       121.0  17.0           26.0  177.823761\n",
              "36661  5036.0  36.0       122.0  17.0           66.0  177.774506\n",
              "36662  5036.0  36.0       123.0  17.0          125.0  177.610992\n",
              "36663  5036.0  36.0       124.0  17.0           40.0  177.775391\n",
              "36664  5036.0  36.0       125.0  17.0           65.0  177.777618"
            ]
          },
          "metadata": {
            "tags": []
          },
          "execution_count": 35
        }
      ]
    },
    {
      "metadata": {
        "id": "-rI5sKRYOr_A",
        "colab_type": "code",
        "outputId": "69adac57-f384-4e5f-b66b-b24246cf5ee7",
        "colab": {
          "base_uri": "https://localhost:8080/",
          "height": 359
        }
      },
      "cell_type": "code",
      "source": [
        "test_predicted_df.tail(10)"
      ],
      "execution_count": 36,
      "outputs": [
        {
          "output_type": "execute_result",
          "data": {
            "text/html": [
              "<div>\n",
              "<style scoped>\n",
              "    .dataframe tbody tr th:only-of-type {\n",
              "        vertical-align: middle;\n",
              "    }\n",
              "\n",
              "    .dataframe tbody tr th {\n",
              "        vertical-align: top;\n",
              "    }\n",
              "\n",
              "    .dataframe thead th {\n",
              "        text-align: right;\n",
              "    }\n",
              "</style>\n",
              "<table border=\"1\" class=\"dataframe\">\n",
              "  <thead>\n",
              "    <tr style=\"text-align: right;\">\n",
              "      <th></th>\n",
              "      <th>id</th>\n",
              "      <th>cost</th>\n",
              "      <th>day_number</th>\n",
              "      <th>week</th>\n",
              "      <th>item_quantity</th>\n",
              "      <th>item_cnt</th>\n",
              "    </tr>\n",
              "  </thead>\n",
              "  <tbody>\n",
              "    <tr>\n",
              "      <th>34535</th>\n",
              "      <td>5035.0</td>\n",
              "      <td>10.010571</td>\n",
              "      <td>130.0</td>\n",
              "      <td>18.0</td>\n",
              "      <td>14.0</td>\n",
              "      <td>3.755257</td>\n",
              "    </tr>\n",
              "    <tr>\n",
              "      <th>34536</th>\n",
              "      <td>5035.0</td>\n",
              "      <td>10.010571</td>\n",
              "      <td>131.0</td>\n",
              "      <td>18.0</td>\n",
              "      <td>24.0</td>\n",
              "      <td>3.893201</td>\n",
              "    </tr>\n",
              "    <tr>\n",
              "      <th>34537</th>\n",
              "      <td>5035.0</td>\n",
              "      <td>10.010571</td>\n",
              "      <td>132.0</td>\n",
              "      <td>18.0</td>\n",
              "      <td>16.0</td>\n",
              "      <td>3.860971</td>\n",
              "    </tr>\n",
              "    <tr>\n",
              "      <th>34538</th>\n",
              "      <td>5036.0</td>\n",
              "      <td>36.000000</td>\n",
              "      <td>126.0</td>\n",
              "      <td>18.0</td>\n",
              "      <td>59.0</td>\n",
              "      <td>177.783005</td>\n",
              "    </tr>\n",
              "    <tr>\n",
              "      <th>34539</th>\n",
              "      <td>5036.0</td>\n",
              "      <td>36.000000</td>\n",
              "      <td>127.0</td>\n",
              "      <td>18.0</td>\n",
              "      <td>80.0</td>\n",
              "      <td>177.738205</td>\n",
              "    </tr>\n",
              "    <tr>\n",
              "      <th>34540</th>\n",
              "      <td>5036.0</td>\n",
              "      <td>36.000000</td>\n",
              "      <td>128.0</td>\n",
              "      <td>18.0</td>\n",
              "      <td>78.0</td>\n",
              "      <td>177.731598</td>\n",
              "    </tr>\n",
              "    <tr>\n",
              "      <th>34541</th>\n",
              "      <td>5036.0</td>\n",
              "      <td>36.000000</td>\n",
              "      <td>129.0</td>\n",
              "      <td>18.0</td>\n",
              "      <td>102.0</td>\n",
              "      <td>177.641907</td>\n",
              "    </tr>\n",
              "    <tr>\n",
              "      <th>34542</th>\n",
              "      <td>5036.0</td>\n",
              "      <td>36.000000</td>\n",
              "      <td>130.0</td>\n",
              "      <td>18.0</td>\n",
              "      <td>112.0</td>\n",
              "      <td>177.573792</td>\n",
              "    </tr>\n",
              "    <tr>\n",
              "      <th>34543</th>\n",
              "      <td>5036.0</td>\n",
              "      <td>36.000000</td>\n",
              "      <td>131.0</td>\n",
              "      <td>18.0</td>\n",
              "      <td>120.0</td>\n",
              "      <td>177.508942</td>\n",
              "    </tr>\n",
              "    <tr>\n",
              "      <th>34544</th>\n",
              "      <td>5036.0</td>\n",
              "      <td>36.000000</td>\n",
              "      <td>132.0</td>\n",
              "      <td>18.0</td>\n",
              "      <td>76.0</td>\n",
              "      <td>177.603821</td>\n",
              "    </tr>\n",
              "  </tbody>\n",
              "</table>\n",
              "</div>"
            ],
            "text/plain": [
              "           id       cost  day_number  week  item_quantity    item_cnt\n",
              "34535  5035.0  10.010571       130.0  18.0           14.0    3.755257\n",
              "34536  5035.0  10.010571       131.0  18.0           24.0    3.893201\n",
              "34537  5035.0  10.010571       132.0  18.0           16.0    3.860971\n",
              "34538  5036.0  36.000000       126.0  18.0           59.0  177.783005\n",
              "34539  5036.0  36.000000       127.0  18.0           80.0  177.738205\n",
              "34540  5036.0  36.000000       128.0  18.0           78.0  177.731598\n",
              "34541  5036.0  36.000000       129.0  18.0          102.0  177.641907\n",
              "34542  5036.0  36.000000       130.0  18.0          112.0  177.573792\n",
              "34543  5036.0  36.000000       131.0  18.0          120.0  177.508942\n",
              "34544  5036.0  36.000000       132.0  18.0           76.0  177.603821"
            ]
          },
          "metadata": {
            "tags": []
          },
          "execution_count": 36
        }
      ]
    },
    {
      "metadata": {
        "id": "LZ609cE1OueS",
        "colab_type": "code",
        "colab": {}
      },
      "cell_type": "code",
      "source": [
        "# Dropping old value of y\n",
        "test_predicted_df.drop(columns = [test_predicted_df.columns.values[-2]], inplace = True)\n",
        "train_predicted_df.drop(columns = [train_predicted_df.columns.values[-2]], inplace = True)"
      ],
      "execution_count": 0,
      "outputs": []
    },
    {
      "metadata": {
        "id": "Q1bsumexoKjk",
        "colab_type": "text"
      },
      "cell_type": "markdown",
      "source": [
        "## Visualization"
      ]
    },
    {
      "metadata": {
        "id": "hraGNkqok5Qc",
        "colab_type": "code",
        "colab": {}
      },
      "cell_type": "code",
      "source": [
        "train_predicted_df = train_predicted_df[['week','item_cnt']].groupby(['week']).agg({'item_cnt':'sum'}).reset_index()"
      ],
      "execution_count": 0,
      "outputs": []
    },
    {
      "metadata": {
        "id": "dOQ-0nhjnTRg",
        "colab_type": "code",
        "colab": {}
      },
      "cell_type": "code",
      "source": [
        "# Grouping predicted\n",
        "test_predicted_df = test_predicted_df[['week','item_cnt']].groupby(['week']).agg({'item_cnt':'sum'}).reset_index()\n",
        "test_predicted_df = test_predicted_df[test_predicted_df['week'] == 18]\n",
        "\n",
        "# Grouping actual\n",
        "# Grouping a datasets with actual datas\n",
        "train_grouped = train_df[['week','item_quantity']].groupby(['week']).agg({'item_quantity':'sum'}).reset_index().apply(lambda x: x)\n",
        "test_grouped = test_df[['week','item_quantity']].groupby(['week']).agg({'item_quantity':'sum'}).reset_index().apply(lambda x: x)\n",
        "test_grouped = test_grouped[test_grouped['week']==18]"
      ],
      "execution_count": 0,
      "outputs": []
    },
    {
      "metadata": {
        "id": "tc4nNeOXVEaf",
        "colab_type": "code",
        "colab": {
          "base_uri": "https://localhost:8080/",
          "height": 80
        },
        "outputId": "23bc8a74-f355-47af-f1d1-74d0cf49b152"
      },
      "cell_type": "code",
      "source": [
        "test_predicted_df"
      ],
      "execution_count": 52,
      "outputs": [
        {
          "output_type": "execute_result",
          "data": {
            "text/html": [
              "<div>\n",
              "<style scoped>\n",
              "    .dataframe tbody tr th:only-of-type {\n",
              "        vertical-align: middle;\n",
              "    }\n",
              "\n",
              "    .dataframe tbody tr th {\n",
              "        vertical-align: top;\n",
              "    }\n",
              "\n",
              "    .dataframe thead th {\n",
              "        text-align: right;\n",
              "    }\n",
              "</style>\n",
              "<table border=\"1\" class=\"dataframe\">\n",
              "  <thead>\n",
              "    <tr style=\"text-align: right;\">\n",
              "      <th></th>\n",
              "      <th>week</th>\n",
              "      <th>item_cnt</th>\n",
              "    </tr>\n",
              "  </thead>\n",
              "  <tbody>\n",
              "    <tr>\n",
              "      <th>0</th>\n",
              "      <td>18.0</td>\n",
              "      <td>31899.181466</td>\n",
              "    </tr>\n",
              "  </tbody>\n",
              "</table>\n",
              "</div>"
            ],
            "text/plain": [
              "   week      item_cnt\n",
              "0  18.0  31899.181466"
            ]
          },
          "metadata": {
            "tags": []
          },
          "execution_count": 52
        }
      ]
    },
    {
      "metadata": {
        "id": "A1HKq8HMT40x",
        "colab_type": "code",
        "colab": {
          "base_uri": "https://localhost:8080/",
          "height": 621
        },
        "outputId": "0b785faa-6206-465a-fdaf-84ba26340639"
      },
      "cell_type": "code",
      "source": [
        "plt.figure(figsize=(15,10))\n",
        "\n",
        "plt.plot(train_grouped['week'], train_grouped['item_quantity'], color = 'black', alpha = 0.7)\n",
        "plt.scatter(test_grouped['week'], test_grouped['item_quantity'], color = 'black', alpha = 0.7)\n",
        "\n",
        "plt.plot(train_predicted_df['week'], train_predicted_df['item_cnt'], color = 'purple', alpha = 0.7)\n",
        "plt.scatter(test_predicted_df['week'], test_predicted_df['item_cnt'], color = 'purple', alpha = 0.7)\n",
        "\n",
        "plt.title('Actual vs Prediciton')\n",
        "plt.ylabel('Item count')\n",
        "plt.xlabel('Month')\n",
        "plt.legend(['Black - actual', 'Purple - predicted', ], loc='upper left')\n",
        "plt.show()"
      ],
      "execution_count": 53,
      "outputs": [
        {
          "output_type": "display_data",
          "data": {
            "image/png": "[encoded data removed]",
            "text/plain": [
              "<Figure size 1080x720 with 1 Axes>"
            ]
          },
          "metadata": {
            "tags": []
          }
        }
      ]
    },
    {
      "metadata": {
        "id": "eZnlRtYIUYum",
        "colab_type": "code",
        "colab": {}
      },
      "cell_type": "code",
      "source": [
        ""
      ],
      "execution_count": 0,
      "outputs": []
    }
  ]
}