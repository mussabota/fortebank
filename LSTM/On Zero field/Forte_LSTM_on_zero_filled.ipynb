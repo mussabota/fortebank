{
  "nbformat": 4,
  "nbformat_minor": 0,
  "metadata": {
    "colab": {
      "name": "Forte_LSTM_on_zero_filled.ipynb",
      "version": "0.3.2",
      "provenance": [],
      "collapsed_sections": [],
      "toc_visible": true
    },
    "kernelspec": {
      "name": "python3",
      "display_name": "Python 3"
    },
    "accelerator": "GPU"
  },
  "cells": [
    {
      "metadata": {
        "id": "HyyqqUvnK2VY",
        "colab_type": "code",
        "colab": {}
      },
      "cell_type": "code",
      "source": [
        "import tensorflow as tf\n",
        "import tensorflow.keras as keras\n",
        "import pandas as pd\n",
        "import numpy as np\n",
        "import matplotlib.pyplot as plt\n",
        "import seaborn as sns"
      ],
      "execution_count": 0,
      "outputs": []
    },
    {
      "metadata": {
        "id": "IUT7ByqrK8Sv",
        "colab_type": "code",
        "colab": {}
      },
      "cell_type": "code",
      "source": [
        "def import_and_authenticate():\n",
        "  !pip install -U -q PyDrive\n",
        "  from pydrive.auth import GoogleAuth\n",
        "  from pydrive.drive import GoogleDrive\n",
        "  from google.colab import auth\n",
        "  from oauth2client.client import GoogleCredentials\n",
        "\n",
        "  auth.authenticate_user()\n",
        "  gauth = GoogleAuth()\n",
        "  gauth.credentials = GoogleCredentials.get_application_default()\n",
        "  return GoogleDrive(gauth)\n",
        "\n",
        "def get_dataset(link, drive):\n",
        "  fluff, id = link.split('=')\n",
        "  downloaded = drive.CreateFile({'id':id}) \n",
        "  downloaded.GetContentFile('temp.csv')  \n",
        "  dataset = pd.read_csv('temp.csv')\n",
        "  return dataset\n",
        "\n",
        "def activate_drive():\n",
        "  from google.colab import drive\n",
        "  drive.mount('/content/gdrive')\n",
        "\n",
        "import matplotlib.pyplot as plt\n",
        "def plot_process(history, name):\n",
        "  plt.figure(figsize=(15,10))\n",
        "  plt.plot(history.history['loss'])\n",
        "  plt.plot(history.history['val_loss'])\n",
        "  plt.plot(history.history['mean_squared_error'])\n",
        "  plt.plot(history.history['val_mean_squared_error'])\n",
        "  plt.title('model Description')\n",
        "  plt.ylabel('Error')\n",
        "  plt.xlabel('epoch')\n",
        "  plt.legend(['train_loss', 'test_loss','train_mean_squared_error','test_mean_squared_error'], loc='upper left')\n",
        "  plt.show()\n",
        "  plt.savefig(name)"
      ],
      "execution_count": 0,
      "outputs": []
    },
    {
      "metadata": {
        "id": "aL5ros0tK9zw",
        "colab_type": "code",
        "colab": {}
      },
      "cell_type": "code",
      "source": [
        "drive = import_and_authenticate()\n",
        "#train = get_dataset('https://drive.google.com/open?id=1r895ehmjNucPkcfasZgVNKFJGjKA2AKd', drive) // Not modified\n",
        "train = get_dataset('https://drive.google.com/open?id=1Y2nkm8s3FAa4feA4m_ofjeiGf6VoyQ2f',drive) # Zero-filled"
      ],
      "execution_count": 0,
      "outputs": []
    },
    {
      "metadata": {
        "id": "T7OJyc1TLUi6",
        "colab_type": "code",
        "outputId": "f31cb97f-7f07-495c-fe0e-edd7ca6ce7ad",
        "colab": {
          "base_uri": "https://localhost:8080/",
          "height": 204
        }
      },
      "cell_type": "code",
      "source": [
        "train.head()"
      ],
      "execution_count": 4,
      "outputs": [
        {
          "output_type": "execute_result",
          "data": {
            "text/html": [
              "<div>\n",
              "<style scoped>\n",
              "    .dataframe tbody tr th:only-of-type {\n",
              "        vertical-align: middle;\n",
              "    }\n",
              "\n",
              "    .dataframe tbody tr th {\n",
              "        vertical-align: top;\n",
              "    }\n",
              "\n",
              "    .dataframe thead th {\n",
              "        text-align: right;\n",
              "    }\n",
              "</style>\n",
              "<table border=\"1\" class=\"dataframe\">\n",
              "  <thead>\n",
              "    <tr style=\"text-align: right;\">\n",
              "      <th></th>\n",
              "      <th>date</th>\n",
              "      <th>id</th>\n",
              "      <th>cost</th>\n",
              "      <th>sold</th>\n",
              "    </tr>\n",
              "  </thead>\n",
              "  <tbody>\n",
              "    <tr>\n",
              "      <th>0</th>\n",
              "      <td>2018-12-01</td>\n",
              "      <td>0</td>\n",
              "      <td>350.0</td>\n",
              "      <td>0.0</td>\n",
              "    </tr>\n",
              "    <tr>\n",
              "      <th>1</th>\n",
              "      <td>2018-12-01</td>\n",
              "      <td>3371</td>\n",
              "      <td>637.5</td>\n",
              "      <td>0.0</td>\n",
              "    </tr>\n",
              "    <tr>\n",
              "      <th>2</th>\n",
              "      <td>2018-12-01</td>\n",
              "      <td>3370</td>\n",
              "      <td>720.0</td>\n",
              "      <td>0.0</td>\n",
              "    </tr>\n",
              "    <tr>\n",
              "      <th>3</th>\n",
              "      <td>2018-12-01</td>\n",
              "      <td>3369</td>\n",
              "      <td>497.5</td>\n",
              "      <td>0.0</td>\n",
              "    </tr>\n",
              "    <tr>\n",
              "      <th>4</th>\n",
              "      <td>2018-12-01</td>\n",
              "      <td>3368</td>\n",
              "      <td>292.0</td>\n",
              "      <td>0.0</td>\n",
              "    </tr>\n",
              "  </tbody>\n",
              "</table>\n",
              "</div>"
            ],
            "text/plain": [
              "         date    id   cost  sold\n",
              "0  2018-12-01     0  350.0   0.0\n",
              "1  2018-12-01  3371  637.5   0.0\n",
              "2  2018-12-01  3370  720.0   0.0\n",
              "3  2018-12-01  3369  497.5   0.0\n",
              "4  2018-12-01  3368  292.0   0.0"
            ]
          },
          "metadata": {
            "tags": []
          },
          "execution_count": 4
        }
      ]
    },
    {
      "metadata": {
        "id": "5E-tjkzFLkN-",
        "colab_type": "text"
      },
      "cell_type": "markdown",
      "source": [
        "## Renaming columns"
      ]
    },
    {
      "metadata": {
        "id": "L0T-eik0Lm7w",
        "colab_type": "code",
        "colab": {}
      },
      "cell_type": "code",
      "source": [
        "train.rename(columns={'date':'created_date','sold':'item_quantity'}, inplace=True)"
      ],
      "execution_count": 0,
      "outputs": []
    },
    {
      "metadata": {
        "id": "yGif1T2nLpVg",
        "colab_type": "text"
      },
      "cell_type": "markdown",
      "source": [
        "## Date preprocessing"
      ]
    },
    {
      "metadata": {
        "id": "RIOWRaSVLrFX",
        "colab_type": "code",
        "colab": {}
      },
      "cell_type": "code",
      "source": [
        "# Casting to date column created_date\n",
        "train['created_date'] = pd.to_datetime(train['created_date'], format='%Y-%m-%d')\n",
        "\n",
        "# Fetching a year\n",
        "train['day_in_year'] = train['created_date'].dt.dayofyear\n",
        "minim = min(train['created_date'].dt.year)\n",
        "train['year'] = train['created_date'].dt.year - minim\n",
        "train.head(4)\n",
        "\n",
        "# Linerizing a day according year\n",
        "lowest_day = train[train['year']==0]['day_in_year'].min()\n",
        "highest_day = train[train['year']==0]['day_in_year'].max()\n",
        "train['day_number'] = train['year'] * highest_day + train['day_in_year'] - lowest_day + 5\n",
        "\n",
        "# Week Binning\n",
        "train['week'] = np.int32(train['day_number'] / 7)\n",
        "train['day_of_week'] = np.int32(train['day_number'] % 7)\n",
        "train.drop(columns = ['created_date','day_in_year','year','day_of_week'], inplace = True)\n",
        "\n",
        "train = train[['id','cost','day_number','week','item_quantity']]"
      ],
      "execution_count": 0,
      "outputs": []
    },
    {
      "metadata": {
        "id": "W7JPwzjNLyco",
        "colab_type": "code",
        "outputId": "36a5c9e4-378f-46b8-e975-a653c9799ab7",
        "colab": {
          "base_uri": "https://localhost:8080/",
          "height": 204
        }
      },
      "cell_type": "code",
      "source": [
        "train.head()"
      ],
      "execution_count": 7,
      "outputs": [
        {
          "output_type": "execute_result",
          "data": {
            "text/html": [
              "<div>\n",
              "<style scoped>\n",
              "    .dataframe tbody tr th:only-of-type {\n",
              "        vertical-align: middle;\n",
              "    }\n",
              "\n",
              "    .dataframe tbody tr th {\n",
              "        vertical-align: top;\n",
              "    }\n",
              "\n",
              "    .dataframe thead th {\n",
              "        text-align: right;\n",
              "    }\n",
              "</style>\n",
              "<table border=\"1\" class=\"dataframe\">\n",
              "  <thead>\n",
              "    <tr style=\"text-align: right;\">\n",
              "      <th></th>\n",
              "      <th>id</th>\n",
              "      <th>cost</th>\n",
              "      <th>day_number</th>\n",
              "      <th>week</th>\n",
              "      <th>item_quantity</th>\n",
              "    </tr>\n",
              "  </thead>\n",
              "  <tbody>\n",
              "    <tr>\n",
              "      <th>0</th>\n",
              "      <td>0</td>\n",
              "      <td>350.0</td>\n",
              "      <td>5</td>\n",
              "      <td>0</td>\n",
              "      <td>0.0</td>\n",
              "    </tr>\n",
              "    <tr>\n",
              "      <th>1</th>\n",
              "      <td>3371</td>\n",
              "      <td>637.5</td>\n",
              "      <td>5</td>\n",
              "      <td>0</td>\n",
              "      <td>0.0</td>\n",
              "    </tr>\n",
              "    <tr>\n",
              "      <th>2</th>\n",
              "      <td>3370</td>\n",
              "      <td>720.0</td>\n",
              "      <td>5</td>\n",
              "      <td>0</td>\n",
              "      <td>0.0</td>\n",
              "    </tr>\n",
              "    <tr>\n",
              "      <th>3</th>\n",
              "      <td>3369</td>\n",
              "      <td>497.5</td>\n",
              "      <td>5</td>\n",
              "      <td>0</td>\n",
              "      <td>0.0</td>\n",
              "    </tr>\n",
              "    <tr>\n",
              "      <th>4</th>\n",
              "      <td>3368</td>\n",
              "      <td>292.0</td>\n",
              "      <td>5</td>\n",
              "      <td>0</td>\n",
              "      <td>0.0</td>\n",
              "    </tr>\n",
              "  </tbody>\n",
              "</table>\n",
              "</div>"
            ],
            "text/plain": [
              "     id   cost  day_number  week  item_quantity\n",
              "0     0  350.0           5     0            0.0\n",
              "1  3371  637.5           5     0            0.0\n",
              "2  3370  720.0           5     0            0.0\n",
              "3  3369  497.5           5     0            0.0\n",
              "4  3368  292.0           5     0            0.0"
            ]
          },
          "metadata": {
            "tags": []
          },
          "execution_count": 7
        }
      ]
    },
    {
      "metadata": {
        "id": "hO0uZw_INLF9",
        "colab_type": "text"
      },
      "cell_type": "markdown",
      "source": [
        "## Sorting our values"
      ]
    },
    {
      "metadata": {
        "id": "8kO6qxZXL9VC",
        "colab_type": "code",
        "colab": {}
      },
      "cell_type": "code",
      "source": [
        "# Sorting a values\n",
        "train = train.sort_values(by = ['id','day_number']).reset_index(drop = True)"
      ],
      "execution_count": 0,
      "outputs": []
    },
    {
      "metadata": {
        "id": "FxC-pI8TduYk",
        "colab_type": "code",
        "outputId": "7e7df5ae-85d8-40fb-c4fe-7af9978655da",
        "colab": {
          "base_uri": "https://localhost:8080/",
          "height": 204
        }
      },
      "cell_type": "code",
      "source": [
        "train.head()"
      ],
      "execution_count": 9,
      "outputs": [
        {
          "output_type": "execute_result",
          "data": {
            "text/html": [
              "<div>\n",
              "<style scoped>\n",
              "    .dataframe tbody tr th:only-of-type {\n",
              "        vertical-align: middle;\n",
              "    }\n",
              "\n",
              "    .dataframe tbody tr th {\n",
              "        vertical-align: top;\n",
              "    }\n",
              "\n",
              "    .dataframe thead th {\n",
              "        text-align: right;\n",
              "    }\n",
              "</style>\n",
              "<table border=\"1\" class=\"dataframe\">\n",
              "  <thead>\n",
              "    <tr style=\"text-align: right;\">\n",
              "      <th></th>\n",
              "      <th>id</th>\n",
              "      <th>cost</th>\n",
              "      <th>day_number</th>\n",
              "      <th>week</th>\n",
              "      <th>item_quantity</th>\n",
              "    </tr>\n",
              "  </thead>\n",
              "  <tbody>\n",
              "    <tr>\n",
              "      <th>0</th>\n",
              "      <td>0</td>\n",
              "      <td>350.0</td>\n",
              "      <td>5</td>\n",
              "      <td>0</td>\n",
              "      <td>0.0</td>\n",
              "    </tr>\n",
              "    <tr>\n",
              "      <th>1</th>\n",
              "      <td>0</td>\n",
              "      <td>350.0</td>\n",
              "      <td>6</td>\n",
              "      <td>0</td>\n",
              "      <td>0.0</td>\n",
              "    </tr>\n",
              "    <tr>\n",
              "      <th>2</th>\n",
              "      <td>0</td>\n",
              "      <td>350.0</td>\n",
              "      <td>7</td>\n",
              "      <td>1</td>\n",
              "      <td>0.0</td>\n",
              "    </tr>\n",
              "    <tr>\n",
              "      <th>3</th>\n",
              "      <td>0</td>\n",
              "      <td>350.0</td>\n",
              "      <td>8</td>\n",
              "      <td>1</td>\n",
              "      <td>0.0</td>\n",
              "    </tr>\n",
              "    <tr>\n",
              "      <th>4</th>\n",
              "      <td>0</td>\n",
              "      <td>350.0</td>\n",
              "      <td>9</td>\n",
              "      <td>1</td>\n",
              "      <td>0.0</td>\n",
              "    </tr>\n",
              "  </tbody>\n",
              "</table>\n",
              "</div>"
            ],
            "text/plain": [
              "   id   cost  day_number  week  item_quantity\n",
              "0   0  350.0           5     0            0.0\n",
              "1   0  350.0           6     0            0.0\n",
              "2   0  350.0           7     1            0.0\n",
              "3   0  350.0           8     1            0.0\n",
              "4   0  350.0           9     1            0.0"
            ]
          },
          "metadata": {
            "tags": []
          },
          "execution_count": 9
        }
      ]
    },
    {
      "metadata": {
        "id": "DVrwE4XfNiG6",
        "colab_type": "text"
      },
      "cell_type": "markdown",
      "source": [
        "## Train & Test"
      ]
    },
    {
      "metadata": {
        "colab_type": "code",
        "id": "SizizO0UhP-_",
        "colab": {}
      },
      "cell_type": "code",
      "source": [
        "def split_into_train_and_test(dataset):\n",
        "  last_week = dataset['week'].max() # 19 week\n",
        "  dataset = dataset[dataset['week'] != last_week]\n",
        "\n",
        "  last_week = dataset['week'].max() # 18 week\n",
        "  test = dataset[dataset['week'] == last_week].copy() # 18 week\n",
        "  train = dataset[dataset['week'] != last_week] # All before 18 week\n",
        "  return train,test\n",
        "\n",
        "train_df, test_df = split_into_train_and_test(train)"
      ],
      "execution_count": 0,
      "outputs": []
    },
    {
      "metadata": {
        "id": "KkFsi2XahT3g",
        "colab_type": "code",
        "outputId": "7d692237-23a1-4cbb-970f-1465c1f6ce89",
        "colab": {
          "base_uri": "https://localhost:8080/",
          "height": 173
        }
      },
      "cell_type": "code",
      "source": [
        "train_df.tail(4)"
      ],
      "execution_count": 11,
      "outputs": [
        {
          "output_type": "execute_result",
          "data": {
            "text/html": [
              "<div>\n",
              "<style scoped>\n",
              "    .dataframe tbody tr th:only-of-type {\n",
              "        vertical-align: middle;\n",
              "    }\n",
              "\n",
              "    .dataframe tbody tr th {\n",
              "        vertical-align: top;\n",
              "    }\n",
              "\n",
              "    .dataframe thead th {\n",
              "        text-align: right;\n",
              "    }\n",
              "</style>\n",
              "<table border=\"1\" class=\"dataframe\">\n",
              "  <thead>\n",
              "    <tr style=\"text-align: right;\">\n",
              "      <th></th>\n",
              "      <th>id</th>\n",
              "      <th>cost</th>\n",
              "      <th>day_number</th>\n",
              "      <th>week</th>\n",
              "      <th>item_quantity</th>\n",
              "    </tr>\n",
              "  </thead>\n",
              "  <tbody>\n",
              "    <tr>\n",
              "      <th>636603</th>\n",
              "      <td>5036</td>\n",
              "      <td>36.0</td>\n",
              "      <td>122</td>\n",
              "      <td>17</td>\n",
              "      <td>125.0</td>\n",
              "    </tr>\n",
              "    <tr>\n",
              "      <th>636604</th>\n",
              "      <td>5036</td>\n",
              "      <td>36.0</td>\n",
              "      <td>123</td>\n",
              "      <td>17</td>\n",
              "      <td>40.0</td>\n",
              "    </tr>\n",
              "    <tr>\n",
              "      <th>636605</th>\n",
              "      <td>5036</td>\n",
              "      <td>36.0</td>\n",
              "      <td>124</td>\n",
              "      <td>17</td>\n",
              "      <td>65.0</td>\n",
              "    </tr>\n",
              "    <tr>\n",
              "      <th>636606</th>\n",
              "      <td>5036</td>\n",
              "      <td>36.0</td>\n",
              "      <td>125</td>\n",
              "      <td>17</td>\n",
              "      <td>59.0</td>\n",
              "    </tr>\n",
              "  </tbody>\n",
              "</table>\n",
              "</div>"
            ],
            "text/plain": [
              "          id  cost  day_number  week  item_quantity\n",
              "636603  5036  36.0         122    17          125.0\n",
              "636604  5036  36.0         123    17           40.0\n",
              "636605  5036  36.0         124    17           65.0\n",
              "636606  5036  36.0         125    17           59.0"
            ]
          },
          "metadata": {
            "tags": []
          },
          "execution_count": 11
        }
      ]
    },
    {
      "metadata": {
        "id": "OrzBehSYNsBv",
        "colab_type": "code",
        "outputId": "42accf19-4489-49d9-d2bb-2d6292997a38",
        "colab": {
          "base_uri": "https://localhost:8080/",
          "height": 187
        }
      },
      "cell_type": "code",
      "source": [
        "train_df.info()"
      ],
      "execution_count": 12,
      "outputs": [
        {
          "output_type": "stream",
          "text": [
            "<class 'pandas.core.frame.DataFrame'>\n",
            "Int64Index: 597135 entries, 0 to 636606\n",
            "Data columns (total 5 columns):\n",
            "id               597135 non-null int64\n",
            "cost             597135 non-null float64\n",
            "day_number       597135 non-null int64\n",
            "week             597135 non-null int32\n",
            "item_quantity    597135 non-null float64\n",
            "dtypes: float64(2), int32(1), int64(2)\n",
            "memory usage: 25.1 MB\n"
          ],
          "name": "stdout"
        }
      ]
    },
    {
      "metadata": {
        "id": "4HE7C7wJhV1x",
        "colab_type": "code",
        "outputId": "945f6e29-9794-4c19-e13e-de9197d2b35c",
        "colab": {
          "base_uri": "https://localhost:8080/",
          "height": 173
        }
      },
      "cell_type": "code",
      "source": [
        "test_df.head(4)"
      ],
      "execution_count": 13,
      "outputs": [
        {
          "output_type": "execute_result",
          "data": {
            "text/html": [
              "<div>\n",
              "<style scoped>\n",
              "    .dataframe tbody tr th:only-of-type {\n",
              "        vertical-align: middle;\n",
              "    }\n",
              "\n",
              "    .dataframe tbody tr th {\n",
              "        vertical-align: top;\n",
              "    }\n",
              "\n",
              "    .dataframe thead th {\n",
              "        text-align: right;\n",
              "    }\n",
              "</style>\n",
              "<table border=\"1\" class=\"dataframe\">\n",
              "  <thead>\n",
              "    <tr style=\"text-align: right;\">\n",
              "      <th></th>\n",
              "      <th>id</th>\n",
              "      <th>cost</th>\n",
              "      <th>day_number</th>\n",
              "      <th>week</th>\n",
              "      <th>item_quantity</th>\n",
              "    </tr>\n",
              "  </thead>\n",
              "  <tbody>\n",
              "    <tr>\n",
              "      <th>121</th>\n",
              "      <td>0</td>\n",
              "      <td>350.0</td>\n",
              "      <td>126</td>\n",
              "      <td>18</td>\n",
              "      <td>0.0</td>\n",
              "    </tr>\n",
              "    <tr>\n",
              "      <th>122</th>\n",
              "      <td>0</td>\n",
              "      <td>350.0</td>\n",
              "      <td>127</td>\n",
              "      <td>18</td>\n",
              "      <td>0.0</td>\n",
              "    </tr>\n",
              "    <tr>\n",
              "      <th>123</th>\n",
              "      <td>0</td>\n",
              "      <td>350.0</td>\n",
              "      <td>128</td>\n",
              "      <td>18</td>\n",
              "      <td>0.0</td>\n",
              "    </tr>\n",
              "    <tr>\n",
              "      <th>124</th>\n",
              "      <td>0</td>\n",
              "      <td>350.0</td>\n",
              "      <td>129</td>\n",
              "      <td>18</td>\n",
              "      <td>0.0</td>\n",
              "    </tr>\n",
              "  </tbody>\n",
              "</table>\n",
              "</div>"
            ],
            "text/plain": [
              "     id   cost  day_number  week  item_quantity\n",
              "121   0  350.0         126    18            0.0\n",
              "122   0  350.0         127    18            0.0\n",
              "123   0  350.0         128    18            0.0\n",
              "124   0  350.0         129    18            0.0"
            ]
          },
          "metadata": {
            "tags": []
          },
          "execution_count": 13
        }
      ]
    },
    {
      "metadata": {
        "id": "7wU3ZtKqeE2a",
        "colab_type": "text"
      },
      "cell_type": "markdown",
      "source": [
        "## Splitting into X & y"
      ]
    },
    {
      "metadata": {
        "id": "Jwmg5eBzNnPX",
        "colab_type": "code",
        "colab": {}
      },
      "cell_type": "code",
      "source": [
        "def split(dataset):\n",
        "  return dataset[dataset.columns.values[:-1]], dataset[dataset.columns.values[-1]]\n",
        "X_train, y_train = split(train_df)\n",
        "X_test, y_test = split(test_df)"
      ],
      "execution_count": 0,
      "outputs": []
    },
    {
      "metadata": {
        "colab_type": "text",
        "id": "4x1Fuw_YUXs1"
      },
      "cell_type": "markdown",
      "source": [
        "## Scaler class"
      ]
    },
    {
      "metadata": {
        "id": "q-xfjgELeJFQ",
        "colab_type": "code",
        "colab": {}
      },
      "cell_type": "code",
      "source": [
        "from sklearn.preprocessing import MinMaxScaler\n",
        "class Scaler_3d():\n",
        "\n",
        "  def __init__(self):\n",
        "    self.__X_scaler = MinMaxScaler(feature_range=(-1, 1), copy=True)\n",
        "    self.__y_scaler = MinMaxScaler(feature_range=(-1, 1), copy=True)\n",
        "  \n",
        "  # Fitting\n",
        "  def fit(self, X_train, y_train):\n",
        "    x = X_train.shape[0]\n",
        "    y = X_train.shape[1]\n",
        "    z = X_train.shape[2]    \n",
        "    \n",
        "    self.__X_scaler.fit(np.reshape(X_train, (x*y,z)))\n",
        "    self.__y_scaler.fit(y_train)\n",
        "  \n",
        "  # scaling\n",
        "  def transform(self, X, y):\n",
        "    \n",
        "    x_dim = X.shape[0]\n",
        "    y_dim = X.shape[1]\n",
        "    z_dim = X.shape[2]    \n",
        "    \n",
        "    X_reshaped =  np.reshape(X, (x_dim * y_dim, z_dim))\n",
        "    X_reshaped_scaled = self.__X_scaler.transform(X_reshaped)\n",
        "    X_scaled = np.reshape(X_reshaped_scaled, (x_dim, y_dim, z_dim))\n",
        "    \n",
        "    y_scaled = self.__y_scaler.transform(y)\n",
        "    return X_scaled, y_scaled \n",
        "  \n",
        "  def inverse_transform_X(self, X):\n",
        "    x_dim = X.shape[0]\n",
        "    y_dim = X.shape[1]\n",
        "    z_dim = X.shape[2]    \n",
        "    \n",
        "    X_reshaped =  np.reshape(X, (x_dim * y_dim, z_dim))\n",
        "    X_reshaped_scaled = self.__X_scaler.inverse_transform(X_reshaped)\n",
        "    X_scaled = np.reshape(X_reshaped_scaled, (x_dim, y_dim, z_dim))\n",
        "  \n",
        "  def inverse_transform_y(self, y):\n",
        "    return self.__y_scaler.inverse_transform(y)\n",
        "    "
      ],
      "execution_count": 0,
      "outputs": []
    },
    {
      "metadata": {
        "id": "BHEYM9kqkXxA",
        "colab_type": "text"
      },
      "cell_type": "markdown",
      "source": [
        "## Building a sliding window for train_matrix\n",
        "      + One sliding window = 4 weeks = 28 days\n",
        "      + frequency of discretization: 1 day\n",
        "      (# Records, # Timestamps in Rec, # of vars in one timestamp).\n",
        "   \n",
        "     - We have a different item_id"
      ]
    },
    {
      "metadata": {
        "id": "lXCOK1f6lCIE",
        "colab_type": "code",
        "colab": {}
      },
      "cell_type": "code",
      "source": [
        "rec_size = 28 # Represents amount of previous records in current record\n",
        "window_size = rec_size * train.shape[1] # Amount of records in one preprocessed record\n",
        "last_id = train['id'].max()"
      ],
      "execution_count": 0,
      "outputs": []
    },
    {
      "metadata": {
        "id": "IGqGoe2Al70w",
        "colab_type": "code",
        "colab": {}
      },
      "cell_type": "code",
      "source": [
        "def train_supervised_2_time_series(dataset, last_label, amount_of_timestamps_in_a_record):\n",
        "  \n",
        "  X_train_ = []\n",
        "  y_train_ = []\n",
        "  last_label += 1 # Used to include highest label\n",
        "  \n",
        "  for item_id in range(0, last_label):\n",
        "    # Fetching table belonging to partilular id\n",
        "    temp_df = dataset[dataset['id']==item_id].copy()\n",
        "\n",
        "    # Turn to next id if no records\n",
        "    if temp_df.empty: continue\n",
        "\n",
        "    # to numpy\n",
        "    matrix = temp_df.values\n",
        "    \n",
        "    # Clean memory\n",
        "    del temp_df\n",
        "    \n",
        "    for i in range(amount_of_timestamps_in_a_record, matrix.shape[0]):\n",
        "\n",
        "      # we will append the first 28 values to X\n",
        "      X_train_.append(matrix[i-amount_of_timestamps_in_a_record:i, :])\n",
        "      # and 28 value will be appended to y\n",
        "      y_train_.append(matrix[i, -1])\n",
        "  \n",
        "  return np.array(X_train_), np.reshape(np.array(y_train_),(-1,1))"
      ],
      "execution_count": 0,
      "outputs": []
    },
    {
      "metadata": {
        "id": "80BU7NUaeKNx",
        "colab_type": "code",
        "outputId": "285b8ccb-99fb-4e63-969e-03d552d57af0",
        "colab": {
          "base_uri": "https://localhost:8080/",
          "height": 34
        }
      },
      "cell_type": "code",
      "source": [
        "import time\n",
        "start = time.time()\n",
        "\n",
        "X_train, y_train = train_supervised_2_time_series(train, train['id'].max(), rec_size)\n",
        "\n",
        "end = time.time()\n",
        "print(end - start)"
      ],
      "execution_count": 18,
      "outputs": [
        {
          "output_type": "stream",
          "text": [
            "8.706854343414307\n"
          ],
          "name": "stdout"
        }
      ]
    },
    {
      "metadata": {
        "id": "CGbaILAIhmnh",
        "colab_type": "code",
        "outputId": "c56295cd-1be1-46a1-f089-445553b1c773",
        "colab": {
          "base_uri": "https://localhost:8080/",
          "height": 493
        }
      },
      "cell_type": "code",
      "source": [
        "X_train[0]"
      ],
      "execution_count": 19,
      "outputs": [
        {
          "output_type": "execute_result",
          "data": {
            "text/plain": [
              "array([[  0., 350.,   5.,   0.,   0.],\n",
              "       [  0., 350.,   6.,   0.,   0.],\n",
              "       [  0., 350.,   7.,   1.,   0.],\n",
              "       [  0., 350.,   8.,   1.,   0.],\n",
              "       [  0., 350.,   9.,   1.,   0.],\n",
              "       [  0., 350.,  10.,   1.,   0.],\n",
              "       [  0., 350.,  11.,   1.,   0.],\n",
              "       [  0., 350.,  12.,   1.,   0.],\n",
              "       [  0., 350.,  13.,   1.,   0.],\n",
              "       [  0., 350.,  14.,   2.,   0.],\n",
              "       [  0., 350.,  15.,   2.,   0.],\n",
              "       [  0., 350.,  16.,   2.,   0.],\n",
              "       [  0., 350.,  17.,   2.,   0.],\n",
              "       [  0., 350.,  18.,   2.,   0.],\n",
              "       [  0., 350.,  19.,   2.,   0.],\n",
              "       [  0., 350.,  20.,   2.,   0.],\n",
              "       [  0., 350.,  21.,   3.,   0.],\n",
              "       [  0., 350.,  22.,   3.,   0.],\n",
              "       [  0., 350.,  23.,   3.,   0.],\n",
              "       [  0., 350.,  24.,   3.,   0.],\n",
              "       [  0., 350.,  25.,   3.,   0.],\n",
              "       [  0., 350.,  26.,   3.,   0.],\n",
              "       [  0., 350.,  27.,   3.,   0.],\n",
              "       [  0., 350.,  28.,   4.,   0.],\n",
              "       [  0., 350.,  29.,   4.,   0.],\n",
              "       [  0., 350.,  30.,   4.,   0.],\n",
              "       [  0., 350.,  31.,   4.,   0.],\n",
              "       [  0., 350.,  32.,   4.,   0.]])"
            ]
          },
          "metadata": {
            "tags": []
          },
          "execution_count": 19
        }
      ]
    },
    {
      "metadata": {
        "id": "N1kKcFktr-3s",
        "colab_type": "code",
        "outputId": "7c32ec8c-2428-4a47-c9c1-eef55d58cd6e",
        "colab": {
          "base_uri": "https://localhost:8080/",
          "height": 34
        }
      },
      "cell_type": "code",
      "source": [
        "y_train.shape"
      ],
      "execution_count": 20,
      "outputs": [
        {
          "output_type": "execute_result",
          "data": {
            "text/plain": [
              "(498435, 1)"
            ]
          },
          "metadata": {
            "tags": []
          },
          "execution_count": 20
        }
      ]
    },
    {
      "metadata": {
        "id": "cGoSBPoK3L1m",
        "colab_type": "text"
      },
      "cell_type": "markdown",
      "source": [
        "## Sliding window for test_matrix"
      ]
    },
    {
      "metadata": {
        "id": "UFc9WFbt3VoA",
        "colab_type": "code",
        "colab": {}
      },
      "cell_type": "code",
      "source": [
        "test_df = pd.concat((train_df[train_df['week'] > 13],test_df)).sort_values(by = ['id','day_number']).reset_index(drop = True)"
      ],
      "execution_count": 0,
      "outputs": []
    },
    {
      "metadata": {
        "id": "tkR4W7fX6p6R",
        "colab_type": "code",
        "colab": {}
      },
      "cell_type": "code",
      "source": [
        "rec_size = 28 # Represents amount of previous records in current record\n",
        "window_size = rec_size * test_df.shape[1] # Amount of records in one preprocessed record\n",
        "last_id = train['id'].max()"
      ],
      "execution_count": 0,
      "outputs": []
    },
    {
      "metadata": {
        "id": "jD33uGDN69_Z",
        "colab_type": "code",
        "outputId": "f714b87b-4af7-455e-f597-e07e240dd432",
        "colab": {
          "base_uri": "https://localhost:8080/",
          "height": 34
        }
      },
      "cell_type": "code",
      "source": [
        "import time\n",
        "start = time.time()\n",
        "\n",
        "X_test, y_test = train_supervised_2_time_series(test_df, test_df['id'].max(), rec_size)\n",
        "\n",
        "end = time.time()\n",
        "print(end - start)"
      ],
      "execution_count": 23,
      "outputs": [
        {
          "output_type": "stream",
          "text": [
            "5.718465566635132\n"
          ],
          "name": "stdout"
        }
      ]
    },
    {
      "metadata": {
        "id": "SshJUi2UkxVM",
        "colab_type": "text"
      },
      "cell_type": "markdown",
      "source": [
        "## Scaling train"
      ]
    },
    {
      "metadata": {
        "id": "_5M3c8bG76oo",
        "colab_type": "code",
        "outputId": "86a6ac97-b6e8-4898-89aa-7776650b31c9",
        "colab": {
          "base_uri": "https://localhost:8080/",
          "height": 34
        }
      },
      "cell_type": "code",
      "source": [
        "X_test.shape"
      ],
      "execution_count": 24,
      "outputs": [
        {
          "output_type": "execute_result",
          "data": {
            "text/plain": [
              "(34545, 28, 5)"
            ]
          },
          "metadata": {
            "tags": []
          },
          "execution_count": 24
        }
      ]
    },
    {
      "metadata": {
        "id": "fQxzgPnp78Qm",
        "colab_type": "code",
        "outputId": "54a402bc-58ca-4452-a48d-8a984944a203",
        "colab": {
          "base_uri": "https://localhost:8080/",
          "height": 34
        }
      },
      "cell_type": "code",
      "source": [
        "y_test.shape"
      ],
      "execution_count": 25,
      "outputs": [
        {
          "output_type": "execute_result",
          "data": {
            "text/plain": [
              "(34545, 1)"
            ]
          },
          "metadata": {
            "tags": []
          },
          "execution_count": 25
        }
      ]
    },
    {
      "metadata": {
        "id": "T1-dZofkkzMd",
        "colab_type": "code",
        "colab": {}
      },
      "cell_type": "code",
      "source": [
        "scaler = Scaler_3d()\n",
        "\n",
        "# train\n",
        "scaler.fit(X_train, y_train)\n",
        "X_train_scaled, y_train_scaled = scaler.transform(X_train, y_train)\n",
        "\n",
        "# test\n",
        "X_test_scaled, y_test_scaled = scaler.transform(X_test, y_test)"
      ],
      "execution_count": 0,
      "outputs": []
    },
    {
      "metadata": {
        "id": "0TDyVW4ytNKj",
        "colab_type": "code",
        "outputId": "38043b02-301b-4148-d78f-43bb3aa60e02",
        "colab": {
          "base_uri": "https://localhost:8080/",
          "height": 34
        }
      },
      "cell_type": "code",
      "source": [
        "X_train_scaled.shape"
      ],
      "execution_count": 27,
      "outputs": [
        {
          "output_type": "execute_result",
          "data": {
            "text/plain": [
              "(498435, 28, 5)"
            ]
          },
          "metadata": {
            "tags": []
          },
          "execution_count": 27
        }
      ]
    },
    {
      "metadata": {
        "id": "brYmgcJPhqjh",
        "colab_type": "text"
      },
      "cell_type": "markdown",
      "source": [
        "## Model building"
      ]
    },
    {
      "metadata": {
        "id": "YocUNvi117oc",
        "colab_type": "code",
        "colab": {
          "base_uri": "https://localhost:8080/",
          "height": 210
        },
        "outputId": "1c729cde-88ec-406b-cb84-cbb29fe6827c"
      },
      "cell_type": "code",
      "source": [
        "model = keras.models.load_model('FORTE_LSTM_on_zero_filled_v1.h5')"
      ],
      "execution_count": 28,
      "outputs": [
        {
          "output_type": "stream",
          "text": [
            "WARNING:tensorflow:From /usr/local/lib/python3.6/dist-packages/tensorflow/python/ops/resource_variable_ops.py:435: colocate_with (from tensorflow.python.framework.ops) is deprecated and will be removed in a future version.\n",
            "Instructions for updating:\n",
            "Colocations handled automatically by placer.\n",
            "WARNING:tensorflow:From /usr/local/lib/python3.6/dist-packages/tensorflow/python/keras/utils/losses_utils.py:170: to_float (from tensorflow.python.ops.math_ops) is deprecated and will be removed in a future version.\n",
            "Instructions for updating:\n",
            "Use tf.cast instead.\n",
            "WARNING:tensorflow:From /usr/local/lib/python3.6/dist-packages/tensorflow/python/ops/math_ops.py:3066: to_int32 (from tensorflow.python.ops.math_ops) is deprecated and will be removed in a future version.\n",
            "Instructions for updating:\n",
            "Use tf.cast instead.\n"
          ],
          "name": "stdout"
        }
      ]
    },
    {
      "metadata": {
        "id": "Sn7BC4gBhsog",
        "colab_type": "code",
        "outputId": "46b10558-8354-463a-d9bd-d89e3836a47f",
        "colab": {
          "base_uri": "https://localhost:8080/",
          "height": 706
        }
      },
      "cell_type": "code",
      "source": [
        "model = keras.models.Sequential()\n",
        "model.add(keras.layers.LSTM(80, input_shape = (X_train_scaled.shape[1], X_train_scaled.shape[2]), activation='tanh', recurrent_activation='hard_sigmoid', use_bias=True, kernel_initializer='glorot_uniform', recurrent_initializer='orthogonal', bias_initializer='zeros', unit_forget_bias=True, kernel_regularizer=None, recurrent_regularizer=None, bias_regularizer=None, activity_regularizer=None, kernel_constraint=None, recurrent_constraint=None, bias_constraint=None, dropout=0.0, recurrent_dropout=0.0, implementation=1, return_sequences=False, return_state=False, go_backwards=False, stateful=False, unroll=False))\n",
        "model.add(keras.layers.BatchNormalization(axis = -1))\n",
        "model.add(keras.layers.Flatten())\n",
        "model.add(keras.layers.Dense(30,use_bias = True))\n",
        "model.add(keras.layers.BatchNormalization(axis = -1))\n",
        "model.add(keras.layers.Activation('tanh'))\n",
        "model.add(keras.layers.Dense(10,use_bias = True))\n",
        "model.add(keras.layers.BatchNormalization(axis = -1))\n",
        "model.add(keras.layers.LeakyReLU(alpha=0.2))\n",
        "model.add(keras.layers.Dense(1,use_bias = True))\n",
        "model.add(keras.layers.BatchNormalization(axis = -1))\n",
        "model.add(keras.layers.LeakyReLU(alpha=0.2))\n",
        "model.compile(optimizer = keras.optimizers.Adam(), loss='mean_squared_error', metrics = ['mean_absolute_error','mean_squared_error'])\n",
        "model.summary()"
      ],
      "execution_count": 28,
      "outputs": [
        {
          "output_type": "stream",
          "text": [
            "WARNING:tensorflow:From /usr/local/lib/python3.6/dist-packages/tensorflow/python/ops/resource_variable_ops.py:435: colocate_with (from tensorflow.python.framework.ops) is deprecated and will be removed in a future version.\n",
            "Instructions for updating:\n",
            "Colocations handled automatically by placer.\n",
            "WARNING:tensorflow:From /usr/local/lib/python3.6/dist-packages/tensorflow/python/keras/utils/losses_utils.py:170: to_float (from tensorflow.python.ops.math_ops) is deprecated and will be removed in a future version.\n",
            "Instructions for updating:\n",
            "Use tf.cast instead.\n",
            "_________________________________________________________________\n",
            "Layer (type)                 Output Shape              Param #   \n",
            "=================================================================\n",
            "lstm (LSTM)                  (None, 80)                27520     \n",
            "_________________________________________________________________\n",
            "batch_normalization_v1 (Batc (None, 80)                320       \n",
            "_________________________________________________________________\n",
            "flatten (Flatten)            (None, 80)                0         \n",
            "_________________________________________________________________\n",
            "dense (Dense)                (None, 30)                2430      \n",
            "_________________________________________________________________\n",
            "batch_normalization_v1_1 (Ba (None, 30)                120       \n",
            "_________________________________________________________________\n",
            "activation (Activation)      (None, 30)                0         \n",
            "_________________________________________________________________\n",
            "dense_1 (Dense)              (None, 10)                310       \n",
            "_________________________________________________________________\n",
            "batch_normalization_v1_2 (Ba (None, 10)                40        \n",
            "_________________________________________________________________\n",
            "leaky_re_lu (LeakyReLU)      (None, 10)                0         \n",
            "_________________________________________________________________\n",
            "dense_2 (Dense)              (None, 1)                 11        \n",
            "_________________________________________________________________\n",
            "batch_normalization_v1_3 (Ba (None, 1)                 4         \n",
            "_________________________________________________________________\n",
            "leaky_re_lu_1 (LeakyReLU)    (None, 1)                 0         \n",
            "=================================================================\n",
            "Total params: 30,755\n",
            "Trainable params: 30,513\n",
            "Non-trainable params: 242\n",
            "_________________________________________________________________\n"
          ],
          "name": "stdout"
        }
      ]
    },
    {
      "metadata": {
        "id": "Pe79x2yRtUqQ",
        "colab_type": "code",
        "outputId": "2d599cd0-9c8e-4ea9-97b8-d5777d20ce43",
        "colab": {
          "base_uri": "https://localhost:8080/",
          "height": 1020
        }
      },
      "cell_type": "code",
      "source": [
        "BATCH_SIZE = 32\n",
        "history = model.fit(x = X_train_scaled, y = y_train_scaled, batch_size = BATCH_SIZE, epochs = 10, validation_data = (X_test_scaled, y_test_scaled))"
      ],
      "execution_count": 29,
      "outputs": [
        {
          "output_type": "stream",
          "text": [
            "Train on 458955 samples, validate on 34545 samples\n",
            "WARNING:tensorflow:From /usr/local/lib/python3.6/dist-packages/tensorflow/python/ops/math_ops.py:3066: to_int32 (from tensorflow.python.ops.math_ops) is deprecated and will be removed in a future version.\n",
            "Instructions for updating:\n",
            "Use tf.cast instead.\n",
            "Epoch 1/10\n",
            "458955/458955 [==============================] - 734s 2ms/sample - loss: 0.2070 - mean_absolute_error: 0.2964 - mean_squared_error: 0.2070 - val_loss: 3.2549e-05 - val_mean_absolute_error: 0.0011 - val_mean_squared_error: 3.2549e-05\n",
            "Epoch 2/10\n",
            "458955/458955 [==============================] - 741s 2ms/sample - loss: 3.0516e-05 - mean_absolute_error: 0.0011 - mean_squared_error: 3.0516e-05 - val_loss: 3.1006e-05 - val_mean_absolute_error: 9.6503e-04 - val_mean_squared_error: 3.1006e-05\n",
            "Epoch 3/10\n",
            "458955/458955 [==============================] - 744s 2ms/sample - loss: 3.0013e-05 - mean_absolute_error: 9.8780e-04 - mean_squared_error: 3.0013e-05 - val_loss: 2.7411e-05 - val_mean_absolute_error: 0.0010 - val_mean_squared_error: 2.7411e-05\n",
            "Epoch 4/10\n",
            "458955/458955 [==============================] - 745s 2ms/sample - loss: 2.9964e-05 - mean_absolute_error: 0.0010 - mean_squared_error: 2.9964e-05 - val_loss: 3.2643e-05 - val_mean_absolute_error: 0.0014 - val_mean_squared_error: 3.2643e-05\n",
            "Epoch 5/10\n",
            "360288/458955 [======================>.......] - ETA: 2:35 - loss: 3.2983e-05 - mean_absolute_error: 9.9589e-04 - mean_squared_error: 3.2983e-05Buffered data was truncated after reaching the output size limit."
          ],
          "name": "stdout"
        }
      ]
    },
    {
      "metadata": {
        "id": "Nz_-KdMmVLW9",
        "colab_type": "text"
      },
      "cell_type": "markdown",
      "source": [
        "## Model saving"
      ]
    },
    {
      "metadata": {
        "id": "Y6CU2WPnVNcR",
        "colab_type": "code",
        "colab": {}
      },
      "cell_type": "code",
      "source": [
        "model.save('FORTE_LSTM_on_zero_filled_v1.h5')"
      ],
      "execution_count": 0,
      "outputs": []
    },
    {
      "metadata": {
        "id": "vOpACHHtU3sG",
        "colab_type": "text"
      },
      "cell_type": "markdown",
      "source": [
        "## Visualization"
      ]
    },
    {
      "metadata": {
        "id": "weX-le1sw46-",
        "colab_type": "code",
        "colab": {
          "base_uri": "https://localhost:8080/",
          "height": 164
        },
        "outputId": "ce53be50-6bfe-4bf8-c99e-86f876f4cfd8"
      },
      "cell_type": "code",
      "source": [
        "plot_process(history, 'Linear.png')"
      ],
      "execution_count": 30,
      "outputs": [
        {
          "output_type": "error",
          "ename": "NameError",
          "evalue": "ignored",
          "traceback": [
            "\u001b[0;31m---------------------------------------------------------------------------\u001b[0m",
            "\u001b[0;31mNameError\u001b[0m                                 Traceback (most recent call last)",
            "\u001b[0;32m<ipython-input-30-f3392fb16393>\u001b[0m in \u001b[0;36m<module>\u001b[0;34m()\u001b[0m\n\u001b[0;32m----> 1\u001b[0;31m \u001b[0mplot_process\u001b[0m\u001b[0;34m(\u001b[0m\u001b[0mhistory\u001b[0m\u001b[0;34m,\u001b[0m \u001b[0;34m'Linear.png'\u001b[0m\u001b[0;34m)\u001b[0m\u001b[0;34m\u001b[0m\u001b[0;34m\u001b[0m\u001b[0m\n\u001b[0m",
            "\u001b[0;31mNameError\u001b[0m: name 'history' is not defined"
          ]
        }
      ]
    },
    {
      "metadata": {
        "id": "E60-xbtoU8PH",
        "colab_type": "text"
      },
      "cell_type": "markdown",
      "source": [
        "## Predicting"
      ]
    },
    {
      "metadata": {
        "id": "u7wG_hjjU8kf",
        "colab_type": "code",
        "colab": {}
      },
      "cell_type": "code",
      "source": [
        "y_test_predicted_scaled = model.predict(X_test_scaled)\n",
        "y_test_predicted = scaler.inverse_transform_y(y_test_predicted_scaled)"
      ],
      "execution_count": 0,
      "outputs": []
    },
    {
      "metadata": {
        "id": "yugBgSEwExG0",
        "colab_type": "code",
        "colab": {}
      },
      "cell_type": "code",
      "source": [
        "y_train_predicted_scaled = model.predict(X_train_scaled)\n",
        "y_train_predicted = scaler.inverse_transform_y(y_train_predicted_scaled)"
      ],
      "execution_count": 0,
      "outputs": []
    },
    {
      "metadata": {
        "id": "En5imEwEm2Os",
        "colab_type": "code",
        "colab": {
          "base_uri": "https://localhost:8080/",
          "height": 34
        },
        "outputId": "abc8744e-c924-456a-f815-4936e08076ab"
      },
      "cell_type": "code",
      "source": [
        "y_test_predicted.shape"
      ],
      "execution_count": 33,
      "outputs": [
        {
          "output_type": "execute_result",
          "data": {
            "text/plain": [
              "(34545, 1)"
            ]
          },
          "metadata": {
            "tags": []
          },
          "execution_count": 33
        }
      ]
    },
    {
      "metadata": {
        "id": "62kPmoTitsyg",
        "colab_type": "text"
      },
      "cell_type": "markdown",
      "source": [
        "## Sliding window -> Standard data"
      ]
    },
    {
      "metadata": {
        "id": "jFKXw5GSuSyB",
        "colab_type": "code",
        "colab": {
          "base_uri": "https://localhost:8080/",
          "height": 493
        },
        "outputId": "a01e85d5-a9b2-4458-f721-e4ac3e656a16"
      },
      "cell_type": "code",
      "source": [
        "X_train[101,]"
      ],
      "execution_count": 35,
      "outputs": [
        {
          "output_type": "execute_result",
          "data": {
            "text/plain": [
              "array([[  1., 530.,   5.,   0.,   0.],\n",
              "       [  1., 530.,   6.,   0.,   0.],\n",
              "       [  1., 530.,   7.,   1.,   0.],\n",
              "       [  1., 530.,   8.,   1.,   0.],\n",
              "       [  1., 530.,   9.,   1.,   0.],\n",
              "       [  1., 530.,  10.,   1.,   0.],\n",
              "       [  1., 530.,  11.,   1.,   0.],\n",
              "       [  1., 530.,  12.,   1.,   0.],\n",
              "       [  1., 530.,  13.,   1.,   0.],\n",
              "       [  1., 530.,  14.,   2.,   0.],\n",
              "       [  1., 530.,  15.,   2.,   0.],\n",
              "       [  1., 530.,  16.,   2.,   0.],\n",
              "       [  1., 530.,  17.,   2.,   0.],\n",
              "       [  1., 530.,  18.,   2.,   0.],\n",
              "       [  1., 530.,  19.,   2.,   0.],\n",
              "       [  1., 530.,  20.,   2.,   0.],\n",
              "       [  1., 530.,  21.,   3.,   0.],\n",
              "       [  1., 530.,  22.,   3.,   0.],\n",
              "       [  1., 530.,  23.,   3.,   0.],\n",
              "       [  1., 530.,  24.,   3.,   0.],\n",
              "       [  1., 530.,  25.,   3.,   0.],\n",
              "       [  1., 530.,  26.,   3.,   0.],\n",
              "       [  1., 530.,  27.,   3.,   0.],\n",
              "       [  1., 530.,  28.,   4.,   0.],\n",
              "       [  1., 530.,  29.,   4.,   0.],\n",
              "       [  1., 530.,  30.,   4.,   0.],\n",
              "       [  1., 530.,  31.,   4.,   0.],\n",
              "       [  1., 530.,  32.,   4.,   0.]])"
            ]
          },
          "metadata": {
            "tags": []
          },
          "execution_count": 35
        }
      ]
    },
    {
      "metadata": {
        "id": "fh8dKNiqm9Z2",
        "colab_type": "code",
        "colab": {
          "base_uri": "https://localhost:8080/",
          "height": 34
        },
        "outputId": "4081e4f3-3aa0-4809-d0e6-412cd253b94e"
      },
      "cell_type": "code",
      "source": [
        "# 1. Fetching X record\n",
        "# 2. Incrementing time stamp to one\n",
        "# 3. Merging X & y records into var dataset"
      ],
      "execution_count": 49,
      "outputs": [
        {
          "output_type": "execute_result",
          "data": {
            "text/plain": [
              "(34545, 28, 5)"
            ]
          },
          "metadata": {
            "tags": []
          },
          "execution_count": 49
        }
      ]
    },
    {
      "metadata": {
        "id": "w_K2CCVSw2f6",
        "colab_type": "code",
        "colab": {}
      },
      "cell_type": "code",
      "source": [
        "def time_series_2_supervised(window, label):\n",
        "  # 1. Fetching all last X records in a train\n",
        "  X_rec = window[:,-1,:]\n",
        "\n",
        "  # 2. Incrementing time stamp to one\n",
        "  def incrementing_time_stamp(X):\n",
        "    X[2] += 1\n",
        "    X[3] = int(X[2] / 7)\n",
        "    return X\n",
        "\n",
        "  np.apply_along_axis(incrementing_time_stamp, 1, X_rec)\n",
        "  \n",
        "  # 3. Merging X & y records into var dataset\n",
        "  return np.concatenate((X_rec, label), axis = 1)\n",
        "\n",
        "matrix_predicted = time_series_2_supervised(X_train, y_train_predicted)"
      ],
      "execution_count": 0,
      "outputs": []
    },
    {
      "metadata": {
        "id": "q7bjBLPxnhEc",
        "colab_type": "code",
        "colab": {}
      },
      "cell_type": "code",
      "source": [
        "train_predicted_df = pd.DataFrame(data = matrix_predicted, columns = np.append(train_df.columns.values,'item_quantity'))"
      ],
      "execution_count": 0,
      "outputs": []
    },
    {
      "metadata": {
        "id": "wRGvfORByVAo",
        "colab_type": "code",
        "colab": {}
      },
      "cell_type": "code",
      "source": [
        "train_predicted_df.to_csv('LSTM_train_predicted.csv')"
      ],
      "execution_count": 0,
      "outputs": []
    },
    {
      "metadata": {
        "id": "Kx-gRGUCNzd7",
        "colab_type": "code",
        "colab": {}
      },
      "cell_type": "code",
      "source": [
        "matrix_predicted = time_series_2_supervised(X_test, y_test_predicted)\n",
        "test_predicted_df = pd.DataFrame(data = matrix_predicted, columns = np.append(test_df.columns.values,'item_quantity'))"
      ],
      "execution_count": 0,
      "outputs": []
    },
    {
      "metadata": {
        "id": "Uqo82psqOdWU",
        "colab_type": "code",
        "colab": {}
      },
      "cell_type": "code",
      "source": [
        "test_predicted_df.to_csv('LSTM_test_predicted.csv')"
      ],
      "execution_count": 0,
      "outputs": []
    },
    {
      "metadata": {
        "id": "7bQlSaXROp0V",
        "colab_type": "code",
        "colab": {
          "base_uri": "https://localhost:8080/",
          "height": 34
        },
        "outputId": "7436e11b-9f1d-4b59-8a6e-850fc3765e93"
      },
      "cell_type": "code",
      "source": [
        "test_df.shape"
      ],
      "execution_count": 68,
      "outputs": [
        {
          "output_type": "execute_result",
          "data": {
            "text/plain": [
              "(172725, 5)"
            ]
          },
          "metadata": {
            "tags": []
          },
          "execution_count": 68
        }
      ]
    },
    {
      "metadata": {
        "id": "-rI5sKRYOr_A",
        "colab_type": "code",
        "colab": {
          "base_uri": "https://localhost:8080/",
          "height": 34
        },
        "outputId": "fb8a3c22-2908-4e74-b047-d5b2ee1a8111"
      },
      "cell_type": "code",
      "source": [
        "test_predicted_df.shape"
      ],
      "execution_count": 69,
      "outputs": [
        {
          "output_type": "execute_result",
          "data": {
            "text/plain": [
              "(34545, 6)"
            ]
          },
          "metadata": {
            "tags": []
          },
          "execution_count": 69
        }
      ]
    },
    {
      "metadata": {
        "id": "LZ609cE1OueS",
        "colab_type": "code",
        "colab": {}
      },
      "cell_type": "code",
      "source": [
        ""
      ],
      "execution_count": 0,
      "outputs": []
    }
  ]
}