{
  "nbformat": 4,
  "nbformat_minor": 0,
  "metadata": {
    "colab": {
      "name": "Forte_ANN_on_zero_filled.ipynb",
      "version": "0.3.2",
      "provenance": [],
      "collapsed_sections": [],
      "toc_visible": true
    },
    "kernelspec": {
      "name": "python3",
      "display_name": "Python 3"
    },
    "accelerator": "GPU"
  },
  "cells": [
    {
      "metadata": {
        "id": "qbTfv0-yO7f-",
        "colab_type": "code",
        "colab": {}
      },
      "cell_type": "code",
      "source": [
        "import tensorflow as tf\n",
        "import tensorflow.keras as keras\n",
        "\n",
        "import pandas as pd\n",
        "import numpy as np\n",
        "import matplotlib.pyplot as plt\n",
        "import seaborn as sns"
      ],
      "execution_count": 0,
      "outputs": []
    },
    {
      "metadata": {
        "id": "iZSKR2dbP7qH",
        "colab_type": "code",
        "colab": {}
      },
      "cell_type": "code",
      "source": [
        "def import_and_authenticate():\n",
        "  !pip install -U -q PyDrive\n",
        "  from pydrive.auth import GoogleAuth\n",
        "  from pydrive.drive import GoogleDrive\n",
        "  from google.colab import auth\n",
        "  from oauth2client.client import GoogleCredentials\n",
        "\n",
        "  auth.authenticate_user()\n",
        "  gauth = GoogleAuth()\n",
        "  gauth.credentials = GoogleCredentials.get_application_default()\n",
        "  return GoogleDrive(gauth)\n",
        "\n",
        "def get_dataset(link, drive):\n",
        "  fluff, id = link.split('=')\n",
        "  downloaded = drive.CreateFile({'id':id}) \n",
        "  downloaded.GetContentFile('temp.csv')  \n",
        "  dataset = pd.read_csv('temp.csv')\n",
        "  return dataset\n",
        "\n",
        "def activate_drive():\n",
        "  from google.colab import drive\n",
        "  drive.mount('/content/gdrive')\n",
        "\n",
        "import matplotlib.pyplot as plt\n",
        "def plot_process(history, name):\n",
        "  plt.figure(figsize=(15,10))\n",
        "  plt.plot(history.history['loss'])\n",
        "  plt.plot(history.history['val_loss'])\n",
        "  plt.plot(history.history['mean_squared_error'])\n",
        "  plt.plot(history.history['val_mean_squared_error'])\n",
        "  plt.title('model Description')\n",
        "  plt.ylabel('Error')\n",
        "  plt.xlabel('epoch')\n",
        "  plt.legend(['train_loss', 'test_loss','train_mean_squared_error','test_mean_squared_error'], loc='upper left')\n",
        "  plt.show()\n",
        "  plt.savefig(name)"
      ],
      "execution_count": 0,
      "outputs": []
    },
    {
      "metadata": {
        "id": "67mcK80_RWaq",
        "colab_type": "code",
        "colab": {}
      },
      "cell_type": "code",
      "source": [
        "drive = import_and_authenticate()\n",
        "#train = get_dataset('https://drive.google.com/open?id=1r895ehmjNucPkcfasZgVNKFJGjKA2AKd', drive) // Not modified\n",
        "train = get_dataset('https://drive.google.com/open?id=1Y2nkm8s3FAa4feA4m_ofjeiGf6VoyQ2f',drive) # Zero-filled"
      ],
      "execution_count": 0,
      "outputs": []
    },
    {
      "metadata": {
        "id": "CrqNHPb_yDFV",
        "colab_type": "code",
        "colab": {}
      },
      "cell_type": "code",
      "source": [
        "train.rename(columns={'date':'created_date','sold':'item_quantity'}, inplace=True)"
      ],
      "execution_count": 0,
      "outputs": []
    },
    {
      "metadata": {
        "id": "PTyISKATLLlB",
        "colab_type": "code",
        "colab": {
          "base_uri": "https://localhost:8080/",
          "height": 204
        },
        "outputId": "e3e66c86-c137-43cc-be4f-14cb35212944"
      },
      "cell_type": "code",
      "source": [
        "train.head()"
      ],
      "execution_count": 38,
      "outputs": [
        {
          "output_type": "execute_result",
          "data": {
            "text/html": [
              "<div>\n",
              "<style scoped>\n",
              "    .dataframe tbody tr th:only-of-type {\n",
              "        vertical-align: middle;\n",
              "    }\n",
              "\n",
              "    .dataframe tbody tr th {\n",
              "        vertical-align: top;\n",
              "    }\n",
              "\n",
              "    .dataframe thead th {\n",
              "        text-align: right;\n",
              "    }\n",
              "</style>\n",
              "<table border=\"1\" class=\"dataframe\">\n",
              "  <thead>\n",
              "    <tr style=\"text-align: right;\">\n",
              "      <th></th>\n",
              "      <th>created_date</th>\n",
              "      <th>id</th>\n",
              "      <th>cost</th>\n",
              "      <th>item_quantity</th>\n",
              "    </tr>\n",
              "  </thead>\n",
              "  <tbody>\n",
              "    <tr>\n",
              "      <th>0</th>\n",
              "      <td>2018-12-01</td>\n",
              "      <td>0</td>\n",
              "      <td>350.0</td>\n",
              "      <td>0.0</td>\n",
              "    </tr>\n",
              "    <tr>\n",
              "      <th>1</th>\n",
              "      <td>2018-12-01</td>\n",
              "      <td>3371</td>\n",
              "      <td>637.5</td>\n",
              "      <td>0.0</td>\n",
              "    </tr>\n",
              "    <tr>\n",
              "      <th>2</th>\n",
              "      <td>2018-12-01</td>\n",
              "      <td>3370</td>\n",
              "      <td>720.0</td>\n",
              "      <td>0.0</td>\n",
              "    </tr>\n",
              "    <tr>\n",
              "      <th>3</th>\n",
              "      <td>2018-12-01</td>\n",
              "      <td>3369</td>\n",
              "      <td>497.5</td>\n",
              "      <td>0.0</td>\n",
              "    </tr>\n",
              "    <tr>\n",
              "      <th>4</th>\n",
              "      <td>2018-12-01</td>\n",
              "      <td>3368</td>\n",
              "      <td>292.0</td>\n",
              "      <td>0.0</td>\n",
              "    </tr>\n",
              "  </tbody>\n",
              "</table>\n",
              "</div>"
            ],
            "text/plain": [
              "  created_date    id   cost  item_quantity\n",
              "0   2018-12-01     0  350.0            0.0\n",
              "1   2018-12-01  3371  637.5            0.0\n",
              "2   2018-12-01  3370  720.0            0.0\n",
              "3   2018-12-01  3369  497.5            0.0\n",
              "4   2018-12-01  3368  292.0            0.0"
            ]
          },
          "metadata": {
            "tags": []
          },
          "execution_count": 38
        }
      ]
    },
    {
      "metadata": {
        "id": "9fv3vDAaz7Sv",
        "colab_type": "text"
      },
      "cell_type": "markdown",
      "source": [
        "## Date preprocessing"
      ]
    },
    {
      "metadata": {
        "id": "Yb8jdjLrz-0P",
        "colab_type": "code",
        "colab": {}
      },
      "cell_type": "code",
      "source": [
        "# Casting to date column created_date\n",
        "train['created_date'] = pd.to_datetime(train['created_date'], format='%Y-%m-%d')\n",
        "\n",
        "# Fetching a year\n",
        "train['day'] = train['created_date'].dt.dayofyear\n",
        "minim = min(train['created_date'].dt.year)\n",
        "train['year'] = train['created_date'].dt.year - minim\n",
        "train.head(4)\n",
        "\n",
        "# Linerizing a day according year\n",
        "lowest_day = train[train['year']==0]['day'].min()\n",
        "highest_day = train[train['year']==0]['day'].max()\n",
        "train['day_id'] = train['year'] * highest_day + train['day'] - lowest_day + 5\n",
        "\n",
        "# Week Binning\n",
        "train['week'] = np.int32(train['day_id'] / 7)\n",
        "train['day_of_week'] = np.int32(train['day_id'] % 7)"
      ],
      "execution_count": 0,
      "outputs": []
    },
    {
      "metadata": {
        "id": "JMzB1L9I0gmu",
        "colab_type": "code",
        "colab": {}
      },
      "cell_type": "code",
      "source": [
        "train.drop(columns = ['created_date','day','year','day_id'], inplace = True)"
      ],
      "execution_count": 0,
      "outputs": []
    },
    {
      "metadata": {
        "id": "Kzul4JwLqh3u",
        "colab_type": "code",
        "outputId": "c212fe41-9ac9-4051-a19c-4517213b4523",
        "colab": {
          "base_uri": "https://localhost:8080/",
          "height": 204
        }
      },
      "cell_type": "code",
      "source": [
        "train.head()"
      ],
      "execution_count": 41,
      "outputs": [
        {
          "output_type": "execute_result",
          "data": {
            "text/html": [
              "<div>\n",
              "<style scoped>\n",
              "    .dataframe tbody tr th:only-of-type {\n",
              "        vertical-align: middle;\n",
              "    }\n",
              "\n",
              "    .dataframe tbody tr th {\n",
              "        vertical-align: top;\n",
              "    }\n",
              "\n",
              "    .dataframe thead th {\n",
              "        text-align: right;\n",
              "    }\n",
              "</style>\n",
              "<table border=\"1\" class=\"dataframe\">\n",
              "  <thead>\n",
              "    <tr style=\"text-align: right;\">\n",
              "      <th></th>\n",
              "      <th>id</th>\n",
              "      <th>cost</th>\n",
              "      <th>item_quantity</th>\n",
              "      <th>week</th>\n",
              "      <th>day_of_week</th>\n",
              "    </tr>\n",
              "  </thead>\n",
              "  <tbody>\n",
              "    <tr>\n",
              "      <th>0</th>\n",
              "      <td>0</td>\n",
              "      <td>350.0</td>\n",
              "      <td>0.0</td>\n",
              "      <td>0</td>\n",
              "      <td>5</td>\n",
              "    </tr>\n",
              "    <tr>\n",
              "      <th>1</th>\n",
              "      <td>3371</td>\n",
              "      <td>637.5</td>\n",
              "      <td>0.0</td>\n",
              "      <td>0</td>\n",
              "      <td>5</td>\n",
              "    </tr>\n",
              "    <tr>\n",
              "      <th>2</th>\n",
              "      <td>3370</td>\n",
              "      <td>720.0</td>\n",
              "      <td>0.0</td>\n",
              "      <td>0</td>\n",
              "      <td>5</td>\n",
              "    </tr>\n",
              "    <tr>\n",
              "      <th>3</th>\n",
              "      <td>3369</td>\n",
              "      <td>497.5</td>\n",
              "      <td>0.0</td>\n",
              "      <td>0</td>\n",
              "      <td>5</td>\n",
              "    </tr>\n",
              "    <tr>\n",
              "      <th>4</th>\n",
              "      <td>3368</td>\n",
              "      <td>292.0</td>\n",
              "      <td>0.0</td>\n",
              "      <td>0</td>\n",
              "      <td>5</td>\n",
              "    </tr>\n",
              "  </tbody>\n",
              "</table>\n",
              "</div>"
            ],
            "text/plain": [
              "     id   cost  item_quantity  week  day_of_week\n",
              "0     0  350.0            0.0     0            5\n",
              "1  3371  637.5            0.0     0            5\n",
              "2  3370  720.0            0.0     0            5\n",
              "3  3369  497.5            0.0     0            5\n",
              "4  3368  292.0            0.0     0            5"
            ]
          },
          "metadata": {
            "tags": []
          },
          "execution_count": 41
        }
      ]
    },
    {
      "metadata": {
        "id": "D_9VTEBj1HFS",
        "colab_type": "code",
        "colab": {}
      },
      "cell_type": "code",
      "source": [
        "# Column reordering\n",
        "train = train[['id','cost','week','day_of_week','item_quantity']]"
      ],
      "execution_count": 0,
      "outputs": []
    },
    {
      "metadata": {
        "id": "zOJJFokdvby1",
        "colab_type": "text"
      },
      "cell_type": "markdown",
      "source": [
        "# Model preprocessing"
      ]
    },
    {
      "metadata": {
        "id": "2HMJEYXIqtxT",
        "colab_type": "text"
      },
      "cell_type": "markdown",
      "source": [
        "## Splitting into Train & Test"
      ]
    },
    {
      "metadata": {
        "id": "fhkBTtU_qxFL",
        "colab_type": "code",
        "colab": {}
      },
      "cell_type": "code",
      "source": [
        "def split_into_train_and_test(dataset):\n",
        "  last_week = dataset['week'].max() # 19 week\n",
        "  dataset = dataset[dataset['week'] != last_week]\n",
        "\n",
        "  last_week = dataset['week'].max() # 18 week\n",
        "  test = dataset[dataset['week'] == last_week].copy() # 18 week\n",
        "  train = dataset[dataset['week'] != last_week] # All before 18 week\n",
        "  return train,test\n",
        "\n",
        "train, test = split_into_train_and_test(train)"
      ],
      "execution_count": 0,
      "outputs": []
    },
    {
      "metadata": {
        "id": "ubp8mvpXr_Uh",
        "colab_type": "code",
        "outputId": "f317c2b6-4044-47da-e981-c0d2b6d6a448",
        "colab": {
          "base_uri": "https://localhost:8080/",
          "height": 51
        }
      },
      "cell_type": "code",
      "source": [
        "print(f\"Last week of test: {test['week'].max()}\\nLast week of train: {train['week'].max()}.\")"
      ],
      "execution_count": 44,
      "outputs": [
        {
          "output_type": "stream",
          "text": [
            "Last week of test: 18\n",
            "Last week of train: 17.\n"
          ],
          "name": "stdout"
        }
      ]
    },
    {
      "metadata": {
        "id": "kRrk0NfCY3I2",
        "colab_type": "text"
      },
      "cell_type": "markdown",
      "source": [
        "## Splitting into X & y"
      ]
    },
    {
      "metadata": {
        "id": "UI4I4vf9ohje",
        "colab_type": "code",
        "colab": {}
      },
      "cell_type": "code",
      "source": [
        "def split(dataset):\n",
        "  return dataset[dataset.columns.values[:-1]].values, np.reshape(dataset[dataset.columns.values[-1]].values,(-1,1))\n",
        "X_train, y_train = split(train)\n",
        "X_test, y_test = split(test)\n"
      ],
      "execution_count": 0,
      "outputs": []
    },
    {
      "metadata": {
        "id": "V-8CZiLnlRm9",
        "colab_type": "text"
      },
      "cell_type": "markdown",
      "source": [
        "## Scaling for Neural Network"
      ]
    },
    {
      "metadata": {
        "id": "RB1qbN5DlVeQ",
        "colab_type": "code",
        "colab": {}
      },
      "cell_type": "code",
      "source": [
        "from sklearn.preprocessing import MinMaxScaler\n",
        "X_scaler = MinMaxScaler(feature_range=(-1, 1), copy=True)\n",
        "y_scaler = MinMaxScaler(feature_range=(-1, 1), copy=True)"
      ],
      "execution_count": 0,
      "outputs": []
    },
    {
      "metadata": {
        "id": "dbsJpToOZAsX",
        "colab_type": "code",
        "outputId": "4810cc9b-8a83-4039-fe5a-5054169d4b22",
        "colab": {
          "base_uri": "https://localhost:8080/",
          "height": 34
        }
      },
      "cell_type": "code",
      "source": [
        "X_scaler.fit(X_train)\n",
        "y_scaler.fit(y_train)"
      ],
      "execution_count": 17,
      "outputs": [
        {
          "output_type": "execute_result",
          "data": {
            "text/plain": [
              "MinMaxScaler(copy=True, feature_range=(-1, 1))"
            ]
          },
          "metadata": {
            "tags": []
          },
          "execution_count": 17
        }
      ]
    },
    {
      "metadata": {
        "id": "i2oLTdA_Zlkt",
        "colab_type": "code",
        "colab": {}
      },
      "cell_type": "code",
      "source": [
        "X_train_scaled = X_scaler.transform(X_train)\n",
        "y_train_scaled = y_scaler.transform(y_train)"
      ],
      "execution_count": 0,
      "outputs": []
    },
    {
      "metadata": {
        "id": "YRaWVdsEu4kk",
        "colab_type": "code",
        "colab": {}
      },
      "cell_type": "code",
      "source": [
        "X_test_scaled = X_scaler.transform(X_test)\n",
        "y_test_scaled = y_scaler.transform(y_test)"
      ],
      "execution_count": 0,
      "outputs": []
    },
    {
      "metadata": {
        "id": "r09qc6tAvf2l",
        "colab_type": "text"
      },
      "cell_type": "markdown",
      "source": [
        "## Model building"
      ]
    },
    {
      "metadata": {
        "id": "uU3_AA1Yw2pO",
        "colab_type": "code",
        "outputId": "17ad5d8e-8ea2-444e-a51d-0f033c041b4a",
        "colab": {
          "base_uri": "https://localhost:8080/",
          "height": 771
        }
      },
      "cell_type": "code",
      "source": [
        "model = keras.models.Sequential()\n",
        "model.add(keras.layers.Dense(20, input_shape = (X_train_scaled.shape[1],), use_bias=False))\n",
        "model.add(keras.layers.BatchNormalization(axis = -1))\n",
        "model.add(keras.layers.Activation('tanh'))\n",
        "model.add(keras.layers.Dense(15,use_bias = True))\n",
        "model.add(keras.layers.BatchNormalization(axis = -1))\n",
        "model.add(keras.layers.LeakyReLU(alpha=0.2))\n",
        "model.add(keras.layers.Dense(10,use_bias = True))\n",
        "model.add(keras.layers.BatchNormalization(axis = -1))\n",
        "model.add(keras.layers.Activation('tanh'))\n",
        "model.add(keras.layers.Dense(10,use_bias = True))\n",
        "model.add(keras.layers.BatchNormalization(axis = -1))\n",
        "model.add(keras.layers.LeakyReLU(alpha=0.2))\n",
        "model.add(keras.layers.Dense(5,use_bias = True))\n",
        "model.add(keras.layers.BatchNormalization(axis = -1))\n",
        "model.add(keras.layers.LeakyReLU(alpha=0.2))\n",
        "model.add(keras.layers.Dense(1))\n",
        "model.summary()"
      ],
      "execution_count": 20,
      "outputs": [
        {
          "output_type": "stream",
          "text": [
            "WARNING:tensorflow:From /usr/local/lib/python3.6/dist-packages/tensorflow/python/ops/resource_variable_ops.py:435: colocate_with (from tensorflow.python.framework.ops) is deprecated and will be removed in a future version.\n",
            "Instructions for updating:\n",
            "Colocations handled automatically by placer.\n",
            "_________________________________________________________________\n",
            "Layer (type)                 Output Shape              Param #   \n",
            "=================================================================\n",
            "dense (Dense)                (None, 20)                80        \n",
            "_________________________________________________________________\n",
            "batch_normalization_v1 (Batc (None, 20)                80        \n",
            "_________________________________________________________________\n",
            "activation (Activation)      (None, 20)                0         \n",
            "_________________________________________________________________\n",
            "dense_1 (Dense)              (None, 15)                315       \n",
            "_________________________________________________________________\n",
            "batch_normalization_v1_1 (Ba (None, 15)                60        \n",
            "_________________________________________________________________\n",
            "leaky_re_lu (LeakyReLU)      (None, 15)                0         \n",
            "_________________________________________________________________\n",
            "dense_2 (Dense)              (None, 10)                160       \n",
            "_________________________________________________________________\n",
            "batch_normalization_v1_2 (Ba (None, 10)                40        \n",
            "_________________________________________________________________\n",
            "activation_1 (Activation)    (None, 10)                0         \n",
            "_________________________________________________________________\n",
            "dense_3 (Dense)              (None, 10)                110       \n",
            "_________________________________________________________________\n",
            "batch_normalization_v1_3 (Ba (None, 10)                40        \n",
            "_________________________________________________________________\n",
            "leaky_re_lu_1 (LeakyReLU)    (None, 10)                0         \n",
            "_________________________________________________________________\n",
            "dense_4 (Dense)              (None, 5)                 55        \n",
            "_________________________________________________________________\n",
            "batch_normalization_v1_4 (Ba (None, 5)                 20        \n",
            "_________________________________________________________________\n",
            "leaky_re_lu_2 (LeakyReLU)    (None, 5)                 0         \n",
            "_________________________________________________________________\n",
            "dense_5 (Dense)              (None, 1)                 6         \n",
            "=================================================================\n",
            "Total params: 966\n",
            "Trainable params: 846\n",
            "Non-trainable params: 120\n",
            "_________________________________________________________________\n"
          ],
          "name": "stdout"
        }
      ]
    },
    {
      "metadata": {
        "id": "vtto_JbI0wh7",
        "colab_type": "code",
        "outputId": "b71255f0-1656-4d4a-b13e-63c16dd2adf7",
        "colab": {
          "base_uri": "https://localhost:8080/",
          "height": 128
        }
      },
      "cell_type": "code",
      "source": [
        "BATCH_SIZE = 10\n",
        "model.compile(optimizer = keras.optimizers.Adam(), loss='mean_squared_error', metrics = ['mean_absolute_error','mean_squared_error'])"
      ],
      "execution_count": 21,
      "outputs": [
        {
          "output_type": "stream",
          "text": [
            "WARNING:tensorflow:From /usr/local/lib/python3.6/dist-packages/tensorflow/python/keras/utils/losses_utils.py:170: to_float (from tensorflow.python.ops.math_ops) is deprecated and will be removed in a future version.\n",
            "Instructions for updating:\n",
            "Use tf.cast instead.\n"
          ],
          "name": "stdout"
        }
      ]
    },
    {
      "metadata": {
        "id": "gNDIJfdDza_b",
        "colab_type": "code",
        "outputId": "a1c2b9b3-55bb-41b1-c1f8-7776e63ca7ab",
        "colab": {
          "base_uri": "https://localhost:8080/",
          "height": 1020
        }
      },
      "cell_type": "code",
      "source": [
        "history = model.fit(x = X_train_scaled, y = y_train_scaled, batch_size = BATCH_SIZE, epochs = 10, validation_data = (X_test_scaled, y_test_scaled))"
      ],
      "execution_count": 22,
      "outputs": [
        {
          "output_type": "stream",
          "text": [
            "Train on 597135 samples, validate on 34545 samples\n",
            "WARNING:tensorflow:From /usr/local/lib/python3.6/dist-packages/tensorflow/python/ops/math_ops.py:3066: to_int32 (from tensorflow.python.ops.math_ops) is deprecated and will be removed in a future version.\n",
            "Instructions for updating:\n",
            "Use tf.cast instead.\n",
            "Epoch 1/10\n",
            "597135/597135 [==============================] - 533s 893us/sample - loss: 0.0017 - mean_absolute_error: 0.0085 - val_loss: 3.7328e-05 - val_mean_absolute_error: 0.0033\n",
            "Epoch 2/10\n",
            "597135/597135 [==============================] - 525s 879us/sample - loss: 2.8076e-05 - mean_absolute_error: 0.0017 - val_loss: 3.1342e-05 - val_mean_absolute_error: 0.0016\n",
            "Epoch 3/10\n",
            "597135/597135 [==============================] - 521s 872us/sample - loss: 2.7762e-05 - mean_absolute_error: 0.0016 - val_loss: 3.1394e-05 - val_mean_absolute_error: 0.0014\n",
            "Epoch 4/10\n",
            "597135/597135 [==============================] - 521s 872us/sample - loss: 2.7700e-05 - mean_absolute_error: 0.0015 - val_loss: 3.1772e-05 - val_mean_absolute_error: 0.0014\n",
            "Epoch 5/10\n",
            "597135/597135 [==============================] - 523s 876us/sample - loss: 2.7494e-05 - mean_absolute_error: 0.0016 - val_loss: 4.6851e-05 - val_mean_absolute_error: 0.0041\n",
            "Epoch 6/10\n",
            "597135/597135 [==============================] - 522s 873us/sample - loss: 2.7359e-05 - mean_absolute_error: 0.0015 - val_loss: 3.2120e-05 - val_mean_absolute_error: 0.0018\n",
            "Epoch 7/10\n",
            "597135/597135 [==============================] - 523s 876us/sample - loss: 2.7192e-05 - mean_absolute_error: 0.0014 - val_loss: 3.2317e-05 - val_mean_absolute_error: 0.0017\n",
            "Epoch 8/10\n",
            "597135/597135 [==============================] - 524s 877us/sample - loss: 2.6927e-05 - mean_absolute_error: 0.0014 - val_loss: 3.7910e-05 - val_mean_absolute_error: 0.0028\n",
            "Epoch 9/10\n",
            "597135/597135 [==============================] - 741s 1ms/sample - loss: 2.6784e-05 - mean_absolute_error: 0.0015 - val_loss: 3.1258e-05 - val_mean_absolute_error: 0.0016\n",
            "Epoch 10/10\n",
            "597135/597135 [==============================] - 661s 1ms/sample - loss: 2.6590e-05 - mean_absolute_error: 0.0014 - val_loss: 2.9994e-05 - val_mean_absolute_error: 0.0013\n"
          ],
          "name": "stdout"
        }
      ]
    },
    {
      "metadata": {
        "id": "RVzvMF0i2J_v",
        "colab_type": "code",
        "colab": {}
      },
      "cell_type": "code",
      "source": [
        "#model.save('Forte_ANN_on_zero_filled.h5')"
      ],
      "execution_count": 0,
      "outputs": []
    },
    {
      "metadata": {
        "id": "cYH7Zc1aGwH1",
        "colab_type": "code",
        "colab": {
          "base_uri": "https://localhost:8080/",
          "height": 163
        },
        "outputId": "d51feb27-17fd-434f-d4ee-41c16943c40c"
      },
      "cell_type": "code",
      "source": [
        "activate_drive()\n",
        "!cp Forte_ANN_on_zero_filled.h5 gdrive/My\\ Drive/Colab\\ Notebooks/Models/Forte"
      ],
      "execution_count": 24,
      "outputs": [
        {
          "output_type": "stream",
          "text": [
            "Drive already mounted at /content/gdrive; to attempt to forcibly remount, call drive.mount(\"/content/gdrive\", force_remount=True).\n"
          ],
          "name": "stdout"
        }
      ]
    },
    {
      "metadata": {
        "id": "JPF-VrNNVtXE",
        "colab_type": "text"
      },
      "cell_type": "markdown",
      "source": [
        "# Model loading"
      ]
    },
    {
      "metadata": {
        "id": "8T-bbR-i5NGz",
        "colab_type": "text"
      },
      "cell_type": "markdown",
      "source": [
        "## Visualization"
      ]
    },
    {
      "metadata": {
        "id": "eDF3Wp2n0uNk",
        "colab_type": "code",
        "outputId": "c3ff95ea-eea5-44fa-a651-7a62f7cea70c",
        "colab": {
          "base_uri": "https://localhost:8080/",
          "height": 638
        }
      },
      "cell_type": "code",
      "source": [
        "plot_process(history, 'Linear.png')"
      ],
      "execution_count": 25,
      "outputs": [
        {
          "output_type": "display_data",
          "data": {
            "image/png": "[encoded data removed]",
            "text/plain": [
              "<Figure size 1080x720 with 1 Axes>"
            ]
          },
          "metadata": {
            "tags": []
          }
        },
        {
          "output_type": "display_data",
          "data": {
            "text/plain": [
              "<Figure size 432x288 with 0 Axes>"
            ]
          },
          "metadata": {
            "tags": []
          }
        }
      ]
    },
    {
      "metadata": {
        "id": "W7Ei2gEXI_2S",
        "colab_type": "text"
      },
      "cell_type": "markdown",
      "source": [
        "## Small evaluation"
      ]
    },
    {
      "metadata": {
        "id": "JOCHfEyi3P7z",
        "colab_type": "code",
        "colab": {}
      },
      "cell_type": "code",
      "source": [
        "# Fetching absolute & relative errors\n",
        "absolute_error = y_scaler.inverse_transform(np.reshape(history.history['val_mean_absolute_error'],(-1,1)))[-1][0]\n",
        "total_sales = test[['week','item_quantity']].groupby(by = ['week']).agg({'item_quantity':'sum'}).reset_index().iloc[0,1]\n"
      ],
      "execution_count": 0,
      "outputs": []
    },
    {
      "metadata": {
        "id": "W9T6FqFGIpjj",
        "colab_type": "code",
        "outputId": "0e7001e7-8421-49da-d1fe-807bff8d588e",
        "colab": {
          "base_uri": "https://localhost:8080/",
          "height": 51
        }
      },
      "cell_type": "code",
      "source": [
        "print(f\"Total absolute error: {absolute_error}\\nTotal relative error: {absolute_error/total_sales}%\")"
      ],
      "execution_count": 47,
      "outputs": [
        {
          "output_type": "stream",
          "text": [
            "Total absolute error: 284.8639221191406\n",
            "Total relative error: 0.03856809126985386%\n"
          ],
          "name": "stdout"
        }
      ]
    },
    {
      "metadata": {
        "id": "VW4NamYCTQWa",
        "colab_type": "text"
      },
      "cell_type": "markdown",
      "source": [
        "## Model saving & Transferring to google cloud"
      ]
    },
    {
      "metadata": {
        "id": "c3z8aYqlTRh1",
        "colab_type": "code",
        "colab": {}
      },
      "cell_type": "code",
      "source": [
        "model.save('Forte_ANN_on_zero_filled.h5')"
      ],
      "execution_count": 0,
      "outputs": []
    },
    {
      "metadata": {
        "id": "zL9p4_VtUM3i",
        "colab_type": "code",
        "outputId": "867e4508-edfa-4894-9fb4-36823321dde0",
        "colab": {
          "base_uri": "https://localhost:8080/",
          "height": 163
        }
      },
      "cell_type": "code",
      "source": [
        "activate_drive()\n",
        "!cp Forte_MLP.h5 gdrive/My\\ Drive/Colab\\ Notebooks/Models/Forte"
      ],
      "execution_count": 49,
      "outputs": [
        {
          "output_type": "stream",
          "text": [
            "Drive already mounted at /content/gdrive; to attempt to forcibly remount, call drive.mount(\"/content/gdrive\", force_remount=True).\n"
          ],
          "name": "stdout"
        }
      ]
    },
    {
      "metadata": {
        "id": "zL5Zl91cVUq-",
        "colab_type": "text"
      },
      "cell_type": "markdown",
      "source": [
        "## Deeper evaluation"
      ]
    },
    {
      "metadata": {
        "id": "17hzeeWKVW_E",
        "colab_type": "code",
        "colab": {}
      },
      "cell_type": "code",
      "source": [
        "# prediction on y_test\n",
        "y_test_predicted_scaled = model.predict(X_test_scaled)\n",
        "y_test_predicted = y_scaler.inverse_transform(y_test_predicted_scaled)\n",
        "y_test_predicted = np.round(y_test_predicted)\n",
        "\n",
        "# prediction on y_train\n",
        "y_train_predicted_scaled = model.predict(X_train_scaled)\n",
        "y_train_predicted = y_scaler.inverse_transform(y_train_predicted_scaled)\n",
        "y_train_predicted = np.round(y_train_predicted)\n",
        "\n",
        "# Building a predicted train dataframe\n",
        "train_predicted = train.copy()\n",
        "train_predicted['item_quantity'] = y_train_predicted\n",
        "\n",
        "# Building a predicted test dataframe\n",
        "test_predicted = test.copy()\n",
        "test_predicted['item_quantity'] = y_test_predicted\n",
        "\n",
        "# Grouping by week number\n",
        "train_predicted_grouped = train_predicted[['week','item_quantity']].groupby(['week']).agg({'item_quantity':'sum'}).reset_index().apply(lambda x: x)\n",
        "test_predicted_grouped = test_predicted[['week','item_quantity']].groupby(['week']).agg({'item_quantity':'sum'}).reset_index().apply(lambda x: x)"
      ],
      "execution_count": 0,
      "outputs": []
    },
    {
      "metadata": {
        "id": "7T4SW8rtn6yP",
        "colab_type": "code",
        "colab": {}
      },
      "cell_type": "code",
      "source": [
        "# Grouping a datasets with actual datas\n",
        "train_grouped = train[['week','item_quantity']].groupby(['week']).agg({'item_quantity':'sum'}).reset_index().apply(lambda x: x)\n",
        "test_grouped = test[['week','item_quantity']].groupby(['week']).agg({'item_quantity':'sum'}).reset_index().apply(lambda x: x)"
      ],
      "execution_count": 0,
      "outputs": []
    },
    {
      "metadata": {
        "id": "KHhBwk41u9W3",
        "colab_type": "code",
        "outputId": "33be347b-3cb0-42fe-e038-a4b8cfe0dfa2",
        "colab": {
          "base_uri": "https://localhost:8080/",
          "height": 607
        }
      },
      "cell_type": "code",
      "source": [
        "train_grouped"
      ],
      "execution_count": 54,
      "outputs": [
        {
          "output_type": "execute_result",
          "data": {
            "text/html": [
              "<div>\n",
              "<style scoped>\n",
              "    .dataframe tbody tr th:only-of-type {\n",
              "        vertical-align: middle;\n",
              "    }\n",
              "\n",
              "    .dataframe tbody tr th {\n",
              "        vertical-align: top;\n",
              "    }\n",
              "\n",
              "    .dataframe thead th {\n",
              "        text-align: right;\n",
              "    }\n",
              "</style>\n",
              "<table border=\"1\" class=\"dataframe\">\n",
              "  <thead>\n",
              "    <tr style=\"text-align: right;\">\n",
              "      <th></th>\n",
              "      <th>week</th>\n",
              "      <th>item_quantity</th>\n",
              "    </tr>\n",
              "  </thead>\n",
              "  <tbody>\n",
              "    <tr>\n",
              "      <th>0</th>\n",
              "      <td>0</td>\n",
              "      <td>1272.0</td>\n",
              "    </tr>\n",
              "    <tr>\n",
              "      <th>1</th>\n",
              "      <td>1</td>\n",
              "      <td>4460.0</td>\n",
              "    </tr>\n",
              "    <tr>\n",
              "      <th>2</th>\n",
              "      <td>2</td>\n",
              "      <td>4705.0</td>\n",
              "    </tr>\n",
              "    <tr>\n",
              "      <th>3</th>\n",
              "      <td>3</td>\n",
              "      <td>4763.0</td>\n",
              "    </tr>\n",
              "    <tr>\n",
              "      <th>4</th>\n",
              "      <td>4</td>\n",
              "      <td>4913.0</td>\n",
              "    </tr>\n",
              "    <tr>\n",
              "      <th>5</th>\n",
              "      <td>5</td>\n",
              "      <td>4322.0</td>\n",
              "    </tr>\n",
              "    <tr>\n",
              "      <th>6</th>\n",
              "      <td>6</td>\n",
              "      <td>4808.0</td>\n",
              "    </tr>\n",
              "    <tr>\n",
              "      <th>7</th>\n",
              "      <td>7</td>\n",
              "      <td>6051.0</td>\n",
              "    </tr>\n",
              "    <tr>\n",
              "      <th>8</th>\n",
              "      <td>8</td>\n",
              "      <td>5095.0</td>\n",
              "    </tr>\n",
              "    <tr>\n",
              "      <th>9</th>\n",
              "      <td>9</td>\n",
              "      <td>5272.0</td>\n",
              "    </tr>\n",
              "    <tr>\n",
              "      <th>10</th>\n",
              "      <td>10</td>\n",
              "      <td>5900.0</td>\n",
              "    </tr>\n",
              "    <tr>\n",
              "      <th>11</th>\n",
              "      <td>11</td>\n",
              "      <td>6346.0</td>\n",
              "    </tr>\n",
              "    <tr>\n",
              "      <th>12</th>\n",
              "      <td>12</td>\n",
              "      <td>5299.0</td>\n",
              "    </tr>\n",
              "    <tr>\n",
              "      <th>13</th>\n",
              "      <td>13</td>\n",
              "      <td>11328.0</td>\n",
              "    </tr>\n",
              "    <tr>\n",
              "      <th>14</th>\n",
              "      <td>14</td>\n",
              "      <td>5602.0</td>\n",
              "    </tr>\n",
              "    <tr>\n",
              "      <th>15</th>\n",
              "      <td>15</td>\n",
              "      <td>6236.0</td>\n",
              "    </tr>\n",
              "    <tr>\n",
              "      <th>16</th>\n",
              "      <td>16</td>\n",
              "      <td>6004.0</td>\n",
              "    </tr>\n",
              "    <tr>\n",
              "      <th>17</th>\n",
              "      <td>17</td>\n",
              "      <td>6477.0</td>\n",
              "    </tr>\n",
              "  </tbody>\n",
              "</table>\n",
              "</div>"
            ],
            "text/plain": [
              "    week  item_quantity\n",
              "0      0         1272.0\n",
              "1      1         4460.0\n",
              "2      2         4705.0\n",
              "3      3         4763.0\n",
              "4      4         4913.0\n",
              "5      5         4322.0\n",
              "6      6         4808.0\n",
              "7      7         6051.0\n",
              "8      8         5095.0\n",
              "9      9         5272.0\n",
              "10    10         5900.0\n",
              "11    11         6346.0\n",
              "12    12         5299.0\n",
              "13    13        11328.0\n",
              "14    14         5602.0\n",
              "15    15         6236.0\n",
              "16    16         6004.0\n",
              "17    17         6477.0"
            ]
          },
          "metadata": {
            "tags": []
          },
          "execution_count": 54
        }
      ]
    },
    {
      "metadata": {
        "id": "fnS5m5OngsBn",
        "colab_type": "code",
        "outputId": "dbf680e1-ddc7-41cd-d5db-a29c9b28e0f5",
        "colab": {
          "base_uri": "https://localhost:8080/",
          "height": 621
        }
      },
      "cell_type": "code",
      "source": [
        "plt.figure(figsize=(15,10))\n",
        "\n",
        "plt.plot(train_grouped['week'], train_grouped['item_quantity'], color = 'black', alpha = 0.7)\n",
        "plt.scatter(test_grouped['week'], test_grouped['item_quantity'], color = 'black', alpha = 0.7)\n",
        "\n",
        "plt.plot(train_predicted_grouped['week'], train_predicted_grouped['item_quantity'], color = 'purple', alpha = 0.7)\n",
        "plt.scatter(test_predicted_grouped['week'], test_predicted_grouped['item_quantity'], color = 'purple', alpha = 0.7)\n",
        "\n",
        "plt.title('Actual vs Prediciton')\n",
        "plt.ylabel('Item count')\n",
        "plt.xlabel('Month')\n",
        "plt.legend(['Black - actual', 'Purple - predicted', ], loc='upper right')\n",
        "plt.show()"
      ],
      "execution_count": 55,
      "outputs": [
        {
          "output_type": "display_data",
          "data": {
            "image/png": "[encoded data removed]",
            "text/plain": [
              "<Figure size 1080x720 with 1 Axes>"
            ]
          },
          "metadata": {
            "tags": []
          }
        }
      ]
    }
  ]
}